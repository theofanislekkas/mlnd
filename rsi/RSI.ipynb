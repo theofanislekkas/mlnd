{
 "cells": [
  {
   "cell_type": "code",
   "execution_count": 1,
   "metadata": {
    "collapsed": false
   },
   "outputs": [
    {
     "name": "stdout",
     "output_type": "stream",
     "text": [
      "Using matplotlib backend: MacOSX\n"
     ]
    }
   ],
   "source": [
    "from __future__ import division\n",
    "\n",
    "import numpy as np\n",
    "import pandas as pd\n",
    "\n",
    "import matplotlib.pyplot as plt\n",
    "\n",
    "from matplotlib import finance\n",
    "\n",
    "%matplotlib"
   ]
  },
  {
   "cell_type": "markdown",
   "metadata": {},
   "source": [
    "# Loading and Exploring the Data"
   ]
  },
  {
   "cell_type": "code",
   "execution_count": 2,
   "metadata": {
    "collapsed": true
   },
   "outputs": [],
   "source": [
    "data = pd.read_csv('WIKI_20160608.csv', names=['Ticker', 'Date', 'Open', 'High', 'Low', 'Close',\n",
    "                                              'Volume', '7', '8', 'Adj-O', 'Adj-H', 'Adj-L', 'Adj-C',\n",
    "                                              'Adj-Vol'])"
   ]
  },
  {
   "cell_type": "code",
   "execution_count": 3,
   "metadata": {
    "collapsed": false
   },
   "outputs": [
    {
     "data": {
      "text/html": [
       "<div>\n",
       "<table border=\"1\" class=\"dataframe\">\n",
       "  <thead>\n",
       "    <tr style=\"text-align: right;\">\n",
       "      <th></th>\n",
       "      <th>Ticker</th>\n",
       "      <th>Date</th>\n",
       "      <th>Open</th>\n",
       "      <th>High</th>\n",
       "      <th>Low</th>\n",
       "      <th>Close</th>\n",
       "      <th>Volume</th>\n",
       "      <th>7</th>\n",
       "      <th>8</th>\n",
       "      <th>Adj-O</th>\n",
       "      <th>Adj-H</th>\n",
       "      <th>Adj-L</th>\n",
       "      <th>Adj-C</th>\n",
       "      <th>Adj-Vol</th>\n",
       "    </tr>\n",
       "  </thead>\n",
       "  <tbody>\n",
       "    <tr>\n",
       "      <th>0</th>\n",
       "      <td>A</td>\n",
       "      <td>1999-11-18</td>\n",
       "      <td>45.50</td>\n",
       "      <td>50.00</td>\n",
       "      <td>40.00</td>\n",
       "      <td>44.00</td>\n",
       "      <td>44739900.0</td>\n",
       "      <td>0.0</td>\n",
       "      <td>1.0</td>\n",
       "      <td>43.584507</td>\n",
       "      <td>47.895063</td>\n",
       "      <td>38.316050</td>\n",
       "      <td>42.147655</td>\n",
       "      <td>44739900.0</td>\n",
       "    </tr>\n",
       "    <tr>\n",
       "      <th>1</th>\n",
       "      <td>A</td>\n",
       "      <td>1999-11-19</td>\n",
       "      <td>42.94</td>\n",
       "      <td>43.00</td>\n",
       "      <td>39.81</td>\n",
       "      <td>40.38</td>\n",
       "      <td>10897100.0</td>\n",
       "      <td>0.0</td>\n",
       "      <td>1.0</td>\n",
       "      <td>41.132280</td>\n",
       "      <td>41.189754</td>\n",
       "      <td>38.134049</td>\n",
       "      <td>38.680053</td>\n",
       "      <td>10897100.0</td>\n",
       "    </tr>\n",
       "    <tr>\n",
       "      <th>2</th>\n",
       "      <td>A</td>\n",
       "      <td>1999-11-22</td>\n",
       "      <td>41.31</td>\n",
       "      <td>44.00</td>\n",
       "      <td>40.06</td>\n",
       "      <td>44.00</td>\n",
       "      <td>4705200.0</td>\n",
       "      <td>0.0</td>\n",
       "      <td>1.0</td>\n",
       "      <td>39.570901</td>\n",
       "      <td>42.147655</td>\n",
       "      <td>38.373524</td>\n",
       "      <td>42.147655</td>\n",
       "      <td>4705200.0</td>\n",
       "    </tr>\n",
       "    <tr>\n",
       "      <th>3</th>\n",
       "      <td>A</td>\n",
       "      <td>1999-11-23</td>\n",
       "      <td>42.50</td>\n",
       "      <td>43.63</td>\n",
       "      <td>40.25</td>\n",
       "      <td>40.25</td>\n",
       "      <td>4274400.0</td>\n",
       "      <td>0.0</td>\n",
       "      <td>1.0</td>\n",
       "      <td>40.710803</td>\n",
       "      <td>41.793232</td>\n",
       "      <td>38.555525</td>\n",
       "      <td>38.555525</td>\n",
       "      <td>4274400.0</td>\n",
       "    </tr>\n",
       "    <tr>\n",
       "      <th>4</th>\n",
       "      <td>A</td>\n",
       "      <td>1999-11-24</td>\n",
       "      <td>40.13</td>\n",
       "      <td>41.94</td>\n",
       "      <td>40.00</td>\n",
       "      <td>41.06</td>\n",
       "      <td>3464400.0</td>\n",
       "      <td>0.0</td>\n",
       "      <td>1.0</td>\n",
       "      <td>38.440577</td>\n",
       "      <td>40.174379</td>\n",
       "      <td>38.316050</td>\n",
       "      <td>39.331425</td>\n",
       "      <td>3464400.0</td>\n",
       "    </tr>\n",
       "  </tbody>\n",
       "</table>\n",
       "</div>"
      ],
      "text/plain": [
       "  Ticker        Date   Open   High    Low  Close      Volume    7    8  \\\n",
       "0      A  1999-11-18  45.50  50.00  40.00  44.00  44739900.0  0.0  1.0   \n",
       "1      A  1999-11-19  42.94  43.00  39.81  40.38  10897100.0  0.0  1.0   \n",
       "2      A  1999-11-22  41.31  44.00  40.06  44.00   4705200.0  0.0  1.0   \n",
       "3      A  1999-11-23  42.50  43.63  40.25  40.25   4274400.0  0.0  1.0   \n",
       "4      A  1999-11-24  40.13  41.94  40.00  41.06   3464400.0  0.0  1.0   \n",
       "\n",
       "       Adj-O      Adj-H      Adj-L      Adj-C     Adj-Vol  \n",
       "0  43.584507  47.895063  38.316050  42.147655  44739900.0  \n",
       "1  41.132280  41.189754  38.134049  38.680053  10897100.0  \n",
       "2  39.570901  42.147655  38.373524  42.147655   4705200.0  \n",
       "3  40.710803  41.793232  38.555525  38.555525   4274400.0  \n",
       "4  38.440577  40.174379  38.316050  39.331425   3464400.0  "
      ]
     },
     "execution_count": 3,
     "metadata": {},
     "output_type": "execute_result"
    }
   ],
   "source": [
    "data.head()"
   ]
  },
  {
   "cell_type": "markdown",
   "metadata": {},
   "source": [
    "Create a new dataframe with only the adjusted data, data, & ticker symbol."
   ]
  },
  {
   "cell_type": "code",
   "execution_count": 4,
   "metadata": {
    "collapsed": false
   },
   "outputs": [],
   "source": [
    "dat = data[['Ticker', 'Date', 'Adj-O', 'Adj-H', 'Adj-L', 'Adj-C', 'Adj-Vol']]"
   ]
  },
  {
   "cell_type": "code",
   "execution_count": 5,
   "metadata": {
    "collapsed": false
   },
   "outputs": [
    {
     "name": "stdout",
     "output_type": "stream",
     "text": [
      "  Ticker        Date      Adj-O      Adj-H      Adj-L      Adj-C     Adj-Vol\n",
      "0      A  1999-11-18  43.584507  47.895063  38.316050  42.147655  44739900.0\n",
      "1      A  1999-11-19  41.132280  41.189754  38.134049  38.680053  10897100.0\n",
      "2      A  1999-11-22  39.570901  42.147655  38.373524  42.147655   4705200.0\n",
      "3      A  1999-11-23  40.710803  41.793232  38.555525  38.555525   4274400.0\n",
      "4      A  1999-11-24  38.440577  40.174379  38.316050  39.331425   3464400.0\n",
      "(14150093, 7)\n"
     ]
    }
   ],
   "source": [
    "print dat.head()\n",
    "print dat.shape"
   ]
  },
  {
   "cell_type": "code",
   "execution_count": 6,
   "metadata": {
    "collapsed": false
   },
   "outputs": [],
   "source": [
    "agilent = dat[dat['Ticker'] == 'A']"
   ]
  },
  {
   "cell_type": "code",
   "execution_count": 7,
   "metadata": {
    "collapsed": false
   },
   "outputs": [
    {
     "data": {
      "text/html": [
       "<div>\n",
       "<table border=\"1\" class=\"dataframe\">\n",
       "  <thead>\n",
       "    <tr style=\"text-align: right;\">\n",
       "      <th></th>\n",
       "      <th>Ticker</th>\n",
       "      <th>Date</th>\n",
       "      <th>Adj-O</th>\n",
       "      <th>Adj-H</th>\n",
       "      <th>Adj-L</th>\n",
       "      <th>Adj-C</th>\n",
       "      <th>Adj-Vol</th>\n",
       "    </tr>\n",
       "  </thead>\n",
       "  <tbody>\n",
       "    <tr>\n",
       "      <th>0</th>\n",
       "      <td>A</td>\n",
       "      <td>1999-11-18</td>\n",
       "      <td>43.584507</td>\n",
       "      <td>47.895063</td>\n",
       "      <td>38.316050</td>\n",
       "      <td>42.147655</td>\n",
       "      <td>44739900.0</td>\n",
       "    </tr>\n",
       "    <tr>\n",
       "      <th>1</th>\n",
       "      <td>A</td>\n",
       "      <td>1999-11-19</td>\n",
       "      <td>41.132280</td>\n",
       "      <td>41.189754</td>\n",
       "      <td>38.134049</td>\n",
       "      <td>38.680053</td>\n",
       "      <td>10897100.0</td>\n",
       "    </tr>\n",
       "    <tr>\n",
       "      <th>2</th>\n",
       "      <td>A</td>\n",
       "      <td>1999-11-22</td>\n",
       "      <td>39.570901</td>\n",
       "      <td>42.147655</td>\n",
       "      <td>38.373524</td>\n",
       "      <td>42.147655</td>\n",
       "      <td>4705200.0</td>\n",
       "    </tr>\n",
       "    <tr>\n",
       "      <th>3</th>\n",
       "      <td>A</td>\n",
       "      <td>1999-11-23</td>\n",
       "      <td>40.710803</td>\n",
       "      <td>41.793232</td>\n",
       "      <td>38.555525</td>\n",
       "      <td>38.555525</td>\n",
       "      <td>4274400.0</td>\n",
       "    </tr>\n",
       "    <tr>\n",
       "      <th>4</th>\n",
       "      <td>A</td>\n",
       "      <td>1999-11-24</td>\n",
       "      <td>38.440577</td>\n",
       "      <td>40.174379</td>\n",
       "      <td>38.316050</td>\n",
       "      <td>39.331425</td>\n",
       "      <td>3464400.0</td>\n",
       "    </tr>\n",
       "  </tbody>\n",
       "</table>\n",
       "</div>"
      ],
      "text/plain": [
       "  Ticker        Date      Adj-O      Adj-H      Adj-L      Adj-C     Adj-Vol\n",
       "0      A  1999-11-18  43.584507  47.895063  38.316050  42.147655  44739900.0\n",
       "1      A  1999-11-19  41.132280  41.189754  38.134049  38.680053  10897100.0\n",
       "2      A  1999-11-22  39.570901  42.147655  38.373524  42.147655   4705200.0\n",
       "3      A  1999-11-23  40.710803  41.793232  38.555525  38.555525   4274400.0\n",
       "4      A  1999-11-24  38.440577  40.174379  38.316050  39.331425   3464400.0"
      ]
     },
     "execution_count": 7,
     "metadata": {},
     "output_type": "execute_result"
    }
   ],
   "source": [
    "agilent.head()"
   ]
  },
  {
   "cell_type": "markdown",
   "metadata": {},
   "source": [
    "Create an array of ticker symbols"
   ]
  },
  {
   "cell_type": "code",
   "execution_count": 8,
   "metadata": {
    "collapsed": false
   },
   "outputs": [
    {
     "data": {
      "text/plain": [
       "3179"
      ]
     },
     "execution_count": 8,
     "metadata": {},
     "output_type": "execute_result"
    }
   ],
   "source": [
    "tickers = dat['Ticker']\n",
    "tickers = tickers.unique()\n",
    "len(tickers)"
   ]
  },
  {
   "cell_type": "code",
   "execution_count": 9,
   "metadata": {
    "collapsed": false
   },
   "outputs": [],
   "source": [
    "a_20 = agilent.iloc[-21:]"
   ]
  },
  {
   "cell_type": "code",
   "execution_count": 10,
   "metadata": {
    "collapsed": false
   },
   "outputs": [
    {
     "data": {
      "text/plain": [
       "Index([u'Ticker', u'Date', u'Adj-O', u'Adj-H', u'Adj-L', u'Adj-C', u'Adj-Vol'], dtype='object')"
      ]
     },
     "execution_count": 10,
     "metadata": {},
     "output_type": "execute_result"
    }
   ],
   "source": [
    "a_20.columns"
   ]
  },
  {
   "cell_type": "code",
   "execution_count": 11,
   "metadata": {
    "collapsed": false
   },
   "outputs": [
    {
     "data": {
      "text/html": [
       "<div>\n",
       "<table border=\"1\" class=\"dataframe\">\n",
       "  <thead>\n",
       "    <tr style=\"text-align: right;\">\n",
       "      <th></th>\n",
       "      <th>Ticker</th>\n",
       "      <th>Date</th>\n",
       "      <th>Adj-O</th>\n",
       "      <th>Adj-H</th>\n",
       "      <th>Adj-L</th>\n",
       "      <th>Adj-C</th>\n",
       "      <th>Adj-Vol</th>\n",
       "    </tr>\n",
       "  </thead>\n",
       "  <tbody>\n",
       "    <tr>\n",
       "      <th>4142</th>\n",
       "      <td>A</td>\n",
       "      <td>2016-05-10</td>\n",
       "      <td>41.50</td>\n",
       "      <td>42.000</td>\n",
       "      <td>41.3500</td>\n",
       "      <td>42.00</td>\n",
       "      <td>2094305.0</td>\n",
       "    </tr>\n",
       "    <tr>\n",
       "      <th>4143</th>\n",
       "      <td>A</td>\n",
       "      <td>2016-05-11</td>\n",
       "      <td>42.19</td>\n",
       "      <td>43.200</td>\n",
       "      <td>42.1200</td>\n",
       "      <td>42.46</td>\n",
       "      <td>3316017.0</td>\n",
       "    </tr>\n",
       "    <tr>\n",
       "      <th>4144</th>\n",
       "      <td>A</td>\n",
       "      <td>2016-05-12</td>\n",
       "      <td>42.59</td>\n",
       "      <td>42.940</td>\n",
       "      <td>42.4200</td>\n",
       "      <td>42.73</td>\n",
       "      <td>2224503.0</td>\n",
       "    </tr>\n",
       "    <tr>\n",
       "      <th>4145</th>\n",
       "      <td>A</td>\n",
       "      <td>2016-05-13</td>\n",
       "      <td>42.55</td>\n",
       "      <td>42.930</td>\n",
       "      <td>42.3900</td>\n",
       "      <td>42.62</td>\n",
       "      <td>2423939.0</td>\n",
       "    </tr>\n",
       "    <tr>\n",
       "      <th>4146</th>\n",
       "      <td>A</td>\n",
       "      <td>2016-05-16</td>\n",
       "      <td>42.61</td>\n",
       "      <td>43.070</td>\n",
       "      <td>42.5000</td>\n",
       "      <td>42.94</td>\n",
       "      <td>3797878.0</td>\n",
       "    </tr>\n",
       "    <tr>\n",
       "      <th>4147</th>\n",
       "      <td>A</td>\n",
       "      <td>2016-05-17</td>\n",
       "      <td>44.96</td>\n",
       "      <td>45.340</td>\n",
       "      <td>43.6300</td>\n",
       "      <td>44.41</td>\n",
       "      <td>7127081.0</td>\n",
       "    </tr>\n",
       "    <tr>\n",
       "      <th>4148</th>\n",
       "      <td>A</td>\n",
       "      <td>2016-05-18</td>\n",
       "      <td>44.45</td>\n",
       "      <td>44.740</td>\n",
       "      <td>43.9900</td>\n",
       "      <td>44.32</td>\n",
       "      <td>2973827.0</td>\n",
       "    </tr>\n",
       "    <tr>\n",
       "      <th>4149</th>\n",
       "      <td>A</td>\n",
       "      <td>2016-05-19</td>\n",
       "      <td>44.07</td>\n",
       "      <td>44.820</td>\n",
       "      <td>43.9750</td>\n",
       "      <td>44.56</td>\n",
       "      <td>3659486.0</td>\n",
       "    </tr>\n",
       "    <tr>\n",
       "      <th>4150</th>\n",
       "      <td>A</td>\n",
       "      <td>2016-05-20</td>\n",
       "      <td>44.86</td>\n",
       "      <td>45.220</td>\n",
       "      <td>44.6900</td>\n",
       "      <td>44.89</td>\n",
       "      <td>2567352.0</td>\n",
       "    </tr>\n",
       "    <tr>\n",
       "      <th>4151</th>\n",
       "      <td>A</td>\n",
       "      <td>2016-05-23</td>\n",
       "      <td>44.89</td>\n",
       "      <td>44.960</td>\n",
       "      <td>44.5300</td>\n",
       "      <td>44.57</td>\n",
       "      <td>1689745.0</td>\n",
       "    </tr>\n",
       "    <tr>\n",
       "      <th>4152</th>\n",
       "      <td>A</td>\n",
       "      <td>2016-05-24</td>\n",
       "      <td>44.76</td>\n",
       "      <td>45.290</td>\n",
       "      <td>44.7000</td>\n",
       "      <td>45.03</td>\n",
       "      <td>3236305.0</td>\n",
       "    </tr>\n",
       "    <tr>\n",
       "      <th>4153</th>\n",
       "      <td>A</td>\n",
       "      <td>2016-05-25</td>\n",
       "      <td>45.12</td>\n",
       "      <td>45.610</td>\n",
       "      <td>45.1200</td>\n",
       "      <td>45.42</td>\n",
       "      <td>2352324.0</td>\n",
       "    </tr>\n",
       "    <tr>\n",
       "      <th>4154</th>\n",
       "      <td>A</td>\n",
       "      <td>2016-05-26</td>\n",
       "      <td>45.58</td>\n",
       "      <td>45.600</td>\n",
       "      <td>45.2000</td>\n",
       "      <td>45.51</td>\n",
       "      <td>2562570.0</td>\n",
       "    </tr>\n",
       "    <tr>\n",
       "      <th>4155</th>\n",
       "      <td>A</td>\n",
       "      <td>2016-05-27</td>\n",
       "      <td>45.55</td>\n",
       "      <td>45.850</td>\n",
       "      <td>45.3700</td>\n",
       "      <td>45.82</td>\n",
       "      <td>1822747.0</td>\n",
       "    </tr>\n",
       "    <tr>\n",
       "      <th>4156</th>\n",
       "      <td>A</td>\n",
       "      <td>2016-05-31</td>\n",
       "      <td>45.79</td>\n",
       "      <td>46.000</td>\n",
       "      <td>45.5750</td>\n",
       "      <td>45.89</td>\n",
       "      <td>2130875.0</td>\n",
       "    </tr>\n",
       "    <tr>\n",
       "      <th>4157</th>\n",
       "      <td>A</td>\n",
       "      <td>2016-06-01</td>\n",
       "      <td>45.75</td>\n",
       "      <td>46.095</td>\n",
       "      <td>45.4500</td>\n",
       "      <td>45.95</td>\n",
       "      <td>1733631.0</td>\n",
       "    </tr>\n",
       "    <tr>\n",
       "      <th>4158</th>\n",
       "      <td>A</td>\n",
       "      <td>2016-06-02</td>\n",
       "      <td>45.91</td>\n",
       "      <td>46.150</td>\n",
       "      <td>45.8200</td>\n",
       "      <td>45.90</td>\n",
       "      <td>2209382.0</td>\n",
       "    </tr>\n",
       "    <tr>\n",
       "      <th>4159</th>\n",
       "      <td>A</td>\n",
       "      <td>2016-06-03</td>\n",
       "      <td>45.73</td>\n",
       "      <td>45.850</td>\n",
       "      <td>45.1900</td>\n",
       "      <td>45.72</td>\n",
       "      <td>2395064.0</td>\n",
       "    </tr>\n",
       "    <tr>\n",
       "      <th>4160</th>\n",
       "      <td>A</td>\n",
       "      <td>2016-06-06</td>\n",
       "      <td>45.72</td>\n",
       "      <td>46.010</td>\n",
       "      <td>45.7200</td>\n",
       "      <td>45.86</td>\n",
       "      <td>2359043.0</td>\n",
       "    </tr>\n",
       "    <tr>\n",
       "      <th>4161</th>\n",
       "      <td>A</td>\n",
       "      <td>2016-06-07</td>\n",
       "      <td>45.81</td>\n",
       "      <td>45.950</td>\n",
       "      <td>45.6099</td>\n",
       "      <td>45.75</td>\n",
       "      <td>1500376.0</td>\n",
       "    </tr>\n",
       "    <tr>\n",
       "      <th>4162</th>\n",
       "      <td>A</td>\n",
       "      <td>2016-06-08</td>\n",
       "      <td>45.75</td>\n",
       "      <td>46.180</td>\n",
       "      <td>45.7100</td>\n",
       "      <td>46.15</td>\n",
       "      <td>1552101.0</td>\n",
       "    </tr>\n",
       "  </tbody>\n",
       "</table>\n",
       "</div>"
      ],
      "text/plain": [
       "     Ticker        Date  Adj-O   Adj-H    Adj-L  Adj-C    Adj-Vol\n",
       "4142      A  2016-05-10  41.50  42.000  41.3500  42.00  2094305.0\n",
       "4143      A  2016-05-11  42.19  43.200  42.1200  42.46  3316017.0\n",
       "4144      A  2016-05-12  42.59  42.940  42.4200  42.73  2224503.0\n",
       "4145      A  2016-05-13  42.55  42.930  42.3900  42.62  2423939.0\n",
       "4146      A  2016-05-16  42.61  43.070  42.5000  42.94  3797878.0\n",
       "4147      A  2016-05-17  44.96  45.340  43.6300  44.41  7127081.0\n",
       "4148      A  2016-05-18  44.45  44.740  43.9900  44.32  2973827.0\n",
       "4149      A  2016-05-19  44.07  44.820  43.9750  44.56  3659486.0\n",
       "4150      A  2016-05-20  44.86  45.220  44.6900  44.89  2567352.0\n",
       "4151      A  2016-05-23  44.89  44.960  44.5300  44.57  1689745.0\n",
       "4152      A  2016-05-24  44.76  45.290  44.7000  45.03  3236305.0\n",
       "4153      A  2016-05-25  45.12  45.610  45.1200  45.42  2352324.0\n",
       "4154      A  2016-05-26  45.58  45.600  45.2000  45.51  2562570.0\n",
       "4155      A  2016-05-27  45.55  45.850  45.3700  45.82  1822747.0\n",
       "4156      A  2016-05-31  45.79  46.000  45.5750  45.89  2130875.0\n",
       "4157      A  2016-06-01  45.75  46.095  45.4500  45.95  1733631.0\n",
       "4158      A  2016-06-02  45.91  46.150  45.8200  45.90  2209382.0\n",
       "4159      A  2016-06-03  45.73  45.850  45.1900  45.72  2395064.0\n",
       "4160      A  2016-06-06  45.72  46.010  45.7200  45.86  2359043.0\n",
       "4161      A  2016-06-07  45.81  45.950  45.6099  45.75  1500376.0\n",
       "4162      A  2016-06-08  45.75  46.180  45.7100  46.15  1552101.0"
      ]
     },
     "execution_count": 11,
     "metadata": {},
     "output_type": "execute_result"
    }
   ],
   "source": [
    "a_20"
   ]
  },
  {
   "cell_type": "markdown",
   "metadata": {},
   "source": [
    "## Ticker Function"
   ]
  },
  {
   "cell_type": "code",
   "execution_count": 12,
   "metadata": {
    "collapsed": true
   },
   "outputs": [],
   "source": [
    "def tick_gettr(ticker):\n",
    "    data = dat[dat['Ticker'] == ticker]\n",
    "    return data"
   ]
  },
  {
   "cell_type": "code",
   "execution_count": 31,
   "metadata": {
    "collapsed": true
   },
   "outputs": [],
   "source": [
    "aapl = tick_gettr('AAPL')"
   ]
  },
  {
   "cell_type": "markdown",
   "metadata": {},
   "source": [
    "# Basic Calculations"
   ]
  },
  {
   "cell_type": "markdown",
   "metadata": {},
   "source": [
    "I need the components and then the look back period.\n",
    "\n",
    "Also note that the calculations need to be made for the data historically, not just for the look back period (e.g. look back of 14 days gives us a value just for those 14 days.)  The look back period is how far back the function will look back to make the calculation.\n",
    "\n",
    "**EXAMPLE:**\n",
    "\n",
    "Using a lookback period of 14 days will gives us the 14 day calculation for RSI for the entire history of the data set, not just the last 14 days.  I will be able to look & see what the 14 day RSI was for June 25th, 2000 and for the most recent data point as well."
   ]
  },
  {
   "cell_type": "code",
   "execution_count": 32,
   "metadata": {
    "collapsed": false
   },
   "outputs": [],
   "source": [
    "def rs(ticker, look_back):\n",
    "    \"\"\"\n",
    "    A function to find the relative strength of a stock using a user specified\n",
    "    look back period.\n",
    "    \"\"\"\n",
    "    \n",
    "    #Get the difference between consecutive adjusted closes.\n",
    "    difference = ticker['Adj-C'].diff()\n",
    "    difference = difference[1:]\n",
    "    \n",
    "    #Define & clean up the up sessions & down sessions.\n",
    "    up, down = difference.copy(), difference.copy()\n",
    "    \n",
    "    up[up < 0] = 0\n",
    "    down[down > 0] = 0\n",
    "    \n",
    "    #Get the absolute value for the down sessions.\n",
    "    down = down.abs()\n",
    "    \n",
    "    #Get the look_back mean for both up & down sessions.\n",
    "    upper = up.rolling(window=look_back, center=False).mean()\n",
    "    downer = down.rolling(window=look_back, center=False).mean()\n",
    "        \n",
    "    #Calculate the relative strength\n",
    "    rs = upper / downer\n",
    "    \n",
    "    return rs"
   ]
  },
  {
   "cell_type": "code",
   "execution_count": 33,
   "metadata": {
    "collapsed": true
   },
   "outputs": [],
   "source": [
    "def rsi(ticker, look_back):\n",
    "    \"\"\"\n",
    "    A function that determines the relative strength index of a specific stock.\n",
    "    \"\"\"\n",
    "    \n",
    "    #Get the relative strength.\n",
    "    r_s = rs(ticker, look_back)\n",
    "    #Calculate the RSI.\n",
    "    rsi = 100.0 - 100.0 / (1.0 + r_s)\n",
    "\n",
    "    return rsi.round(decimals=2)"
   ]
  },
  {
   "cell_type": "markdown",
   "metadata": {},
   "source": [
    "The Python code to get the RS calculation was greatly informed from this StackOverflow answer:\n",
    "\n",
    "http://stackoverflow.com/a/29400434/1094634"
   ]
  },
  {
   "cell_type": "markdown",
   "metadata": {},
   "source": [
    "Also important to note, that some sources will calculate some element of the RSI differently.  Yahoo Finance & ThinkorSwim for instances calculate it the same (and differently from the above calculation) while Freestockcharts.com (Worden) calculates it the same way."
   ]
  },
  {
   "cell_type": "markdown",
   "metadata": {},
   "source": [
    "### This should be done a bit later. [Data visualization]\n",
    "[ ] Include dates with the RSI output\n",
    "\n",
    "[ ] Graph of the price history\n",
    "\n",
    "[ ] Graph of the RSI"
   ]
  },
  {
   "cell_type": "markdown",
   "metadata": {},
   "source": [
    "## Buy/Sell Rule:\n",
    "\n",
    "I will begin with a simple buy/sell rule.  Buy @ the closing price when RSI < 30 & sell when RSI > 70.  30/70 are the traditional demarcation points for 'oversold' (<30) & 'overbought' (>70).  These thresholds are ripe for fine tuning, furthermore, the buy/sell rule itself also needs to be tested.  Initially, I will be using the 14 day average.  The other average that I want to look at is the 9 day.  As with the oversold/overbought level, the optimal average needs to be tested/tuned as well."
   ]
  },
  {
   "cell_type": "code",
   "execution_count": 34,
   "metadata": {
    "collapsed": false
   },
   "outputs": [],
   "source": [
    "aapl_rsi = rsi(aapl, 14)"
   ]
  },
  {
   "cell_type": "code",
   "execution_count": 35,
   "metadata": {
    "collapsed": false
   },
   "outputs": [],
   "source": [
    "AAPL = zip(aapl_rsi, aapl['Date'], aapl['Adj-C'])"
   ]
  },
  {
   "cell_type": "code",
   "execution_count": 36,
   "metadata": {
    "collapsed": false
   },
   "outputs": [
    {
     "data": {
      "text/plain": [
       "8948"
      ]
     },
     "execution_count": 36,
     "metadata": {},
     "output_type": "execute_result"
    }
   ],
   "source": [
    "len(AAPL)"
   ]
  },
  {
   "cell_type": "code",
   "execution_count": 37,
   "metadata": {
    "collapsed": false
   },
   "outputs": [
    {
     "data": {
      "text/plain": [
       "(64.5, '1981-01-05', 0.5118863780806)"
      ]
     },
     "execution_count": 37,
     "metadata": {},
     "output_type": "execute_result"
    }
   ],
   "source": [
    "AAPL[14]"
   ]
  },
  {
   "cell_type": "markdown",
   "metadata": {},
   "source": [
    "## ML"
   ]
  },
  {
   "cell_type": "code",
   "execution_count": 38,
   "metadata": {
    "collapsed": true
   },
   "outputs": [],
   "source": [
    "from sklearn import cross_validation"
   ]
  },
  {
   "cell_type": "markdown",
   "metadata": {},
   "source": [
    "### Train and test data"
   ]
  },
  {
   "cell_type": "markdown",
   "metadata": {},
   "source": [
    "Add RSI column to our data set"
   ]
  },
  {
   "cell_type": "code",
   "execution_count": 39,
   "metadata": {
    "collapsed": false
   },
   "outputs": [
    {
     "name": "stderr",
     "output_type": "stream",
     "text": [
      "/Users/amagi/anaconda/envs/mlnd/lib/python2.7/site-packages/ipykernel/__main__.py:1: SettingWithCopyWarning: \n",
      "A value is trying to be set on a copy of a slice from a DataFrame.\n",
      "Try using .loc[row_indexer,col_indexer] = value instead\n",
      "\n",
      "See the caveats in the documentation: http://pandas.pydata.org/pandas-docs/stable/indexing.html#indexing-view-versus-copy\n",
      "  if __name__ == '__main__':\n"
     ]
    }
   ],
   "source": [
    "aapl['RSI'] = aapl_rsi"
   ]
  },
  {
   "cell_type": "markdown",
   "metadata": {},
   "source": [
    "Drop the first 14 rows with NaNs in the RSI."
   ]
  },
  {
   "cell_type": "code",
   "execution_count": 40,
   "metadata": {
    "collapsed": false
   },
   "outputs": [],
   "source": [
    "aapl = aapl[14:]"
   ]
  },
  {
   "cell_type": "code",
   "execution_count": 41,
   "metadata": {
    "collapsed": false
   },
   "outputs": [],
   "source": [
    "aapl_features = aapl[['Adj-O', 'Adj-H', 'Adj-L', 'Adj-Vol', 'RSI']]\n",
    "aapl_predict = aapl['Adj-C']"
   ]
  },
  {
   "cell_type": "code",
   "execution_count": 48,
   "metadata": {
    "collapsed": false
   },
   "outputs": [],
   "source": [
    "test = aapl_features.iloc[7148:]\n",
    "train = aapl_features.iloc[:7148]"
   ]
  },
  {
   "cell_type": "code",
   "execution_count": 50,
   "metadata": {
    "collapsed": false
   },
   "outputs": [],
   "source": [
    "pred_test = aapl_predict.iloc[7148:]\n",
    "pred_train = aapl_predict.iloc[:7148]"
   ]
  },
  {
   "cell_type": "code",
   "execution_count": 53,
   "metadata": {
    "collapsed": false
   },
   "outputs": [
    {
     "data": {
      "text/plain": [
       "17.451476423454"
      ]
     },
     "execution_count": 53,
     "metadata": {},
     "output_type": "execute_result"
    }
   ],
   "source": []
  },
  {
   "cell_type": "markdown",
   "metadata": {},
   "source": [
    "## This is a backtesting approach, which will be use to see how the predictions worked out."
   ]
  },
  {
   "cell_type": "code",
   "execution_count": 39,
   "metadata": {
    "collapsed": true
   },
   "outputs": [],
   "source": [
    "def rsi_buy_sell(ticker, oversold, overbought):\n",
    "    \"\"\"\n",
    "    A function that buys a user selected stock using the RSI with user selected\n",
    "    buy & sell thresholds.\n",
    "    \"\"\"\n",
    "    \n",
    "    ##I need(?) to create, possibly, a dict that looks like:\n",
    "    ##{buy: ('1981-01-05', 0.5118863780806), sell: ('1981-01-05', 0.5118863780806), profit: (buy[2] - sell[2])}\n",
    "    \n",
    "    #A list of transactions\n",
    "    transactions = []\n",
    "    #A dict that records the buy, sell, & profit of each transaction\n",
    "    buy_sell = {buy: ('1981-01-05', 0.0), sell: ('1981-01-05', 0.0),\n",
    "                 profit: (buy[2] - sell[2])}\n",
    "    \n",
    "    buy = ticker[0] < oversold\n",
    "    sell = ticker[0] > overbought\n",
    "    \n",
    "#     for session in ticker:\n",
    "#         if buy:#This happens when the loop enters a buy state\n",
    "#             buy_sell['buy'] = session[1:]\n",
    "#         elif sell:#This happnens when the loop exits the buy & enters the sell state\n",
    "#             buy_sell['sell'] = session[1:]\n",
    "#             buy_sell['profit'] = buy_sell['sell'][1] - buy_sell['buy'][1]\n",
    "#             transactions.append('buy_sell?')#Do I need some container? self.buy_sell that resets?\n",
    "#         elif current state is buy & \n",
    "                \n",
    "    ##What happens if there are no sell signals after the buy signal before another sell signal is generated?\n",
    "    ##    Hold until the first sell signal is generated.\n",
    "    ##What happens if the first signal is a sell signal?\n",
    "    ##    Don't sell, wait for the first buy signal.\n",
    "    \n",
    "    ##I need a 'state' where as the function loops through the list, if the buy state is in effect\n",
    "    ##then nothing happens until a sell state is encountered.\n",
    "    ##After the buy/sell cycle happens, we are in a sell state which exists until another but state\n",
    "    ##is generated.\n",
    "    \n",
    "    #while buy:\n",
    "    #    iterate over list until sell\n",
    "    #    add current sell to the dict object\n",
    "    #    calculate the profit\n",
    "    #    append the list\n",
    "    #    enter sell state\n",
    "    #while sell:\n",
    "    #    iterate over the list until buy\n",
    "    #    add current buy to the dict object\n",
    "    #    enter the but state\n",
    "    \n",
    "    return transactions\n"
   ]
  },
  {
   "cell_type": "code",
   "execution_count": null,
   "metadata": {
    "collapsed": true
   },
   "outputs": [],
   "source": []
  }
 ],
 "metadata": {
  "kernelspec": {
   "display_name": "Python 2",
   "language": "python",
   "name": "python2"
  },
  "language_info": {
   "codemirror_mode": {
    "name": "ipython",
    "version": 2
   },
   "file_extension": ".py",
   "mimetype": "text/x-python",
   "name": "python",
   "nbconvert_exporter": "python",
   "pygments_lexer": "ipython2",
   "version": "2.7.11"
  }
 },
 "nbformat": 4,
 "nbformat_minor": 0
}
