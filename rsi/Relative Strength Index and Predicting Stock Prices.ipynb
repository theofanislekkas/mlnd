{
 "cells": [
  {
   "cell_type": "code",
   "execution_count": null,
   "metadata": {
    "collapsed": true
   },
   "outputs": [],
   "source": [
    "from __future__ import division\n",
    "\n",
    "import numpy as np\n",
    "import pandas as pd\n",
    "\n",
    "import matplotlib.pyplot as plt\n",
    "\n",
    "from matplotlib import finance\n",
    "\n",
    "%matplotlib inline"
   ]
  },
  {
   "cell_type": "markdown",
   "metadata": {},
   "source": [
    "# Loading and Exploring the Data"
   ]
  },
  {
   "cell_type": "code",
   "execution_count": null,
   "metadata": {
    "collapsed": true
   },
   "outputs": [],
   "source": [
    "data = pd.read_csv('WIKI_20160608.csv', names=['Ticker', 'Date', 'Open', 'High', 'Low', 'Close',\n",
    "                                              'Volume', '7', '8', 'Adj-O', 'Adj-H', 'Adj-L', 'Adj-C',\n",
    "                                              'Adj-Vol'])"
   ]
  },
  {
   "cell_type": "code",
   "execution_count": null,
   "metadata": {
    "collapsed": false
   },
   "outputs": [],
   "source": [
    "data.head(5)"
   ]
  },
  {
   "cell_type": "markdown",
   "metadata": {},
   "source": [
    "Create a new dataframe with only the adjusted data, data, & ticker symbol."
   ]
  },
  {
   "cell_type": "code",
   "execution_count": null,
   "metadata": {
    "collapsed": true
   },
   "outputs": [],
   "source": [
    "dat = data[['Ticker', 'Date', 'Adj-O', 'Adj-H', 'Adj-L', 'Adj-C', 'Adj-Vol']]"
   ]
  },
  {
   "cell_type": "code",
   "execution_count": null,
   "metadata": {
    "collapsed": false
   },
   "outputs": [],
   "source": [
    "dat.head(5)"
   ]
  },
  {
   "cell_type": "code",
   "execution_count": null,
   "metadata": {
    "collapsed": false
   },
   "outputs": [],
   "source": [
    "dat.shape"
   ]
  },
  {
   "cell_type": "markdown",
   "metadata": {},
   "source": [
    "Create a dataframe for a specific ticker"
   ]
  },
  {
   "cell_type": "code",
   "execution_count": null,
   "metadata": {
    "collapsed": true
   },
   "outputs": [],
   "source": [
    "agilent = dat[dat['Ticker'] == 'A']"
   ]
  },
  {
   "cell_type": "code",
   "execution_count": null,
   "metadata": {
    "collapsed": false
   },
   "outputs": [],
   "source": [
    "agilent.head()"
   ]
  },
  {
   "cell_type": "markdown",
   "metadata": {},
   "source": [
    "Pretty straight forward to get a ticker specific set of data.  Below I will create a function to automate the process."
   ]
  },
  {
   "cell_type": "code",
   "execution_count": null,
   "metadata": {
    "collapsed": true
   },
   "outputs": [],
   "source": [
    "def tick_gettr(ticker):\n",
    "    data = dat[dat['Ticker'] == ticker]\n",
    "    return data"
   ]
  },
  {
   "cell_type": "markdown",
   "metadata": {},
   "source": [
    "I will also create an array for all tickers in the dataset in case that comes in handy."
   ]
  },
  {
   "cell_type": "code",
   "execution_count": null,
   "metadata": {
    "collapsed": false
   },
   "outputs": [],
   "source": [
    "tickers = dat['Ticker']\n",
    "tickers = tickers.unique()\n",
    "len(tickers)"
   ]
  },
  {
   "cell_type": "markdown",
   "metadata": {},
   "source": [
    "Now I will get a ticker specific set of data to work with."
   ]
  },
  {
   "cell_type": "code",
   "execution_count": null,
   "metadata": {
    "collapsed": true
   },
   "outputs": [],
   "source": [
    "aapl = tick_gettr('AAPL')"
   ]
  },
  {
   "cell_type": "markdown",
   "metadata": {},
   "source": [
    "## Basic Calculations\n",
    "\n",
    "I first need to create the RSI components and determine how many days my moving average will be built with.\n",
    "\n",
    "I will begin by creating the relative strength component.  Instead of hardcoding a number of days for the moving average I want to be able to look at different averages.  Below I will write a couple of functions to create the RSI.\n",
    "\n",
    "RS:"
   ]
  },
  {
   "cell_type": "code",
   "execution_count": null,
   "metadata": {
    "collapsed": true
   },
   "outputs": [],
   "source": [
    "def rs(ticker, look_back):\n",
    "    \"\"\"\n",
    "    A function to find the relative strength of a stock using a user specified\n",
    "    look back period.\n",
    "    \"\"\"\n",
    "    \n",
    "    #Get the difference between consecutive adjusted closes.\n",
    "    difference = ticker['Adj-C'].diff()\n",
    "    difference = difference[1:]\n",
    "    \n",
    "    #Define & clean up the up sessions & down sessions.\n",
    "    up, down = difference.copy(), difference.copy()\n",
    "    \n",
    "    up[up < 0] = 0\n",
    "    down[down > 0] = 0\n",
    "    \n",
    "    #Get the absolute value for the down sessions.\n",
    "    down = down.abs()\n",
    "    \n",
    "    #Get the look_back mean for both up & down sessions.\n",
    "    upper = up.rolling(window=look_back, center=False).mean()\n",
    "    downer = down.rolling(window=look_back, center=False).mean()\n",
    "        \n",
    "    #Calculate the relative strength\n",
    "    rs = upper / downer\n",
    "    \n",
    "    return rs"
   ]
  },
  {
   "cell_type": "markdown",
   "metadata": {},
   "source": [
    "RSI:"
   ]
  },
  {
   "cell_type": "code",
   "execution_count": null,
   "metadata": {
    "collapsed": true
   },
   "outputs": [],
   "source": [
    "def rsi(ticker, look_back):\n",
    "    \"\"\"\n",
    "    A function that determines the relative strength index of a specific stock.\n",
    "    \"\"\"\n",
    "    \n",
    "    #Get the relative strength.\n",
    "    r_s = rs(ticker, look_back)\n",
    "    #Calculate the RSI.\n",
    "    rsi = 100.0 - 100.0 / (1.0 + r_s)\n",
    "\n",
    "    return rsi.round(decimals=2)"
   ]
  },
  {
   "cell_type": "markdown",
   "metadata": {},
   "source": [
    "The Python code to get the RS calculation was greatly informed from this StackOverflow answer:\n",
    "\n",
    "##### http://stackoverflow.com/a/29400434/1094634\n",
    "\n",
    "Also important to note, that some sources will calculate some elements of the RSI differently.  Yahoo Finance & ThinkorSwim for instances calculate it the same (and differently from the above calculation) while Freestockcharts.com (Worden) calculates it the same way as the above functions."
   ]
  },
  {
   "cell_type": "markdown",
   "metadata": {},
   "source": [
    "### Buy/Sell Rule:\n",
    "\n",
    "I will need some rules to determine when to buy & when to sell.  I will begin with a simple buy/sell rule.  Buy @ the closing price when RSI < 30 & sell @ the closing price when RSI > 70.  The 30 & 70 thresholds are the traditional demarcation points for 'oversold' (<30) & 'overbought' (>70) while using the RSI.  These thresholds are ripe for fine tuning.  Initially, I will be using the 14 day average.  The other average that I want to look at is the 9 day.  As with the oversold/overbought level, the optimal average needs to be tested/tuned as well.\n",
    "\n",
    "Simply, what I want to know is if the RSI predicts higer prices from the buy point.  The actual price itself is not very important (although will be useful.)  If the sell price is consistently higher than the buy price, then I will interpret that as the RSI having some predictive value (whether or not the RSI strategy is more profitable than simply buying & holding the S&P 500 or the individual issues I use is a separate question.)\n",
    "\n",
    "\n",
    "First, I will get Apples (AAPL) RSI using the 14 day average."
   ]
  },
  {
   "cell_type": "code",
   "execution_count": null,
   "metadata": {
    "collapsed": true
   },
   "outputs": [],
   "source": [
    "aapl_rsi = rsi(aapl, 14)"
   ]
  },
  {
   "cell_type": "markdown",
   "metadata": {},
   "source": [
    "Now I want to add a new column to the dataset to include the RSI"
   ]
  },
  {
   "cell_type": "code",
   "execution_count": null,
   "metadata": {
    "collapsed": false
   },
   "outputs": [],
   "source": [
    "aapl['RSI'] = aapl_rsi"
   ]
  },
  {
   "cell_type": "code",
   "execution_count": null,
   "metadata": {
    "collapsed": false
   },
   "outputs": [],
   "source": [
    "aapl.head(2)"
   ]
  },
  {
   "cell_type": "markdown",
   "metadata": {},
   "source": [
    "Next I want to remove the first 14 columsn with NaNs for the RSI"
   ]
  },
  {
   "cell_type": "code",
   "execution_count": null,
   "metadata": {
    "collapsed": true
   },
   "outputs": [],
   "source": [
    "aapl = aapl[14:]"
   ]
  },
  {
   "cell_type": "code",
   "execution_count": null,
   "metadata": {
    "collapsed": false
   },
   "outputs": [],
   "source": [
    "aapl.head(2)"
   ]
  },
  {
   "cell_type": "markdown",
   "metadata": {},
   "source": [
    "Now I want to create some more columns that will show the prices for days where the RSI is < 30 & > 70.  Since I am going to do this repeatedly, I want to create a function to handle this process."
   ]
  },
  {
   "cell_type": "code",
   "execution_count": null,
   "metadata": {
    "collapsed": true
   },
   "outputs": [],
   "source": [
    "def price_columns(data, overbot, oversold):\n",
    "    \"\"\"\n",
    "    A function that adds and populates the 'Sell Price' and 'Buy Price' columns for\n",
    "    the dataset that is being used.\n",
    "    \n",
    "    overbot & oversold are ints\n",
    "    \"\"\"\n",
    "    number_observations = len(data)\n",
    "    data['Sell Price'] = pd.Series(0, np.arange(number_observations))\n",
    "    #Populate the 'Sell Price' column with the relevant overbought data.\n",
    "    data.ix[data.RSI > overbot, 'Sell Price'] = data['Adj-C']\n",
    "    data['Buy Price'] = pd.Series(0, np.arange(number_observations))\n",
    "    #Populate the 'Buy Price' column with the relevant oversold data.\n",
    "    data.ix[data.RSI < oversold, 'Buy Price'] = data['Adj-C']\n",
    "    \n",
    "    return data"
   ]
  },
  {
   "cell_type": "code",
   "execution_count": null,
   "metadata": {
    "collapsed": true
   },
   "outputs": [],
   "source": [
    "aapl = price_columns(aapl, 70, 30)"
   ]
  },
  {
   "cell_type": "code",
   "execution_count": null,
   "metadata": {
    "collapsed": false
   },
   "outputs": [],
   "source": [
    "aapl.head(2)"
   ]
  },
  {
   "cell_type": "markdown",
   "metadata": {},
   "source": [
    "Since I will also be prepping the data for multiple datasets repeatedly I want to do the RSI prep work above automatically as well.  I will write a function to handle prepping the data to include the RSI column."
   ]
  },
  {
   "cell_type": "code",
   "execution_count": null,
   "metadata": {
    "collapsed": true
   },
   "outputs": [],
   "source": [
    "def rsi_add(data, ave_length):\n",
    "    \"\"\"\n",
    "    A function that will call rsi() to create the relevant RSI data & then add\n",
    "    the RSI column to the relevant dataset.\n",
    "    \n",
    "    ave_length is an int\n",
    "    \"\"\"\n",
    "    data_rsi = rsi(data, ave_length)\n",
    "    data['RSI'] = data_rsi\n",
    "    data = data[ave_length:]\n",
    "    \n",
    "    return data"
   ]
  },
  {
   "cell_type": "markdown",
   "metadata": {},
   "source": [
    "I will also create several columns that represent holding periods of 1, 3, 5, & 10 days.  I think it will be beneficial to see whether or not arbitrary holding periods show better returns then the RSI > 70 sell point.  These holding periods can be played with and they are picked to represent the shorter term nature of this type of trade."
   ]
  },
  {
   "cell_type": "code",
   "execution_count": null,
   "metadata": {
    "collapsed": true
   },
   "outputs": [],
   "source": [
    "base = aapl.copy()\n",
    "base = base['Adj-C']\n",
    "\n",
    "day_1 = base.shift(-1)\n",
    "day_3 = base.shift(-3)\n",
    "day_5 = base.shift(-5)\n",
    "day_10 = base.shift(-10)"
   ]
  },
  {
   "cell_type": "code",
   "execution_count": null,
   "metadata": {
    "collapsed": true
   },
   "outputs": [],
   "source": [
    "aapl['Day 1'] = day_1\n",
    "aapl['Day 3'] = day_3\n",
    "aapl['Day 5'] = day_5\n",
    "aapl['Day 10'] = day_10"
   ]
  },
  {
   "cell_type": "code",
   "execution_count": null,
   "metadata": {
    "collapsed": false
   },
   "outputs": [],
   "source": [
    "aapl.head(2)"
   ]
  },
  {
   "cell_type": "markdown",
   "metadata": {},
   "source": [
    "Now I have a dataset to begin working with."
   ]
  },
  {
   "cell_type": "markdown",
   "metadata": {},
   "source": [
    "# Analyzing the Data\n",
    "\n",
    "### A simple and naive regression\n",
    "\n",
    "First I am going to run a simple regression of the RSI column against the adjusted close column to see what that looks like."
   ]
  },
  {
   "cell_type": "code",
   "execution_count": null,
   "metadata": {
    "collapsed": true
   },
   "outputs": [],
   "source": [
    "aapl_prices = aapl[['Adj-C']]\n",
    "aapl_rsi_d = aapl[['RSI']]"
   ]
  },
  {
   "cell_type": "markdown",
   "metadata": {},
   "source": [
    "### Splitting the training & test data.\n",
    "\n",
    "I will do this automatically as well, but since the historical order of the data is important I will write a function to handle this.  I want to train the model on the older data and test it on the newer data to see if there is any predictive abilities.  A **caveat** here, however, this where many of these types of strategies and analytical approaches end up overfitting and producing models the have *disatsrous* results in the real world."
   ]
  },
  {
   "cell_type": "code",
   "execution_count": null,
   "metadata": {
    "collapsed": true
   },
   "outputs": [],
   "source": [
    "def train_test(data, features, prediction, train):\n",
    "    \"\"\"\n",
    "    A function that splits the dataset into training & testing sets while preserving chronological order.\n",
    "    \n",
    "    features = a list of strs that are will be used to train the models.\n",
    "    prediction = a list of a str that the model will be attempting to predict.\n",
    "    train = a float that represents the % of the dataset used for the training set.\n",
    "    \"\"\"\n",
    "    #Create our features & predictions\n",
    "    data_preds = data[prediction]\n",
    "    data_feats = data[features]\n",
    "    \n",
    "    #Use the train percent to get an int that will represent the index cut off point for\n",
    "    #the data sets\n",
    "    train_percent = int(round(len(data) * train))\n",
    "    \n",
    "    #Split the features & predictions into their train/test splits\n",
    "    train_preds = data_preds[:train_percent]\n",
    "    train_feats = data_feats[:train_percent]\n",
    "    test_preds = data_preds[train_percent:]\n",
    "    test_feats = data_feats[train_percent:]\n",
    "    \n",
    "    return train_preds, train_feats, test_preds, test_feats"
   ]
  },
  {
   "cell_type": "code",
   "execution_count": null,
   "metadata": {
    "collapsed": false
   },
   "outputs": [],
   "source": [
    "aapl_preds, aapl_feats, aapl_testp, aapl_testf = train_test(aapl, ['RSI'], ['Adj-C'], .8)"
   ]
  },
  {
   "cell_type": "markdown",
   "metadata": {},
   "source": [
    "Now I will create a simple, naive linear regression model"
   ]
  },
  {
   "cell_type": "code",
   "execution_count": null,
   "metadata": {
    "collapsed": true
   },
   "outputs": [],
   "source": [
    "from sklearn.linear_model import LinearRegression"
   ]
  },
  {
   "cell_type": "code",
   "execution_count": null,
   "metadata": {
    "collapsed": false
   },
   "outputs": [],
   "source": [
    "simple_linear = LinearRegression()\n",
    "simple_linear.fit(aapl_feats, aapl_preds)"
   ]
  },
  {
   "cell_type": "code",
   "execution_count": null,
   "metadata": {
    "collapsed": false
   },
   "outputs": [],
   "source": [
    "predicted_price = simple_linear.predict(aapl_testf)"
   ]
  },
  {
   "cell_type": "code",
   "execution_count": null,
   "metadata": {
    "collapsed": false
   },
   "outputs": [],
   "source": [
    "simple_linear.score(aapl_testf, aapl_testp)"
   ]
  },
  {
   "cell_type": "markdown",
   "metadata": {},
   "source": [
    "Not a very good score.\n",
    "\n",
    "Let's see what the RSS is."
   ]
  },
  {
   "cell_type": "code",
   "execution_count": null,
   "metadata": {
    "collapsed": false
   },
   "outputs": [],
   "source": [
    "np.sum((predicted_price - aapl_testp) ** 2)"
   ]
  },
  {
   "cell_type": "markdown",
   "metadata": {},
   "source": [
    "That's a pretty large number, again not a very good result for this very simplistic regression model.\n",
    "\n",
    "I want to plot this out to see what these predicted results look like."
   ]
  },
  {
   "cell_type": "code",
   "execution_count": null,
   "metadata": {
    "collapsed": false
   },
   "outputs": [],
   "source": [
    "plt.scatter(aapl_testf.index, aapl_testp, color='black')\n",
    "plt.plot(aapl_testf.index, predicted_price, color='blue', linewidth=.5)"
   ]
  },
  {
   "cell_type": "markdown",
   "metadata": {},
   "source": [
    "Obviously simply using the RSI values without any type of filter to predict prices is not effective.\n",
    "\n",
    "Now I will use a number of features to see what the result is."
   ]
  },
  {
   "cell_type": "code",
   "execution_count": null,
   "metadata": {
    "collapsed": true
   },
   "outputs": [],
   "source": [
    "multi_naive_features = ['Adj-O', 'Adj-H', 'Adj-L', 'Adj-Vol', 'RSI']"
   ]
  },
  {
   "cell_type": "code",
   "execution_count": null,
   "metadata": {
    "collapsed": true
   },
   "outputs": [],
   "source": [
    "aapl_preds, aapl_feats, aapl_testp, aapl_testf = train_test(aapl, multi_naive_features, ['Adj-C'], .8)"
   ]
  },
  {
   "cell_type": "code",
   "execution_count": null,
   "metadata": {
    "collapsed": false
   },
   "outputs": [],
   "source": [
    "multi_simple_linear = LinearRegression()\n",
    "multi_simple_linear.fit(aapl_feats, aapl_preds)"
   ]
  },
  {
   "cell_type": "code",
   "execution_count": null,
   "metadata": {
    "collapsed": false
   },
   "outputs": [],
   "source": [
    "predicted_price = multi_simple_linear.predict(aapl_testf)"
   ]
  },
  {
   "cell_type": "markdown",
   "metadata": {},
   "source": [
    "Check the regression score:"
   ]
  },
  {
   "cell_type": "code",
   "execution_count": null,
   "metadata": {
    "collapsed": false
   },
   "outputs": [],
   "source": [
    "multi_simple_linear.score(aapl_testf, aapl_testp)"
   ]
  },
  {
   "cell_type": "markdown",
   "metadata": {},
   "source": [
    "Now calculate the RSS:"
   ]
  },
  {
   "cell_type": "code",
   "execution_count": null,
   "metadata": {
    "collapsed": false
   },
   "outputs": [],
   "source": [
    "np.sum((predicted_price - aapl_testp) ** 2)"
   ]
  },
  {
   "cell_type": "markdown",
   "metadata": {},
   "source": [
    "This seems a little too good, so now I will plot my predictions."
   ]
  },
  {
   "cell_type": "code",
   "execution_count": null,
   "metadata": {
    "collapsed": false
   },
   "outputs": [],
   "source": [
    "plt.scatter(aapl_testf.index, aapl_testp, color='black')\n",
    "plt.plot(aapl_testf.index, predicted_price, color='blue', linewidth=.5)"
   ]
  },
  {
   "cell_type": "markdown",
   "metadata": {},
   "source": [
    "Where in the first naive regression I had no correlation whatsoever, this one seems to be too good to be true.\n",
    "\n",
    "Now I what to use the RSI buy/sell thresholds in order to see if I these thresholds are predictive.  I will use linear regression and decision tree regression.\n",
    "\n",
    "First I want to create another column that will show the post buy sell signal price.  I want to keep a sell column as well, since it theoretically possible to use the overbought signal as signal to short.  Anecdotally the short signal using RSI hasn't not been considered very successful and any number of theories as to why have been floated, however, I have never tested this and want to keep that option open.\n",
    "\n",
    "I will create another new column, 'Sell Signal Price', which will hold the closing price when the sell signal is generated.  I will again create a function to create this column and then populate it."
   ]
  },
  {
   "cell_type": "code",
   "execution_count": null,
   "metadata": {
    "collapsed": false
   },
   "outputs": [],
   "source": [
    "def sell_signal_prices(data, overbot, oversold):\n",
    "    \"\"\"\n",
    "    This function will create the 'Sell Signal Column' and populate it with data.\n",
    "    \n",
    "    overbot & oversold are ints that represent the relevant thresholds for the RSI.\n",
    "    \"\"\"\n",
    "    \n",
    "    observations = len(data)\n",
    "    #Create an empty column and replace the NaNs with 0s.\n",
    "    data['Sell Signal Price'] = pd.Series(0, np.arange(observations))\n",
    "    data = data.fillna(0)\n",
    "    \n",
    "    #Create a temporary dataframe.\n",
    "    temp_frame = data[['Adj-C', 'RSI', 'Sell Price', 'Buy Price', 'Sell Signal Price']]\n",
    "    \n",
    "    #Loop through the temporary dataframe to populate the 'Sell Signal Price' column with data.\n",
    "    for price in temp_frame.iterrows():\n",
    "        if 0 < price[1][1] < oversold:\n",
    "            place = temp_frame.query(price[0])\n",
    "            p_start = temp_frame.index.get_loc(place.name)\n",
    "            temp_list = temp_frame[p_start:]\n",
    "\n",
    "            for i in temp_list.iterrows():\n",
    "                if i[1][1] > overbot:\n",
    "                    price[1][4] = i[1][0]\n",
    "                    break\n",
    "    \n",
    "    #Populate the new column in the original dataframe with the sell price data.\n",
    "    data['Sell Signal Price'] = temp_frame['Sell Signal Price']\n",
    "    \n",
    "    return data"
   ]
  },
  {
   "cell_type": "markdown",
   "metadata": {},
   "source": [
    "Now I will test the new function with the aapl dataset.  I know location of the first RSI < 30 observation so I will use that observation to see if the function works."
   ]
  },
  {
   "cell_type": "code",
   "execution_count": null,
   "metadata": {
    "collapsed": false
   },
   "outputs": [],
   "source": [
    "aapl.iloc[9]"
   ]
  },
  {
   "cell_type": "code",
   "execution_count": null,
   "metadata": {
    "collapsed": false
   },
   "outputs": [],
   "source": [
    "aapl = sell_signal_prices(aapl, 70, 30)"
   ]
  },
  {
   "cell_type": "code",
   "execution_count": null,
   "metadata": {
    "collapsed": false
   },
   "outputs": [],
   "source": [
    "aapl.iloc[9]"
   ]
  },
  {
   "cell_type": "markdown",
   "metadata": {},
   "source": [
    "Success!\n",
    "\n",
    "Now I want to use this dataset to run some regressions using linear regression and decision tree regeression.\n",
    "\n",
    "## Running the Regeressions\n",
    "\n",
    "First I will choose which features I want to use and then I will split up my train/test data."
   ]
  },
  {
   "cell_type": "code",
   "execution_count": null,
   "metadata": {
    "collapsed": true
   },
   "outputs": [],
   "source": [
    "rsi_features = ['RSI', 'Buy Price']\n",
    "\n",
    "aapl_preds, aapl_feats, aapl_testp, aapl_testf = train_test(aapl, rsi_features, ['Sell Signal Price'], .8)"
   ]
  },
  {
   "cell_type": "markdown",
   "metadata": {},
   "source": [
    "### Linear Regression"
   ]
  },
  {
   "cell_type": "code",
   "execution_count": null,
   "metadata": {
    "collapsed": false
   },
   "outputs": [],
   "source": [
    "rsi_30_model = LinearRegression()\n",
    "rsi_30_model.fit(aapl_feats, aapl_preds)"
   ]
  },
  {
   "cell_type": "code",
   "execution_count": null,
   "metadata": {
    "collapsed": false
   },
   "outputs": [],
   "source": [
    "predicted30_prices = rsi_30_model.predict(aapl_testf)"
   ]
  },
  {
   "cell_type": "markdown",
   "metadata": {},
   "source": [
    "Score & RSS:"
   ]
  },
  {
   "cell_type": "code",
   "execution_count": null,
   "metadata": {
    "collapsed": false
   },
   "outputs": [],
   "source": [
    "rsi_30_model.score(aapl_testf, aapl_testp)"
   ]
  },
  {
   "cell_type": "code",
   "execution_count": null,
   "metadata": {
    "collapsed": false
   },
   "outputs": [],
   "source": [
    "np.sum((predicted30_prices - aapl_testp) ** 2)"
   ]
  },
  {
   "cell_type": "code",
   "execution_count": null,
   "metadata": {
    "collapsed": false
   },
   "outputs": [],
   "source": [
    "plt.scatter(aapl_testf.index, aapl_testp, color='black')\n",
    "plt.plot(aapl_testf.index, predicted30_prices, color='blue', linewidth=.5)"
   ]
  },
  {
   "cell_type": "markdown",
   "metadata": {},
   "source": [
    "### Decision Tree Regression\n",
    "\n",
    "I am going to use three different max depths (2, 5, 20.)"
   ]
  },
  {
   "cell_type": "code",
   "execution_count": null,
   "metadata": {
    "collapsed": true
   },
   "outputs": [],
   "source": [
    "from sklearn.tree import DecisionTreeRegressor"
   ]
  },
  {
   "cell_type": "code",
   "execution_count": null,
   "metadata": {
    "collapsed": true
   },
   "outputs": [],
   "source": [
    "trereg_2 = DecisionTreeRegressor(max_depth=2)\n",
    "trereg_5 = DecisionTreeRegressor(max_depth=5)\n",
    "trereg_20 = DecisionTreeRegressor(max_depth=20)"
   ]
  },
  {
   "cell_type": "code",
   "execution_count": null,
   "metadata": {
    "collapsed": false
   },
   "outputs": [],
   "source": [
    "trereg_2.fit(aapl_feats, aapl_preds)\n",
    "trereg_5.fit(aapl_feats, aapl_preds)\n",
    "trereg_20.fit(aapl_feats, aapl_preds)"
   ]
  },
  {
   "cell_type": "code",
   "execution_count": null,
   "metadata": {
    "collapsed": true
   },
   "outputs": [],
   "source": [
    "predict_2 = trereg_2.predict(aapl_testf)\n",
    "predict_5 = trereg_5.predict(aapl_testf)\n",
    "predict_20 = trereg_20.predict(aapl_testf)"
   ]
  },
  {
   "cell_type": "markdown",
   "metadata": {},
   "source": [
    "Now I want to see the scores & RSSs.\n",
    "\n",
    "First I have to clean up the test prices."
   ]
  },
  {
   "cell_type": "code",
   "execution_count": null,
   "metadata": {
    "collapsed": true
   },
   "outputs": [],
   "source": [
    "testp_matrix = aapl_testp.as_matrix(columns=['Sell Signal Price'])\n",
    "testp_matrix = testp_matrix.reshape((1787, ))"
   ]
  },
  {
   "cell_type": "markdown",
   "metadata": {},
   "source": [
    "Max depth 2:"
   ]
  },
  {
   "cell_type": "code",
   "execution_count": null,
   "metadata": {
    "collapsed": false
   },
   "outputs": [],
   "source": [
    "trereg_2.score(aapl_testf, aapl_testp)"
   ]
  },
  {
   "cell_type": "code",
   "execution_count": null,
   "metadata": {
    "collapsed": false
   },
   "outputs": [],
   "source": [
    "np.sum((predict_2 - testp_matrix) ** 2)"
   ]
  },
  {
   "cell_type": "markdown",
   "metadata": {},
   "source": [
    "Max depth 5:"
   ]
  },
  {
   "cell_type": "code",
   "execution_count": null,
   "metadata": {
    "collapsed": false
   },
   "outputs": [],
   "source": [
    "trereg_5.score(aapl_testf, aapl_testp)"
   ]
  },
  {
   "cell_type": "code",
   "execution_count": null,
   "metadata": {
    "collapsed": false
   },
   "outputs": [],
   "source": [
    "np.sum((predict_5 - testp_matrix) ** 2)"
   ]
  },
  {
   "cell_type": "markdown",
   "metadata": {},
   "source": [
    "Max depth 20:"
   ]
  },
  {
   "cell_type": "code",
   "execution_count": null,
   "metadata": {
    "collapsed": false
   },
   "outputs": [],
   "source": [
    "trereg_20.score(aapl_testf, aapl_testp)"
   ]
  },
  {
   "cell_type": "code",
   "execution_count": null,
   "metadata": {
    "collapsed": false
   },
   "outputs": [],
   "source": [
    "np.sum((predict_2 - testp_matrix) ** 2)"
   ]
  },
  {
   "cell_type": "markdown",
   "metadata": {},
   "source": [
    "Better than the naive regression I ran further up, but fairly mediocre.\n",
    "\n",
    "Now I will plot these to see what they look like.\n",
    "\n",
    "First, max depth 2:"
   ]
  },
  {
   "cell_type": "code",
   "execution_count": null,
   "metadata": {
    "collapsed": false
   },
   "outputs": [],
   "source": [
    "plt.scatter(aapl_testf.index, aapl_testp, color='black')\n",
    "plt.plot(aapl_testf.index, predict_2, color='blue', linewidth=.5)"
   ]
  },
  {
   "cell_type": "markdown",
   "metadata": {},
   "source": [
    "Max depth 5:"
   ]
  },
  {
   "cell_type": "code",
   "execution_count": null,
   "metadata": {
    "collapsed": false
   },
   "outputs": [],
   "source": [
    "plt.scatter(aapl_testf.index, aapl_testp, color='black')\n",
    "plt.plot(aapl_testf.index, predict_5, color='blue', linewidth=.5)"
   ]
  },
  {
   "cell_type": "markdown",
   "metadata": {},
   "source": [
    "Max depth 20:"
   ]
  },
  {
   "cell_type": "code",
   "execution_count": null,
   "metadata": {
    "collapsed": false
   },
   "outputs": [],
   "source": [
    "plt.scatter(aapl_testf.index, aapl_testp, color='black')\n",
    "plt.plot(aapl_testf.index, predict_20, color='blue', linewidth=.5)"
   ]
  },
  {
   "cell_type": "markdown",
   "metadata": {},
   "source": [
    "Not very impressive results."
   ]
  },
  {
   "cell_type": "markdown",
   "metadata": {
    "collapsed": true
   },
   "source": [
    "## Using holding periods\n",
    "\n",
    "I want to also see if there is some predictive outcome by simply holding onto a position after a buy signal is genereated.  In order to avoid training each possibilty by hand, I'll now write a function to automate the process.  This idea is inspired by University of Washingtons Linear Regression course on Coursera."
   ]
  },
  {
   "cell_type": "code",
   "execution_count": null,
   "metadata": {
    "collapsed": true
   },
   "outputs": [],
   "source": [
    "periods = ['Day 1', 'Day 3', 'Day 5', 'Day 10']\n",
    "hold_features = ['RSI', 'Buy Price']\n",
    "\n",
    "aapl_hold = aapl[['RSI', 'Buy Price', 'Day 1', 'Day 3', 'Day 5', 'Day 10']]"
   ]
  },
  {
   "cell_type": "code",
   "execution_count": null,
   "metadata": {
    "collapsed": true
   },
   "outputs": [],
   "source": [
    "def predictor(data, periods, features, train):\n",
    "    \"\"\"\n",
    "    A function to automate the modeling for linear regression.\n",
    "    \n",
    "    data = the data set that the models will be trained on and predictions made from.\n",
    "    periods = contains a list of the columns with the relevant price data.\n",
    "    features = a list of strs that are will be used to train the models.\n",
    "    train = a float that represents the % of the dataset used for the training set.\n",
    "    \"\"\"\n",
    "    \n",
    "    observations = len(data)\n",
    "    train_percent = int(round(observations * train))\n",
    "    \n",
    "    #Create and prepare the feature data set.\n",
    "    features = data[features]\n",
    "    features = features.fillna(0)\n",
    "#     features = features.reshape((8935,1))\n",
    "    train_f = features[:train_percent]\n",
    "    test_f = features[train_percent:]\n",
    "    \n",
    "    for i in periods:\n",
    "        #Create and prepare the price data set.\n",
    "        prices = data[i]\n",
    "        prices = prices.fillna(0)\n",
    "        prices = prices.reshape((observations,1))\n",
    "        \n",
    "        train_p = prices[:train_percent]\n",
    "        test_p = prices[train_percent:]\n",
    "        \n",
    "        #Train model & make predictions.\n",
    "        model = LinearRegression()\n",
    "        model.fit(train_f, train_p)\n",
    "        predictions = model.predict(test_f)\n",
    "        \n",
    "        #Get RSS.\n",
    "        rss = np.sum((predictions - test_p) ** 2)\n",
    "        \n",
    "        #Model score.\n",
    "        score = model.score(test_f, test_p)\n",
    "        \n",
    "        print \"The score, {}, and RSS, {}, of the model for {}\".format(score, rss, i)\n",
    "    "
   ]
  },
  {
   "cell_type": "code",
   "execution_count": null,
   "metadata": {
    "collapsed": false
   },
   "outputs": [],
   "source": [
    "predictor(aapl_hold, periods, hold_features, .8)"
   ]
  },
  {
   "cell_type": "markdown",
   "metadata": {},
   "source": [
    "As we can see here, simply using holding periods does not perform better than the first naive regression attempts.\n",
    "\n",
    "I also want to see if the actual \"returns\" (defined here simply as the sum of the difference between the buy price & sell signal price) were positive.  This is not an actual backtest, but more of a quick look to see whether or not a simple strategy of buy & selling using the RSI 30/70 generated a positive or negative result."
   ]
  },
  {
   "cell_type": "code",
   "execution_count": null,
   "metadata": {
    "collapsed": false
   },
   "outputs": [],
   "source": [
    "aapl.shape"
   ]
  },
  {
   "cell_type": "code",
   "execution_count": null,
   "metadata": {
    "collapsed": false
   },
   "outputs": [],
   "source": [
    "aapl.head(2)"
   ]
  },
  {
   "cell_type": "code",
   "execution_count": null,
   "metadata": {
    "collapsed": false
   },
   "outputs": [],
   "source": [
    "comp_list = []\n",
    "\n",
    "for line in aapl.iterrows():\n",
    "    if line[1][14] > 0:\n",
    "        asd = line[1][14] - line[1][5]\n",
    "        comp_list.append(asd)\n",
    "        \n",
    "sum(comp_list)"
   ]
  },
  {
   "cell_type": "markdown",
   "metadata": {},
   "source": [
    "Again, this isn't meant to replace a legitmate backtest, but simply a quick look to see if buying & selling over the life (or at least our dataset) of a security produced a positve result.  When we start to factor in comissions, slippage, risk management, and position size the actual results would be different from this \"back of the envelope\" calculation.\n",
    "\n",
    "\n",
    "# Using Different Thresholds & Timeframes\n",
    "\n",
    "I will begin by using the 9 day moving average mentioned above.  The timeframe of moving averages tend to be arbitrary and rely upon customs that have been used by technical analysts & chartists over the decades.  No doubt as the increased quantification of trading & finance many of these moving averages (m.a.) have come under scrutiny there is still heavy reliance on the traditional metrics (e.g. the 50 & 200 day m.a.)\n",
    "\n",
    "I will once again use Apple as the test stock.  I will now use the 9 day RSI."
   ]
  },
  {
   "cell_type": "code",
   "execution_count": null,
   "metadata": {
    "collapsed": true
   },
   "outputs": [],
   "source": [
    "aapl9 = tick_gettr('AAPL')"
   ]
  },
  {
   "cell_type": "code",
   "execution_count": null,
   "metadata": {
    "collapsed": false
   },
   "outputs": [],
   "source": [
    "aapl9_rsi = rsi(aapl9, 9)\n",
    "aapl9['RSI'] = aapl9_rsi"
   ]
  },
  {
   "cell_type": "code",
   "execution_count": null,
   "metadata": {
    "collapsed": true
   },
   "outputs": [],
   "source": [
    "aapl9 = aapl9[9:]"
   ]
  },
  {
   "cell_type": "code",
   "execution_count": null,
   "metadata": {
    "collapsed": false
   },
   "outputs": [],
   "source": [
    "aapl9.head(2)"
   ]
  },
  {
   "cell_type": "code",
   "execution_count": null,
   "metadata": {
    "collapsed": true
   },
   "outputs": [],
   "source": [
    "aapl9 = price_columns(aapl9, 70, 30)"
   ]
  },
  {
   "cell_type": "code",
   "execution_count": null,
   "metadata": {
    "collapsed": false
   },
   "outputs": [],
   "source": [
    "aapl9.head(2)"
   ]
  },
  {
   "cell_type": "markdown",
   "metadata": {},
   "source": [
    "I will also add the holding period columns in order to have consistent datasets that are used for analysis."
   ]
  },
  {
   "cell_type": "code",
   "execution_count": null,
   "metadata": {
    "collapsed": true
   },
   "outputs": [],
   "source": [
    "base9 = aapl9.copy()\n",
    "base9 = base9['Adj-C']\n",
    "\n",
    "day_1 = base9.shift(-1)\n",
    "day_3 = base9.shift(-3)\n",
    "day_5 = base9.shift(-5)\n",
    "day_10 = base9.shift(-10)"
   ]
  },
  {
   "cell_type": "code",
   "execution_count": null,
   "metadata": {
    "collapsed": true
   },
   "outputs": [],
   "source": [
    "aapl9['Day 1'] = day_1\n",
    "aapl9['Day 3'] = day_3\n",
    "aapl9['Day 5'] = day_5\n",
    "aapl9['Day 10'] = day_10"
   ]
  },
  {
   "cell_type": "code",
   "execution_count": null,
   "metadata": {
    "collapsed": false
   },
   "outputs": [],
   "source": [
    "aapl9.head(2)"
   ]
  },
  {
   "cell_type": "markdown",
   "metadata": {},
   "source": [
    "Finally, I will add the Sell Signal Price column."
   ]
  },
  {
   "cell_type": "code",
   "execution_count": null,
   "metadata": {
    "collapsed": false
   },
   "outputs": [],
   "source": [
    "aapl9 = sell_signal_prices(aapl9, 70, 30)"
   ]
  },
  {
   "cell_type": "code",
   "execution_count": null,
   "metadata": {
    "collapsed": false
   },
   "outputs": [],
   "source": [
    "aapl9.iloc[13]"
   ]
  },
  {
   "cell_type": "markdown",
   "metadata": {},
   "source": [
    "The above observation is the first instance of the RSI falling below 30 in the first Apple dataset, that's why it's used here as well to check and see if I've successfully added the sell signal price.\n",
    "\n",
    "Now I will move onto running the regressions.  I will forgo running the models on the holding periods since they were no better than the first set of \"naive\" regressions.\n",
    "\n",
    "First I will create my train/test splits.  I will use the same features as above."
   ]
  },
  {
   "cell_type": "code",
   "execution_count": null,
   "metadata": {
    "collapsed": true
   },
   "outputs": [],
   "source": [
    "aapl_preds, aapl_feats, aapl_testp, aapl_testf = train_test(aapl9, rsi_features, ['Sell Signal Price'], .8)"
   ]
  },
  {
   "cell_type": "markdown",
   "metadata": {},
   "source": [
    "## Linear Regression"
   ]
  },
  {
   "cell_type": "code",
   "execution_count": null,
   "metadata": {
    "collapsed": false
   },
   "outputs": [],
   "source": [
    "rsi_309_model = LinearRegression()\n",
    "rsi_309_model.fit(aapl_feats, aapl_preds)"
   ]
  },
  {
   "cell_type": "code",
   "execution_count": null,
   "metadata": {
    "collapsed": true
   },
   "outputs": [],
   "source": [
    "aapl309_predictions = rsi_309_model.predict(aapl_testf)"
   ]
  },
  {
   "cell_type": "code",
   "execution_count": null,
   "metadata": {
    "collapsed": false
   },
   "outputs": [],
   "source": [
    "rsi_309_model.score(aapl_testf, aapl_testp)"
   ]
  },
  {
   "cell_type": "code",
   "execution_count": null,
   "metadata": {
    "collapsed": false
   },
   "outputs": [],
   "source": [
    "np.sum((aapl309_predictions - aapl_testp) ** 2)"
   ]
  },
  {
   "cell_type": "code",
   "execution_count": null,
   "metadata": {
    "collapsed": false
   },
   "outputs": [],
   "source": [
    "plt.scatter(aapl_testf.index, aapl_testp, color='black')\n",
    "plt.plot(aapl_testf.index, aapl309_predictions, color='blue', linewidth=.5)"
   ]
  },
  {
   "cell_type": "markdown",
   "metadata": {},
   "source": [
    "It looks as though I am fitting the curve very tightly.  This is somewhat expected actually.  One of the most persistent issues with machine learning and trading is the overfitting problem.  Here we see with more trading events, the model is in fact fitting the data almost perfectly.\n",
    "\n",
    "Now I will run the decision tree regression."
   ]
  },
  {
   "cell_type": "code",
   "execution_count": null,
   "metadata": {
    "collapsed": true
   },
   "outputs": [],
   "source": [
    "trereg_2309 = DecisionTreeRegressor(max_depth=2)\n",
    "trereg_5309 = DecisionTreeRegressor(max_depth=5)\n",
    "trereg_20309 = DecisionTreeRegressor(max_depth=20)"
   ]
  },
  {
   "cell_type": "code",
   "execution_count": null,
   "metadata": {
    "collapsed": false
   },
   "outputs": [],
   "source": [
    "trereg_2309.fit(aapl_feats, aapl_preds)\n",
    "trereg_5309.fit(aapl_feats, aapl_preds)\n",
    "trereg_20309.fit(aapl_feats, aapl_preds)"
   ]
  },
  {
   "cell_type": "code",
   "execution_count": null,
   "metadata": {
    "collapsed": false
   },
   "outputs": [],
   "source": [
    "predict_2309 = trereg_2309.predict(aapl_testf)\n",
    "predict_5309 = trereg_5309.predict(aapl_testf)\n",
    "predict_20309 = trereg_20309.predict(aapl_testf)"
   ]
  },
  {
   "cell_type": "markdown",
   "metadata": {},
   "source": [
    "**Scores & RSS**"
   ]
  },
  {
   "cell_type": "code",
   "execution_count": null,
   "metadata": {
    "collapsed": false
   },
   "outputs": [],
   "source": [
    "print \"Max depth 2 score: {}\".format(trereg_2309.score(aapl_testf, aapl_testp))\n",
    "print \"Max depth 5 score: {}\".format(trereg_5309.score(aapl_testf, aapl_testp))\n",
    "print \"Max depth 20 score: {}\".format(trereg_20309.score(aapl_testf, aapl_testp))"
   ]
  },
  {
   "cell_type": "code",
   "execution_count": null,
   "metadata": {
    "collapsed": false
   },
   "outputs": [],
   "source": [
    "rsi_9_actual = aapl_testp.as_matrix(columns=['Sell Signal Price'])\n",
    "rsi_9_actual =  rsi_9_actual.reshape((1788,))"
   ]
  },
  {
   "cell_type": "code",
   "execution_count": null,
   "metadata": {
    "collapsed": false
   },
   "outputs": [],
   "source": [
    "print \"Max depth 2 RSS: {}\".format(np.sum((predict_2309 - rsi_9_actual) ** 2))\n",
    "print \"Max depth 5 RSS: {}\".format(np.sum((predict_5309 - rsi_9_actual) ** 2))\n",
    "print \"Max depth 20 RSS: {}\".format(np.sum((predict_20309 - rsi_9_actual) ** 2))"
   ]
  },
  {
   "cell_type": "markdown",
   "metadata": {},
   "source": [
    "**Charts**"
   ]
  },
  {
   "cell_type": "markdown",
   "metadata": {},
   "source": [
    "Max depth 2:"
   ]
  },
  {
   "cell_type": "code",
   "execution_count": null,
   "metadata": {
    "collapsed": false
   },
   "outputs": [],
   "source": [
    "plt.scatter(aapl_testf.index, aapl_testp, color='black')\n",
    "plt.plot(aapl_testf.index, predict_2309, color='blue', linewidth=.5)"
   ]
  },
  {
   "cell_type": "markdown",
   "metadata": {},
   "source": [
    "Max depth 5:"
   ]
  },
  {
   "cell_type": "code",
   "execution_count": null,
   "metadata": {
    "collapsed": false
   },
   "outputs": [],
   "source": [
    "plt.scatter(aapl_testf.index, aapl_testp, color='black')\n",
    "plt.plot(aapl_testf.index, predict_5309, color='blue', linewidth=.5)"
   ]
  },
  {
   "cell_type": "markdown",
   "metadata": {},
   "source": [
    "Max depth 20:"
   ]
  },
  {
   "cell_type": "code",
   "execution_count": null,
   "metadata": {
    "collapsed": false
   },
   "outputs": [],
   "source": [
    "plt.scatter(aapl_testf.index, aapl_testp, color='black')\n",
    "plt.plot(aapl_testf.index, predict_20309, color='blue', linewidth=.5)"
   ]
  },
  {
   "cell_type": "markdown",
   "metadata": {},
   "source": [
    "As with the decision tree with the 14 day RSI dataset, we see predictions that don't really correlate with the price data.  It seems pretty self evident that the decision tree is being overly impacted by the early data and is running into problems with predicting accurate prices.\n",
    "\n",
    "I also want to make the same back of the envelope calculation as I did above to see what effect more trades had on this strategy."
   ]
  },
  {
   "cell_type": "code",
   "execution_count": null,
   "metadata": {
    "collapsed": false
   },
   "outputs": [],
   "source": [
    "comp_list_9 = []\n",
    "\n",
    "for line in aapl9.iterrows():\n",
    "    if line[1][14] > 0:\n",
    "        asd = line[1][14] - line[1][9]\n",
    "        comp_list_9.append(asd)\n",
    "        \n",
    "sum(comp_list_9)"
   ]
  },
  {
   "cell_type": "code",
   "execution_count": null,
   "metadata": {
    "collapsed": false
   },
   "outputs": [],
   "source": [
    "print \"RSI 14 day # of trades: {}, RSI 9 day # of trades: {}\".format(len(comp_list), len(comp_list_9))"
   ]
  },
  {
   "cell_type": "markdown",
   "metadata": {},
   "source": [
    "This is an interesting outcome, since typically strategies with more trades have worse performance.  My expectation, even with this simplistic calculation, was that this sum total would be lower.  However, given that we are looking at only 905 & 1436 trades since 1980, this probably does not qualify as overtrading and my assumptions that the performance is worse for the 9 day RSI is probably unfounded.\n",
    "\n",
    "Finally I want to consider a lower threshold for the buy signal.  I will use 25 as the lower threshold.  I will also do so on both of the 9 & 14 day datasets that I already have.\n",
    "\n",
    "\n",
    "**14 Day**"
   ]
  },
  {
   "cell_type": "code",
   "execution_count": null,
   "metadata": {
    "collapsed": false
   },
   "outputs": [],
   "source": [
    "aapl14_25 = tick_gettr('AAPL')\n",
    "aapl14_25_rsi = rsi(aapl14_25, 14)\n",
    "aapl14_25['RSI'] = aapl14_25_rsi\n",
    "aapl14_25 = aapl14_25[14:]\n",
    "aapl14_25.head(2)"
   ]
  },
  {
   "cell_type": "code",
   "execution_count": null,
   "metadata": {
    "collapsed": false
   },
   "outputs": [],
   "source": [
    "aapl14_25 = price_columns(aapl14_25, 70, 25)\n",
    "aapl14_25.head(2)"
   ]
  },
  {
   "cell_type": "code",
   "execution_count": null,
   "metadata": {
    "collapsed": true
   },
   "outputs": [],
   "source": [
    "base14_25 = aapl14_25.copy()\n",
    "base14_25 = base14_25['Adj-C']\n",
    "\n",
    "day_1 = base14_25.shift(-1)\n",
    "day_3 = base14_25.shift(-3)\n",
    "day_5 = base14_25.shift(-5)\n",
    "day_10 = base14_25.shift(-10)\n",
    "\n",
    "aapl14_25['Day 1'] = day_1\n",
    "aapl14_25['Day 3'] = day_3\n",
    "aapl14_25['Day 5'] = day_5\n",
    "aapl14_25['Day 10'] = day_10"
   ]
  },
  {
   "cell_type": "code",
   "execution_count": null,
   "metadata": {
    "collapsed": false
   },
   "outputs": [],
   "source": [
    "aapl14_25.head(2)"
   ]
  },
  {
   "cell_type": "code",
   "execution_count": null,
   "metadata": {
    "collapsed": false
   },
   "outputs": [],
   "source": [
    "aapl14_25 = sell_signal_prices(aapl14_25, 70, 25)\n",
    "aapl14_25.iloc[26]"
   ]
  },
  {
   "cell_type": "code",
   "execution_count": null,
   "metadata": {
    "collapsed": true
   },
   "outputs": [],
   "source": [
    "aapl_preds, aapl_feats, aapl_testp, aapl_testf = train_test(aapl14_25, rsi_features, ['Sell Signal Price'], .8)"
   ]
  },
  {
   "cell_type": "code",
   "execution_count": null,
   "metadata": {
    "collapsed": true
   },
   "outputs": [],
   "source": [
    "rsi_1425_model = LinearRegression()\n",
    "rsi_1425_model.fit(aapl_feats, aapl_preds)\n",
    "predictions_1425 = rsi_1425_model.predict(aapl_testf)"
   ]
  },
  {
   "cell_type": "code",
   "execution_count": null,
   "metadata": {
    "collapsed": false
   },
   "outputs": [],
   "source": [
    "print \"Score: {} & RSS: {}\".format(rsi_1425_model.score(aapl_testf, aapl_testp), np.sum(\n",
    "        (predictions_1425 - aapl_testp) ** 2))"
   ]
  },
  {
   "cell_type": "code",
   "execution_count": null,
   "metadata": {
    "collapsed": false
   },
   "outputs": [],
   "source": [
    "plt.scatter(aapl_testf.index, aapl_testp, color='black')\n",
    "plt.plot(aapl_testf.index, predictions_1425, color='blue', linewidth=.5)"
   ]
  },
  {
   "cell_type": "code",
   "execution_count": null,
   "metadata": {
    "collapsed": false
   },
   "outputs": [],
   "source": [
    "comp_list1425 = []\n",
    "\n",
    "for line in aapl14_25.iterrows():\n",
    "    if line[1][14] > 0:\n",
    "        asd = line[1][14] - line[1][9]\n",
    "        comp_list1425.append(asd)\n",
    "        \n",
    "print len(comp_list1425), sum(comp_list1425)"
   ]
  },
  {
   "cell_type": "markdown",
   "metadata": {},
   "source": [
    "**9 Day**"
   ]
  },
  {
   "cell_type": "code",
   "execution_count": null,
   "metadata": {
    "collapsed": false
   },
   "outputs": [],
   "source": [
    "aapl9_25 = tick_gettr('AAPL')\n",
    "aapl9_25_rsi = rsi(aapl9_25, 9)\n",
    "aapl9_25['RSI'] = aapl9_25_rsi\n",
    "aapl9_25 = aapl9_25[9:]\n",
    "aapl9_25.head(2)"
   ]
  },
  {
   "cell_type": "code",
   "execution_count": null,
   "metadata": {
    "collapsed": false
   },
   "outputs": [],
   "source": [
    "aapl9_25 = price_columns(aapl9_25, 70, 25)\n",
    "aapl9_25.head(2)"
   ]
  },
  {
   "cell_type": "code",
   "execution_count": null,
   "metadata": {
    "collapsed": false
   },
   "outputs": [],
   "source": [
    "base9_25 = aapl9_25.copy()\n",
    "base9_25 = base9_25['Adj-C']\n",
    "\n",
    "day_1 = base9_25.shift(-1)\n",
    "day_3 = base9_25.shift(-3)\n",
    "day_5 = base9_25.shift(-5)\n",
    "day_10 = base9_25.shift(-10)\n",
    "\n",
    "aapl9_25['Day 1'] = day_1\n",
    "aapl9_25['Day 3'] = day_3\n",
    "aapl9_25['Day 5'] = day_5\n",
    "aapl9_25['Day 10'] = day_10\n",
    "\n",
    "aapl9_25.head(2)"
   ]
  },
  {
   "cell_type": "code",
   "execution_count": null,
   "metadata": {
    "collapsed": false
   },
   "outputs": [],
   "source": [
    "aapl9_25 = sell_signal_prices(aapl9_25, 70, 25)\n",
    "aapl9_25.iloc[26]"
   ]
  },
  {
   "cell_type": "code",
   "execution_count": null,
   "metadata": {
    "collapsed": true
   },
   "outputs": [],
   "source": [
    "aapl_preds, aapl_feats, aapl_testp, aapl_testf = train_test(aapl9_25, rsi_features, ['Sell Signal Price'], .8)"
   ]
  },
  {
   "cell_type": "code",
   "execution_count": null,
   "metadata": {
    "collapsed": true
   },
   "outputs": [],
   "source": [
    "rsi_925_model = LinearRegression()\n",
    "rsi_925_model.fit(aapl_feats, aapl_preds)\n",
    "predictions_925 = rsi_925_model.predict(aapl_testf)"
   ]
  },
  {
   "cell_type": "code",
   "execution_count": null,
   "metadata": {
    "collapsed": false
   },
   "outputs": [],
   "source": [
    "print \"Score: {} & RSS: {}\".format(rsi_925_model.score(aapl_testf, aapl_testp), np.sum(\n",
    "        (predictions_925 - aapl_testp) ** 2))"
   ]
  },
  {
   "cell_type": "code",
   "execution_count": null,
   "metadata": {
    "collapsed": false
   },
   "outputs": [],
   "source": [
    "plt.scatter(aapl_testf.index, aapl_testp, color='black')\n",
    "plt.plot(aapl_testf.index, predictions_925, color='blue', linewidth=.5)"
   ]
  },
  {
   "cell_type": "code",
   "execution_count": null,
   "metadata": {
    "collapsed": false
   },
   "outputs": [],
   "source": [
    "comp_list925 = []\n",
    "\n",
    "for line in aapl9_25.iterrows():\n",
    "    if line[1][14] > 0:\n",
    "        asd = line[1][14] - line[1][9]\n",
    "        comp_list925.append(asd)\n",
    "        \n",
    "print len(comp_list925), sum(comp_list925)"
   ]
  },
  {
   "cell_type": "markdown",
   "metadata": {},
   "source": [
    "MSFT, ZUMZ, IBM, X"
   ]
  },
  {
   "cell_type": "code",
   "execution_count": null,
   "metadata": {
    "collapsed": true
   },
   "outputs": [],
   "source": []
  }
 ],
 "metadata": {
  "kernelspec": {
   "display_name": "Python 2",
   "language": "python",
   "name": "python2"
  },
  "language_info": {
   "codemirror_mode": {
    "name": "ipython",
    "version": 2
   },
   "file_extension": ".py",
   "mimetype": "text/x-python",
   "name": "python",
   "nbconvert_exporter": "python",
   "pygments_lexer": "ipython2",
   "version": "2.7.12"
  }
 },
 "nbformat": 4,
 "nbformat_minor": 0
}
