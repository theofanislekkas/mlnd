{
 "cells": [
  {
   "cell_type": "code",
   "execution_count": 1,
   "metadata": {
    "collapsed": true
   },
   "outputs": [],
   "source": [
    "from __future__ import division\n",
    "\n",
    "import numpy as np\n",
    "import pandas as pd\n",
    "\n",
    "import matplotlib.pyplot as plt\n",
    "\n",
    "from matplotlib import finance\n",
    "\n",
    "%matplotlib inline"
   ]
  },
  {
   "cell_type": "markdown",
   "metadata": {},
   "source": [
    "# Loading and Exploring the Data\n",
    "\n",
    "Below is a link to the entire dataset used.  This dataset is 1.63GB, so it may take some time to download.  Also note that it will take ~2 minutes for the data to load when running the notebook:\n",
    "\n",
    "https://drive.google.com/open?id=0Byss1RfRw2XvU0tqMzRndmhaNEU"
   ]
  },
  {
   "cell_type": "code",
   "execution_count": 2,
   "metadata": {
    "collapsed": false
   },
   "outputs": [],
   "source": [
    "data = pd.read_csv('WIKI_20160608.csv', names=['Ticker', 'Date', 'Open', 'High', 'Low', 'Close',\n",
    "                                              'Volume', '7', '8', 'Adj-O', 'Adj-H', 'Adj-L', 'Adj-C',\n",
    "                                              'Adj-Vol'])"
   ]
  },
  {
   "cell_type": "code",
   "execution_count": 3,
   "metadata": {
    "collapsed": false
   },
   "outputs": [
    {
     "data": {
      "text/html": [
       "<div>\n",
       "<table border=\"1\" class=\"dataframe\">\n",
       "  <thead>\n",
       "    <tr style=\"text-align: right;\">\n",
       "      <th></th>\n",
       "      <th>Ticker</th>\n",
       "      <th>Date</th>\n",
       "      <th>Open</th>\n",
       "      <th>High</th>\n",
       "      <th>Low</th>\n",
       "      <th>Close</th>\n",
       "      <th>Volume</th>\n",
       "      <th>7</th>\n",
       "      <th>8</th>\n",
       "      <th>Adj-O</th>\n",
       "      <th>Adj-H</th>\n",
       "      <th>Adj-L</th>\n",
       "      <th>Adj-C</th>\n",
       "      <th>Adj-Vol</th>\n",
       "    </tr>\n",
       "  </thead>\n",
       "  <tbody>\n",
       "    <tr>\n",
       "      <th>0</th>\n",
       "      <td>A</td>\n",
       "      <td>1999-11-18</td>\n",
       "      <td>45.50</td>\n",
       "      <td>50.00</td>\n",
       "      <td>40.00</td>\n",
       "      <td>44.00</td>\n",
       "      <td>44739900.0</td>\n",
       "      <td>0.0</td>\n",
       "      <td>1.0</td>\n",
       "      <td>43.584507</td>\n",
       "      <td>47.895063</td>\n",
       "      <td>38.316050</td>\n",
       "      <td>42.147655</td>\n",
       "      <td>44739900.0</td>\n",
       "    </tr>\n",
       "    <tr>\n",
       "      <th>1</th>\n",
       "      <td>A</td>\n",
       "      <td>1999-11-19</td>\n",
       "      <td>42.94</td>\n",
       "      <td>43.00</td>\n",
       "      <td>39.81</td>\n",
       "      <td>40.38</td>\n",
       "      <td>10897100.0</td>\n",
       "      <td>0.0</td>\n",
       "      <td>1.0</td>\n",
       "      <td>41.132280</td>\n",
       "      <td>41.189754</td>\n",
       "      <td>38.134049</td>\n",
       "      <td>38.680053</td>\n",
       "      <td>10897100.0</td>\n",
       "    </tr>\n",
       "    <tr>\n",
       "      <th>2</th>\n",
       "      <td>A</td>\n",
       "      <td>1999-11-22</td>\n",
       "      <td>41.31</td>\n",
       "      <td>44.00</td>\n",
       "      <td>40.06</td>\n",
       "      <td>44.00</td>\n",
       "      <td>4705200.0</td>\n",
       "      <td>0.0</td>\n",
       "      <td>1.0</td>\n",
       "      <td>39.570901</td>\n",
       "      <td>42.147655</td>\n",
       "      <td>38.373524</td>\n",
       "      <td>42.147655</td>\n",
       "      <td>4705200.0</td>\n",
       "    </tr>\n",
       "    <tr>\n",
       "      <th>3</th>\n",
       "      <td>A</td>\n",
       "      <td>1999-11-23</td>\n",
       "      <td>42.50</td>\n",
       "      <td>43.63</td>\n",
       "      <td>40.25</td>\n",
       "      <td>40.25</td>\n",
       "      <td>4274400.0</td>\n",
       "      <td>0.0</td>\n",
       "      <td>1.0</td>\n",
       "      <td>40.710803</td>\n",
       "      <td>41.793232</td>\n",
       "      <td>38.555525</td>\n",
       "      <td>38.555525</td>\n",
       "      <td>4274400.0</td>\n",
       "    </tr>\n",
       "    <tr>\n",
       "      <th>4</th>\n",
       "      <td>A</td>\n",
       "      <td>1999-11-24</td>\n",
       "      <td>40.13</td>\n",
       "      <td>41.94</td>\n",
       "      <td>40.00</td>\n",
       "      <td>41.06</td>\n",
       "      <td>3464400.0</td>\n",
       "      <td>0.0</td>\n",
       "      <td>1.0</td>\n",
       "      <td>38.440577</td>\n",
       "      <td>40.174379</td>\n",
       "      <td>38.316050</td>\n",
       "      <td>39.331425</td>\n",
       "      <td>3464400.0</td>\n",
       "    </tr>\n",
       "  </tbody>\n",
       "</table>\n",
       "</div>"
      ],
      "text/plain": [
       "  Ticker        Date   Open   High    Low  Close      Volume    7    8  \\\n",
       "0      A  1999-11-18  45.50  50.00  40.00  44.00  44739900.0  0.0  1.0   \n",
       "1      A  1999-11-19  42.94  43.00  39.81  40.38  10897100.0  0.0  1.0   \n",
       "2      A  1999-11-22  41.31  44.00  40.06  44.00   4705200.0  0.0  1.0   \n",
       "3      A  1999-11-23  42.50  43.63  40.25  40.25   4274400.0  0.0  1.0   \n",
       "4      A  1999-11-24  40.13  41.94  40.00  41.06   3464400.0  0.0  1.0   \n",
       "\n",
       "       Adj-O      Adj-H      Adj-L      Adj-C     Adj-Vol  \n",
       "0  43.584507  47.895063  38.316050  42.147655  44739900.0  \n",
       "1  41.132280  41.189754  38.134049  38.680053  10897100.0  \n",
       "2  39.570901  42.147655  38.373524  42.147655   4705200.0  \n",
       "3  40.710803  41.793232  38.555525  38.555525   4274400.0  \n",
       "4  38.440577  40.174379  38.316050  39.331425   3464400.0  "
      ]
     },
     "execution_count": 3,
     "metadata": {},
     "output_type": "execute_result"
    }
   ],
   "source": [
    "data.head(5)"
   ]
  },
  {
   "cell_type": "markdown",
   "metadata": {},
   "source": [
    "Create a new dataframe with only the adjusted data, data, & ticker symbol."
   ]
  },
  {
   "cell_type": "code",
   "execution_count": 4,
   "metadata": {
    "collapsed": true
   },
   "outputs": [],
   "source": [
    "dat = data[['Ticker', 'Date', 'Adj-O', 'Adj-H', 'Adj-L', 'Adj-C', 'Adj-Vol']]"
   ]
  },
  {
   "cell_type": "code",
   "execution_count": 5,
   "metadata": {
    "collapsed": false
   },
   "outputs": [
    {
     "data": {
      "text/html": [
       "<div>\n",
       "<table border=\"1\" class=\"dataframe\">\n",
       "  <thead>\n",
       "    <tr style=\"text-align: right;\">\n",
       "      <th></th>\n",
       "      <th>Ticker</th>\n",
       "      <th>Date</th>\n",
       "      <th>Adj-O</th>\n",
       "      <th>Adj-H</th>\n",
       "      <th>Adj-L</th>\n",
       "      <th>Adj-C</th>\n",
       "      <th>Adj-Vol</th>\n",
       "    </tr>\n",
       "  </thead>\n",
       "  <tbody>\n",
       "    <tr>\n",
       "      <th>0</th>\n",
       "      <td>A</td>\n",
       "      <td>1999-11-18</td>\n",
       "      <td>43.584507</td>\n",
       "      <td>47.895063</td>\n",
       "      <td>38.316050</td>\n",
       "      <td>42.147655</td>\n",
       "      <td>44739900.0</td>\n",
       "    </tr>\n",
       "    <tr>\n",
       "      <th>1</th>\n",
       "      <td>A</td>\n",
       "      <td>1999-11-19</td>\n",
       "      <td>41.132280</td>\n",
       "      <td>41.189754</td>\n",
       "      <td>38.134049</td>\n",
       "      <td>38.680053</td>\n",
       "      <td>10897100.0</td>\n",
       "    </tr>\n",
       "    <tr>\n",
       "      <th>2</th>\n",
       "      <td>A</td>\n",
       "      <td>1999-11-22</td>\n",
       "      <td>39.570901</td>\n",
       "      <td>42.147655</td>\n",
       "      <td>38.373524</td>\n",
       "      <td>42.147655</td>\n",
       "      <td>4705200.0</td>\n",
       "    </tr>\n",
       "    <tr>\n",
       "      <th>3</th>\n",
       "      <td>A</td>\n",
       "      <td>1999-11-23</td>\n",
       "      <td>40.710803</td>\n",
       "      <td>41.793232</td>\n",
       "      <td>38.555525</td>\n",
       "      <td>38.555525</td>\n",
       "      <td>4274400.0</td>\n",
       "    </tr>\n",
       "    <tr>\n",
       "      <th>4</th>\n",
       "      <td>A</td>\n",
       "      <td>1999-11-24</td>\n",
       "      <td>38.440577</td>\n",
       "      <td>40.174379</td>\n",
       "      <td>38.316050</td>\n",
       "      <td>39.331425</td>\n",
       "      <td>3464400.0</td>\n",
       "    </tr>\n",
       "  </tbody>\n",
       "</table>\n",
       "</div>"
      ],
      "text/plain": [
       "  Ticker        Date      Adj-O      Adj-H      Adj-L      Adj-C     Adj-Vol\n",
       "0      A  1999-11-18  43.584507  47.895063  38.316050  42.147655  44739900.0\n",
       "1      A  1999-11-19  41.132280  41.189754  38.134049  38.680053  10897100.0\n",
       "2      A  1999-11-22  39.570901  42.147655  38.373524  42.147655   4705200.0\n",
       "3      A  1999-11-23  40.710803  41.793232  38.555525  38.555525   4274400.0\n",
       "4      A  1999-11-24  38.440577  40.174379  38.316050  39.331425   3464400.0"
      ]
     },
     "execution_count": 5,
     "metadata": {},
     "output_type": "execute_result"
    }
   ],
   "source": [
    "dat.head(5)"
   ]
  },
  {
   "cell_type": "code",
   "execution_count": 6,
   "metadata": {
    "collapsed": false
   },
   "outputs": [
    {
     "data": {
      "text/plain": [
       "(14150093, 7)"
      ]
     },
     "execution_count": 6,
     "metadata": {},
     "output_type": "execute_result"
    }
   ],
   "source": [
    "dat.shape"
   ]
  },
  {
   "cell_type": "markdown",
   "metadata": {},
   "source": [
    "Create a dataframe for a specific ticker"
   ]
  },
  {
   "cell_type": "code",
   "execution_count": 7,
   "metadata": {
    "collapsed": true
   },
   "outputs": [],
   "source": [
    "agilent = dat[dat['Ticker'] == 'A']"
   ]
  },
  {
   "cell_type": "code",
   "execution_count": 8,
   "metadata": {
    "collapsed": false
   },
   "outputs": [
    {
     "data": {
      "text/html": [
       "<div>\n",
       "<table border=\"1\" class=\"dataframe\">\n",
       "  <thead>\n",
       "    <tr style=\"text-align: right;\">\n",
       "      <th></th>\n",
       "      <th>Ticker</th>\n",
       "      <th>Date</th>\n",
       "      <th>Adj-O</th>\n",
       "      <th>Adj-H</th>\n",
       "      <th>Adj-L</th>\n",
       "      <th>Adj-C</th>\n",
       "      <th>Adj-Vol</th>\n",
       "    </tr>\n",
       "  </thead>\n",
       "  <tbody>\n",
       "    <tr>\n",
       "      <th>0</th>\n",
       "      <td>A</td>\n",
       "      <td>1999-11-18</td>\n",
       "      <td>43.584507</td>\n",
       "      <td>47.895063</td>\n",
       "      <td>38.316050</td>\n",
       "      <td>42.147655</td>\n",
       "      <td>44739900.0</td>\n",
       "    </tr>\n",
       "    <tr>\n",
       "      <th>1</th>\n",
       "      <td>A</td>\n",
       "      <td>1999-11-19</td>\n",
       "      <td>41.132280</td>\n",
       "      <td>41.189754</td>\n",
       "      <td>38.134049</td>\n",
       "      <td>38.680053</td>\n",
       "      <td>10897100.0</td>\n",
       "    </tr>\n",
       "    <tr>\n",
       "      <th>2</th>\n",
       "      <td>A</td>\n",
       "      <td>1999-11-22</td>\n",
       "      <td>39.570901</td>\n",
       "      <td>42.147655</td>\n",
       "      <td>38.373524</td>\n",
       "      <td>42.147655</td>\n",
       "      <td>4705200.0</td>\n",
       "    </tr>\n",
       "    <tr>\n",
       "      <th>3</th>\n",
       "      <td>A</td>\n",
       "      <td>1999-11-23</td>\n",
       "      <td>40.710803</td>\n",
       "      <td>41.793232</td>\n",
       "      <td>38.555525</td>\n",
       "      <td>38.555525</td>\n",
       "      <td>4274400.0</td>\n",
       "    </tr>\n",
       "    <tr>\n",
       "      <th>4</th>\n",
       "      <td>A</td>\n",
       "      <td>1999-11-24</td>\n",
       "      <td>38.440577</td>\n",
       "      <td>40.174379</td>\n",
       "      <td>38.316050</td>\n",
       "      <td>39.331425</td>\n",
       "      <td>3464400.0</td>\n",
       "    </tr>\n",
       "  </tbody>\n",
       "</table>\n",
       "</div>"
      ],
      "text/plain": [
       "  Ticker        Date      Adj-O      Adj-H      Adj-L      Adj-C     Adj-Vol\n",
       "0      A  1999-11-18  43.584507  47.895063  38.316050  42.147655  44739900.0\n",
       "1      A  1999-11-19  41.132280  41.189754  38.134049  38.680053  10897100.0\n",
       "2      A  1999-11-22  39.570901  42.147655  38.373524  42.147655   4705200.0\n",
       "3      A  1999-11-23  40.710803  41.793232  38.555525  38.555525   4274400.0\n",
       "4      A  1999-11-24  38.440577  40.174379  38.316050  39.331425   3464400.0"
      ]
     },
     "execution_count": 8,
     "metadata": {},
     "output_type": "execute_result"
    }
   ],
   "source": [
    "agilent.head()"
   ]
  },
  {
   "cell_type": "markdown",
   "metadata": {},
   "source": [
    "Pretty straight forward to get a ticker specific set of data.  Below I will create a function to automate the process."
   ]
  },
  {
   "cell_type": "code",
   "execution_count": 9,
   "metadata": {
    "collapsed": true
   },
   "outputs": [],
   "source": [
    "def tick_gettr(ticker):\n",
    "    data = dat[dat['Ticker'] == ticker]\n",
    "    return data"
   ]
  },
  {
   "cell_type": "markdown",
   "metadata": {},
   "source": [
    "I will also create an array for all tickers in the dataset in case that comes in handy."
   ]
  },
  {
   "cell_type": "code",
   "execution_count": 10,
   "metadata": {
    "collapsed": false
   },
   "outputs": [
    {
     "data": {
      "text/plain": [
       "3179"
      ]
     },
     "execution_count": 10,
     "metadata": {},
     "output_type": "execute_result"
    }
   ],
   "source": [
    "tickers = dat['Ticker']\n",
    "tickers = tickers.unique()\n",
    "len(tickers)"
   ]
  },
  {
   "cell_type": "markdown",
   "metadata": {},
   "source": [
    "Now I will get a ticker specific set of data to work with."
   ]
  },
  {
   "cell_type": "code",
   "execution_count": 11,
   "metadata": {
    "collapsed": true
   },
   "outputs": [],
   "source": [
    "aapl = tick_gettr('AAPL')"
   ]
  },
  {
   "cell_type": "markdown",
   "metadata": {},
   "source": [
    "## Basic Calculations\n",
    "\n",
    "I first need to create the RSI components and determine how many days my moving average will be built with.\n",
    "\n",
    "I will begin by creating the relative strength component.  Instead of hardcoding a number of days for the moving average I want to be able to look at different averages.  Below I will write a couple of functions to create the RSI.\n",
    "\n",
    "RS:"
   ]
  },
  {
   "cell_type": "code",
   "execution_count": 12,
   "metadata": {
    "collapsed": true
   },
   "outputs": [],
   "source": [
    "def rs(ticker, look_back):\n",
    "    \"\"\"\n",
    "    A function to find the relative strength of a stock using a user specified\n",
    "    look back period.\n",
    "    \"\"\"\n",
    "    \n",
    "    #Get the difference between consecutive adjusted closes.\n",
    "    difference = ticker['Adj-C'].diff()\n",
    "    difference = difference[1:]\n",
    "    \n",
    "    #Define & clean up the up sessions & down sessions.\n",
    "    up, down = difference.copy(), difference.copy()\n",
    "    \n",
    "    up[up < 0] = 0\n",
    "    down[down > 0] = 0\n",
    "    \n",
    "    #Get the absolute value for the down sessions.\n",
    "    down = down.abs()\n",
    "    \n",
    "    #Get the look_back mean for both up & down sessions.\n",
    "    upper = up.rolling(window=look_back, center=False).mean()\n",
    "    downer = down.rolling(window=look_back, center=False).mean()\n",
    "        \n",
    "    #Calculate the relative strength\n",
    "    rs = upper / downer\n",
    "    \n",
    "    return rs"
   ]
  },
  {
   "cell_type": "markdown",
   "metadata": {},
   "source": [
    "RSI:"
   ]
  },
  {
   "cell_type": "code",
   "execution_count": 13,
   "metadata": {
    "collapsed": true
   },
   "outputs": [],
   "source": [
    "def rsi(ticker, look_back):\n",
    "    \"\"\"\n",
    "    A function that determines the relative strength index of a specific stock.\n",
    "    \"\"\"\n",
    "    \n",
    "    #Get the relative strength.\n",
    "    r_s = rs(ticker, look_back)\n",
    "    #Calculate the RSI.\n",
    "    rsi = 100.0 - 100.0 / (1.0 + r_s)\n",
    "\n",
    "    return rsi.round(decimals=2)"
   ]
  },
  {
   "cell_type": "markdown",
   "metadata": {},
   "source": [
    "The Python code to get the RS calculation was greatly informed from this StackOverflow answer:\n",
    "\n",
    "##### http://stackoverflow.com/a/29400434/1094634\n",
    "\n",
    "Also important to note, that some sources will calculate some elements of the RSI differently.  Yahoo Finance & ThinkorSwim for instances calculate it the same (and differently from the above calculation) while Freestockcharts.com (Worden) calculates it the same way as the above functions."
   ]
  },
  {
   "cell_type": "markdown",
   "metadata": {},
   "source": [
    "### Buy/Sell Rule:\n",
    "\n",
    "I will need some rules to determine when to buy & when to sell.  I will begin with a simple buy/sell rule.  Buy @ the closing price when RSI < 30 & sell @ the closing price when RSI > 70.  The 30 & 70 thresholds are the traditional demarcation points for 'oversold' (<30) & 'overbought' (>70) while using the RSI.  These thresholds are ripe for fine tuning.  Initially, I will be using the 14 day average.  The other average that I want to look at is the 9 day.  As with the oversold/overbought level, the optimal average needs to be tested/tuned as well.\n",
    "\n",
    "Simply, what I want to know is if the RSI predicts higer prices from the buy point.  The actual price itself is not very important (although will be useful.)  If the sell price is consistently higher than the buy price, then I will interpret that as the RSI having some predictive value (whether or not the RSI strategy is more profitable than simply buying & holding the S&P 500 or the individual issues I use is a separate question.)\n",
    "\n",
    "\n",
    "First, I will get Apples (AAPL) RSI using the 14 day average."
   ]
  },
  {
   "cell_type": "code",
   "execution_count": 14,
   "metadata": {
    "collapsed": true
   },
   "outputs": [],
   "source": [
    "aapl_rsi = rsi(aapl, 14)"
   ]
  },
  {
   "cell_type": "markdown",
   "metadata": {},
   "source": [
    "Now I want to add a new column to the dataset to include the RSI"
   ]
  },
  {
   "cell_type": "code",
   "execution_count": 15,
   "metadata": {
    "collapsed": false
   },
   "outputs": [
    {
     "name": "stderr",
     "output_type": "stream",
     "text": [
      "/Users/amagi/anaconda/envs/mlnd/lib/python2.7/site-packages/ipykernel/__main__.py:1: SettingWithCopyWarning: \n",
      "A value is trying to be set on a copy of a slice from a DataFrame.\n",
      "Try using .loc[row_indexer,col_indexer] = value instead\n",
      "\n",
      "See the caveats in the documentation: http://pandas.pydata.org/pandas-docs/stable/indexing.html#indexing-view-versus-copy\n",
      "  if __name__ == '__main__':\n"
     ]
    }
   ],
   "source": [
    "aapl['RSI'] = aapl_rsi"
   ]
  },
  {
   "cell_type": "code",
   "execution_count": 16,
   "metadata": {
    "collapsed": false
   },
   "outputs": [
    {
     "data": {
      "text/html": [
       "<div>\n",
       "<table border=\"1\" class=\"dataframe\">\n",
       "  <thead>\n",
       "    <tr style=\"text-align: right;\">\n",
       "      <th></th>\n",
       "      <th>Ticker</th>\n",
       "      <th>Date</th>\n",
       "      <th>Adj-O</th>\n",
       "      <th>Adj-H</th>\n",
       "      <th>Adj-L</th>\n",
       "      <th>Adj-C</th>\n",
       "      <th>Adj-Vol</th>\n",
       "      <th>RSI</th>\n",
       "    </tr>\n",
       "  </thead>\n",
       "  <tbody>\n",
       "    <tr>\n",
       "      <th>39644</th>\n",
       "      <td>AAPL</td>\n",
       "      <td>1980-12-12</td>\n",
       "      <td>0.436051</td>\n",
       "      <td>0.437871</td>\n",
       "      <td>0.436051</td>\n",
       "      <td>0.436051</td>\n",
       "      <td>117258400.0</td>\n",
       "      <td>NaN</td>\n",
       "    </tr>\n",
       "    <tr>\n",
       "      <th>39645</th>\n",
       "      <td>AAPL</td>\n",
       "      <td>1980-12-15</td>\n",
       "      <td>0.415273</td>\n",
       "      <td>0.415273</td>\n",
       "      <td>0.413301</td>\n",
       "      <td>0.413301</td>\n",
       "      <td>43971200.0</td>\n",
       "      <td>NaN</td>\n",
       "    </tr>\n",
       "  </tbody>\n",
       "</table>\n",
       "</div>"
      ],
      "text/plain": [
       "      Ticker        Date     Adj-O     Adj-H     Adj-L     Adj-C      Adj-Vol  \\\n",
       "39644   AAPL  1980-12-12  0.436051  0.437871  0.436051  0.436051  117258400.0   \n",
       "39645   AAPL  1980-12-15  0.415273  0.415273  0.413301  0.413301   43971200.0   \n",
       "\n",
       "       RSI  \n",
       "39644  NaN  \n",
       "39645  NaN  "
      ]
     },
     "execution_count": 16,
     "metadata": {},
     "output_type": "execute_result"
    }
   ],
   "source": [
    "aapl.head(2)"
   ]
  },
  {
   "cell_type": "markdown",
   "metadata": {},
   "source": [
    "Next I want to remove the first 14 columsn with NaNs for the RSI"
   ]
  },
  {
   "cell_type": "code",
   "execution_count": 17,
   "metadata": {
    "collapsed": true
   },
   "outputs": [],
   "source": [
    "aapl = aapl[14:]"
   ]
  },
  {
   "cell_type": "code",
   "execution_count": 18,
   "metadata": {
    "collapsed": false
   },
   "outputs": [
    {
     "data": {
      "text/html": [
       "<div>\n",
       "<table border=\"1\" class=\"dataframe\">\n",
       "  <thead>\n",
       "    <tr style=\"text-align: right;\">\n",
       "      <th></th>\n",
       "      <th>Ticker</th>\n",
       "      <th>Date</th>\n",
       "      <th>Adj-O</th>\n",
       "      <th>Adj-H</th>\n",
       "      <th>Adj-L</th>\n",
       "      <th>Adj-C</th>\n",
       "      <th>Adj-Vol</th>\n",
       "      <th>RSI</th>\n",
       "    </tr>\n",
       "  </thead>\n",
       "  <tbody>\n",
       "    <tr>\n",
       "      <th>39658</th>\n",
       "      <td>AAPL</td>\n",
       "      <td>1981-01-05</td>\n",
       "      <td>0.513706</td>\n",
       "      <td>0.513706</td>\n",
       "      <td>0.511886</td>\n",
       "      <td>0.511886</td>\n",
       "      <td>8932000.0</td>\n",
       "      <td>64.5</td>\n",
       "    </tr>\n",
       "    <tr>\n",
       "      <th>39659</th>\n",
       "      <td>AAPL</td>\n",
       "      <td>1981-01-06</td>\n",
       "      <td>0.490956</td>\n",
       "      <td>0.490956</td>\n",
       "      <td>0.489136</td>\n",
       "      <td>0.489136</td>\n",
       "      <td>11289600.0</td>\n",
       "      <td>64.5</td>\n",
       "    </tr>\n",
       "  </tbody>\n",
       "</table>\n",
       "</div>"
      ],
      "text/plain": [
       "      Ticker        Date     Adj-O     Adj-H     Adj-L     Adj-C     Adj-Vol  \\\n",
       "39658   AAPL  1981-01-05  0.513706  0.513706  0.511886  0.511886   8932000.0   \n",
       "39659   AAPL  1981-01-06  0.490956  0.490956  0.489136  0.489136  11289600.0   \n",
       "\n",
       "        RSI  \n",
       "39658  64.5  \n",
       "39659  64.5  "
      ]
     },
     "execution_count": 18,
     "metadata": {},
     "output_type": "execute_result"
    }
   ],
   "source": [
    "aapl.head(2)"
   ]
  },
  {
   "cell_type": "markdown",
   "metadata": {},
   "source": [
    "Now I want to create some more columns that will show the prices for days where the RSI is < 30 & > 70.  Since I am going to do this repeatedly, I want to create a function to handle this process."
   ]
  },
  {
   "cell_type": "code",
   "execution_count": 19,
   "metadata": {
    "collapsed": true
   },
   "outputs": [],
   "source": [
    "def price_columns(data, overbot, oversold):\n",
    "    \"\"\"\n",
    "    A function that adds and populates the 'Sell Price' and 'Buy Price' columns for\n",
    "    the dataset that is being used.\n",
    "    \n",
    "    overbot & oversold are ints\n",
    "    \"\"\"\n",
    "    number_observations = len(data)\n",
    "    data['Sell Price'] = pd.Series(0, np.arange(number_observations))\n",
    "    #Populate the 'Sell Price' column with the relevant overbought data.\n",
    "    data.ix[data.RSI > overbot, 'Sell Price'] = data['Adj-C']\n",
    "    data['Buy Price'] = pd.Series(0, np.arange(number_observations))\n",
    "    #Populate the 'Buy Price' column with the relevant oversold data.\n",
    "    data.ix[data.RSI < oversold, 'Buy Price'] = data['Adj-C']\n",
    "    \n",
    "    return data"
   ]
  },
  {
   "cell_type": "code",
   "execution_count": 20,
   "metadata": {
    "collapsed": true
   },
   "outputs": [],
   "source": [
    "aapl = price_columns(aapl, 70, 30)"
   ]
  },
  {
   "cell_type": "code",
   "execution_count": 21,
   "metadata": {
    "collapsed": false
   },
   "outputs": [
    {
     "data": {
      "text/html": [
       "<div>\n",
       "<table border=\"1\" class=\"dataframe\">\n",
       "  <thead>\n",
       "    <tr style=\"text-align: right;\">\n",
       "      <th></th>\n",
       "      <th>Ticker</th>\n",
       "      <th>Date</th>\n",
       "      <th>Adj-O</th>\n",
       "      <th>Adj-H</th>\n",
       "      <th>Adj-L</th>\n",
       "      <th>Adj-C</th>\n",
       "      <th>Adj-Vol</th>\n",
       "      <th>RSI</th>\n",
       "      <th>Sell Price</th>\n",
       "      <th>Buy Price</th>\n",
       "    </tr>\n",
       "  </thead>\n",
       "  <tbody>\n",
       "    <tr>\n",
       "      <th>39658</th>\n",
       "      <td>AAPL</td>\n",
       "      <td>1981-01-05</td>\n",
       "      <td>0.513706</td>\n",
       "      <td>0.513706</td>\n",
       "      <td>0.511886</td>\n",
       "      <td>0.511886</td>\n",
       "      <td>8932000.0</td>\n",
       "      <td>64.5</td>\n",
       "      <td>NaN</td>\n",
       "      <td>NaN</td>\n",
       "    </tr>\n",
       "    <tr>\n",
       "      <th>39659</th>\n",
       "      <td>AAPL</td>\n",
       "      <td>1981-01-06</td>\n",
       "      <td>0.490956</td>\n",
       "      <td>0.490956</td>\n",
       "      <td>0.489136</td>\n",
       "      <td>0.489136</td>\n",
       "      <td>11289600.0</td>\n",
       "      <td>64.5</td>\n",
       "      <td>NaN</td>\n",
       "      <td>NaN</td>\n",
       "    </tr>\n",
       "  </tbody>\n",
       "</table>\n",
       "</div>"
      ],
      "text/plain": [
       "      Ticker        Date     Adj-O     Adj-H     Adj-L     Adj-C     Adj-Vol  \\\n",
       "39658   AAPL  1981-01-05  0.513706  0.513706  0.511886  0.511886   8932000.0   \n",
       "39659   AAPL  1981-01-06  0.490956  0.490956  0.489136  0.489136  11289600.0   \n",
       "\n",
       "        RSI  Sell Price  Buy Price  \n",
       "39658  64.5         NaN        NaN  \n",
       "39659  64.5         NaN        NaN  "
      ]
     },
     "execution_count": 21,
     "metadata": {},
     "output_type": "execute_result"
    }
   ],
   "source": [
    "aapl.head(2)"
   ]
  },
  {
   "cell_type": "markdown",
   "metadata": {},
   "source": [
    "Since I will also be prepping the data for multiple datasets repeatedly I want to do the RSI prep work above automatically as well.  I will write a function to handle prepping the data to include the RSI column."
   ]
  },
  {
   "cell_type": "code",
   "execution_count": 22,
   "metadata": {
    "collapsed": true
   },
   "outputs": [],
   "source": [
    "def rsi_add(data, ave_length):\n",
    "    \"\"\"\n",
    "    A function that will call rsi() to create the relevant RSI data & then add\n",
    "    the RSI column to the relevant dataset.\n",
    "    \n",
    "    ave_length is an int\n",
    "    \"\"\"\n",
    "    data_rsi = rsi(data, ave_length)\n",
    "    data['RSI'] = data_rsi\n",
    "    data = data[ave_length:]\n",
    "    \n",
    "    return data"
   ]
  },
  {
   "cell_type": "markdown",
   "metadata": {},
   "source": [
    "I will also create several columns that represent holding periods of 1, 3, 5, & 10 days.  I think it will be beneficial to see whether or not arbitrary holding periods show better returns then the RSI > 70 sell point.  These holding periods can be played with and they are picked to represent the shorter term nature of this type of trade."
   ]
  },
  {
   "cell_type": "code",
   "execution_count": 23,
   "metadata": {
    "collapsed": true
   },
   "outputs": [],
   "source": [
    "base = aapl.copy()\n",
    "base = base['Adj-C']\n",
    "\n",
    "day_1 = base.shift(-1)\n",
    "day_3 = base.shift(-3)\n",
    "day_5 = base.shift(-5)\n",
    "day_10 = base.shift(-10)"
   ]
  },
  {
   "cell_type": "code",
   "execution_count": 24,
   "metadata": {
    "collapsed": true
   },
   "outputs": [],
   "source": [
    "aapl['Day 1'] = day_1\n",
    "aapl['Day 3'] = day_3\n",
    "aapl['Day 5'] = day_5\n",
    "aapl['Day 10'] = day_10"
   ]
  },
  {
   "cell_type": "code",
   "execution_count": 25,
   "metadata": {
    "collapsed": false
   },
   "outputs": [
    {
     "data": {
      "text/html": [
       "<div>\n",
       "<table border=\"1\" class=\"dataframe\">\n",
       "  <thead>\n",
       "    <tr style=\"text-align: right;\">\n",
       "      <th></th>\n",
       "      <th>Ticker</th>\n",
       "      <th>Date</th>\n",
       "      <th>Adj-O</th>\n",
       "      <th>Adj-H</th>\n",
       "      <th>Adj-L</th>\n",
       "      <th>Adj-C</th>\n",
       "      <th>Adj-Vol</th>\n",
       "      <th>RSI</th>\n",
       "      <th>Sell Price</th>\n",
       "      <th>Buy Price</th>\n",
       "      <th>Day 1</th>\n",
       "      <th>Day 3</th>\n",
       "      <th>Day 5</th>\n",
       "      <th>Day 10</th>\n",
       "    </tr>\n",
       "  </thead>\n",
       "  <tbody>\n",
       "    <tr>\n",
       "      <th>39658</th>\n",
       "      <td>AAPL</td>\n",
       "      <td>1981-01-05</td>\n",
       "      <td>0.513706</td>\n",
       "      <td>0.513706</td>\n",
       "      <td>0.511886</td>\n",
       "      <td>0.511886</td>\n",
       "      <td>8932000.0</td>\n",
       "      <td>64.5</td>\n",
       "      <td>NaN</td>\n",
       "      <td>NaN</td>\n",
       "      <td>0.489136</td>\n",
       "      <td>0.458802</td>\n",
       "      <td>0.479581</td>\n",
       "      <td>0.498539</td>\n",
       "    </tr>\n",
       "    <tr>\n",
       "      <th>39659</th>\n",
       "      <td>AAPL</td>\n",
       "      <td>1981-01-06</td>\n",
       "      <td>0.490956</td>\n",
       "      <td>0.490956</td>\n",
       "      <td>0.489136</td>\n",
       "      <td>0.489136</td>\n",
       "      <td>11289600.0</td>\n",
       "      <td>64.5</td>\n",
       "      <td>NaN</td>\n",
       "      <td>NaN</td>\n",
       "      <td>0.468357</td>\n",
       "      <td>0.483524</td>\n",
       "      <td>0.462594</td>\n",
       "      <td>0.483524</td>\n",
       "    </tr>\n",
       "  </tbody>\n",
       "</table>\n",
       "</div>"
      ],
      "text/plain": [
       "      Ticker        Date     Adj-O     Adj-H     Adj-L     Adj-C     Adj-Vol  \\\n",
       "39658   AAPL  1981-01-05  0.513706  0.513706  0.511886  0.511886   8932000.0   \n",
       "39659   AAPL  1981-01-06  0.490956  0.490956  0.489136  0.489136  11289600.0   \n",
       "\n",
       "        RSI  Sell Price  Buy Price     Day 1     Day 3     Day 5    Day 10  \n",
       "39658  64.5         NaN        NaN  0.489136  0.458802  0.479581  0.498539  \n",
       "39659  64.5         NaN        NaN  0.468357  0.483524  0.462594  0.483524  "
      ]
     },
     "execution_count": 25,
     "metadata": {},
     "output_type": "execute_result"
    }
   ],
   "source": [
    "aapl.head(2)"
   ]
  },
  {
   "cell_type": "markdown",
   "metadata": {},
   "source": [
    "Now I have a dataset to begin working with."
   ]
  },
  {
   "cell_type": "markdown",
   "metadata": {},
   "source": [
    "# Analyzing the Data\n",
    "\n",
    "### A simple and naive regression\n",
    "\n",
    "First I am going to run a simple regression of the RSI column against the adjusted close column to see what that looks like."
   ]
  },
  {
   "cell_type": "code",
   "execution_count": 26,
   "metadata": {
    "collapsed": true
   },
   "outputs": [],
   "source": [
    "aapl_prices = aapl[['Adj-C']]\n",
    "aapl_rsi_d = aapl[['RSI']]"
   ]
  },
  {
   "cell_type": "markdown",
   "metadata": {},
   "source": [
    "### Splitting the training & test data.\n",
    "\n",
    "I will do this automatically as well, but since the historical order of the data is important I will write a function to handle this.  I want to train the model on the older data and test it on the newer data to see if there is any predictive abilities.  A **caveat** here, however, this where many of these types of strategies and analytical approaches end up overfitting and producing models the have *disatsrous* results in the real world."
   ]
  },
  {
   "cell_type": "code",
   "execution_count": 27,
   "metadata": {
    "collapsed": true
   },
   "outputs": [],
   "source": [
    "def train_test(data, features, prediction, train):\n",
    "    \"\"\"\n",
    "    A function that splits the dataset into training & testing sets while preserving chronological order.\n",
    "    \n",
    "    features = a list of strs that are will be used to train the models.\n",
    "    prediction = a list of a str that the model will be attempting to predict.\n",
    "    train = a float that represents the % of the dataset used for the training set.\n",
    "    \"\"\"\n",
    "    #Create our features & predictions\n",
    "    data_preds = data[prediction]\n",
    "    data_feats = data[features]\n",
    "    \n",
    "    #Use the train percent to get an int that will represent the index cut off point for\n",
    "    #the data sets\n",
    "    train_percent = int(round(len(data) * train))\n",
    "    \n",
    "    #Split the features & predictions into their train/test splits\n",
    "    train_preds = data_preds[:train_percent]\n",
    "    train_feats = data_feats[:train_percent]\n",
    "    test_preds = data_preds[train_percent:]\n",
    "    test_feats = data_feats[train_percent:]\n",
    "    \n",
    "    return train_preds, train_feats, test_preds, test_feats"
   ]
  },
  {
   "cell_type": "code",
   "execution_count": 28,
   "metadata": {
    "collapsed": false
   },
   "outputs": [],
   "source": [
    "aapl_preds, aapl_feats, aapl_testp, aapl_testf = train_test(aapl, ['RSI'], ['Adj-C'], .8)"
   ]
  },
  {
   "cell_type": "markdown",
   "metadata": {},
   "source": [
    "Now I will create a simple, naive linear regression model"
   ]
  },
  {
   "cell_type": "code",
   "execution_count": 29,
   "metadata": {
    "collapsed": true
   },
   "outputs": [],
   "source": [
    "from sklearn.linear_model import LinearRegression"
   ]
  },
  {
   "cell_type": "code",
   "execution_count": 30,
   "metadata": {
    "collapsed": false
   },
   "outputs": [
    {
     "data": {
      "text/plain": [
       "LinearRegression(copy_X=True, fit_intercept=True, n_jobs=1, normalize=False)"
      ]
     },
     "execution_count": 30,
     "metadata": {},
     "output_type": "execute_result"
    }
   ],
   "source": [
    "simple_linear = LinearRegression()\n",
    "simple_linear.fit(aapl_feats, aapl_preds)"
   ]
  },
  {
   "cell_type": "code",
   "execution_count": 31,
   "metadata": {
    "collapsed": false
   },
   "outputs": [],
   "source": [
    "predicted_price = simple_linear.predict(aapl_testf)"
   ]
  },
  {
   "cell_type": "code",
   "execution_count": 32,
   "metadata": {
    "collapsed": false
   },
   "outputs": [
    {
     "data": {
      "text/plain": [
       "-4.4864101023722318"
      ]
     },
     "execution_count": 32,
     "metadata": {},
     "output_type": "execute_result"
    }
   ],
   "source": [
    "simple_linear.score(aapl_testf, aapl_testp)"
   ]
  },
  {
   "cell_type": "markdown",
   "metadata": {},
   "source": [
    "Not a very good score.\n",
    "\n",
    "Let's see what the RSS is."
   ]
  },
  {
   "cell_type": "code",
   "execution_count": 33,
   "metadata": {
    "collapsed": false
   },
   "outputs": [
    {
     "data": {
      "text/plain": [
       "Adj-C    9.356749e+06\n",
       "dtype: float64"
      ]
     },
     "execution_count": 33,
     "metadata": {},
     "output_type": "execute_result"
    }
   ],
   "source": [
    "np.sum((predicted_price - aapl_testp) ** 2)"
   ]
  },
  {
   "cell_type": "markdown",
   "metadata": {},
   "source": [
    "That's a pretty large number, again not a very good result for this very simplistic regression model.\n",
    "\n",
    "I want to plot this out to see what these predicted results look like."
   ]
  },
  {
   "cell_type": "code",
   "execution_count": 34,
   "metadata": {
    "collapsed": false
   },
   "outputs": [
    {
     "data": {
      "text/plain": [
       "[<matplotlib.lines.Line2D at 0x119a01f10>]"
      ]
     },
     "execution_count": 34,
     "metadata": {},
     "output_type": "execute_result"
    },
    {
     "data": {
      "image/png": "[encoded data removed]",
      "text/plain": [
       "<matplotlib.figure.Figure at 0x119a01990>"
      ]
     },
     "metadata": {},
     "output_type": "display_data"
    }
   ],
   "source": [
    "plt.figure(figsize=(10,8))\n",
    "plt.scatter(aapl_testf.index, aapl_testp, color='black')\n",
    "plt.ylabel('Price')\n",
    "plt.xlabel('Index')\n",
    "plt.plot(aapl_testf.index, predicted_price, color='blue', linewidth=.5)"
   ]
  },
  {
   "cell_type": "markdown",
   "metadata": {},
   "source": [
    "Obviously simply using the RSI values without any type of filter to predict prices is not effective.\n",
    "\n",
    "Now I will use a number of features to see what the result is."
   ]
  },
  {
   "cell_type": "code",
   "execution_count": 35,
   "metadata": {
    "collapsed": true
   },
   "outputs": [],
   "source": [
    "multi_naive_features = ['Adj-O', 'Adj-H', 'Adj-L', 'Adj-Vol', 'RSI']"
   ]
  },
  {
   "cell_type": "code",
   "execution_count": 36,
   "metadata": {
    "collapsed": true
   },
   "outputs": [],
   "source": [
    "aapl_preds, aapl_feats, aapl_testp, aapl_testf = train_test(aapl, multi_naive_features, ['Adj-C'], .8)"
   ]
  },
  {
   "cell_type": "code",
   "execution_count": 37,
   "metadata": {
    "collapsed": false
   },
   "outputs": [
    {
     "data": {
      "text/plain": [
       "LinearRegression(copy_X=True, fit_intercept=True, n_jobs=1, normalize=False)"
      ]
     },
     "execution_count": 37,
     "metadata": {},
     "output_type": "execute_result"
    }
   ],
   "source": [
    "multi_simple_linear = LinearRegression()\n",
    "multi_simple_linear.fit(aapl_feats, aapl_preds)"
   ]
  },
  {
   "cell_type": "code",
   "execution_count": 38,
   "metadata": {
    "collapsed": false
   },
   "outputs": [],
   "source": [
    "predicted_price = multi_simple_linear.predict(aapl_testf)"
   ]
  },
  {
   "cell_type": "markdown",
   "metadata": {},
   "source": [
    "Check the regression score:"
   ]
  },
  {
   "cell_type": "code",
   "execution_count": 39,
   "metadata": {
    "collapsed": false
   },
   "outputs": [
    {
     "data": {
      "text/plain": [
       "0.99981783502231891"
      ]
     },
     "execution_count": 39,
     "metadata": {},
     "output_type": "execute_result"
    }
   ],
   "source": [
    "multi_simple_linear.score(aapl_testf, aapl_testp)"
   ]
  },
  {
   "cell_type": "markdown",
   "metadata": {},
   "source": [
    "Now calculate the RSS:"
   ]
  },
  {
   "cell_type": "code",
   "execution_count": 40,
   "metadata": {
    "collapsed": false
   },
   "outputs": [
    {
     "data": {
      "text/plain": [
       "Adj-C    310.671642\n",
       "dtype: float64"
      ]
     },
     "execution_count": 40,
     "metadata": {},
     "output_type": "execute_result"
    }
   ],
   "source": [
    "np.sum((predicted_price - aapl_testp) ** 2)"
   ]
  },
  {
   "cell_type": "markdown",
   "metadata": {},
   "source": [
    "This seems a little too good, so now I will plot my predictions."
   ]
  },
  {
   "cell_type": "code",
   "execution_count": 41,
   "metadata": {
    "collapsed": false
   },
   "outputs": [
    {
     "data": {
      "text/plain": [
       "[<matplotlib.lines.Line2D at 0x11a240c90>]"
      ]
     },
     "execution_count": 41,
     "metadata": {},
     "output_type": "execute_result"
    },
    {
     "data": {
      "image/png": "[encoded data removed]",
      "text/plain": [
       "<matplotlib.figure.Figure at 0x119a01810>"
      ]
     },
     "metadata": {},
     "output_type": "display_data"
    }
   ],
   "source": [
    "plt.figure(figsize=(10,8))\n",
    "plt.scatter(aapl_testf.index, aapl_testp, color='black')\n",
    "plt.ylabel('Price')\n",
    "plt.xlabel('Index')\n",
    "plt.plot(aapl_testf.index, predicted_price, color='blue', linewidth=.5)"
   ]
  },
  {
   "cell_type": "markdown",
   "metadata": {},
   "source": [
    "Where in the first naive regression I had no correlation whatsoever, this one seems to be too good to be true.\n",
    "\n",
    "Now I what to use the RSI buy/sell thresholds in order to see if I these thresholds are predictive.  I will use linear regression and decision tree regression.\n",
    "\n",
    "First I want to create another column that will show the post buy sell signal price.  I want to keep a sell column as well, since it theoretically possible to use the overbought signal as signal to short.  Anecdotally the short signal using RSI hasn't not been considered very successful and any number of theories as to why have been floated, however, I have never tested this and want to keep that option open.\n",
    "\n",
    "I will create another new column, 'Sell Signal Price', which will hold the closing price when the sell signal is generated.  I will again create a function to create this column and then populate it."
   ]
  },
  {
   "cell_type": "code",
   "execution_count": 42,
   "metadata": {
    "collapsed": false
   },
   "outputs": [],
   "source": [
    "def sell_signal_prices(data, overbot, oversold):\n",
    "    \"\"\"\n",
    "    This function will create the 'Sell Signal Column' and populate it with data.\n",
    "    \n",
    "    overbot & oversold are ints that represent the relevant thresholds for the RSI.\n",
    "    \"\"\"\n",
    "    \n",
    "    observations = len(data)\n",
    "    #Create an empty column and replace the NaNs with 0s.\n",
    "    data['Sell Signal Price'] = pd.Series(0, np.arange(observations))\n",
    "    data = data.fillna(0)\n",
    "    \n",
    "    #Create a temporary dataframe.\n",
    "    temp_frame = data[['Adj-C', 'RSI', 'Sell Price', 'Buy Price', 'Sell Signal Price']]\n",
    "    \n",
    "    #Loop through the temporary dataframe to populate the 'Sell Signal Price' column with data.\n",
    "    for price in temp_frame.iterrows():\n",
    "        if 0 < price[1][1] < oversold:\n",
    "            place = temp_frame.query(price[0])\n",
    "            p_start = temp_frame.index.get_loc(place.name)\n",
    "            temp_list = temp_frame[p_start:]\n",
    "\n",
    "            for i in temp_list.iterrows():\n",
    "                if i[1][1] > overbot:\n",
    "                    price[1][4] = i[1][0]\n",
    "                    break\n",
    "    \n",
    "    #Populate the new column in the original dataframe with the sell price data.\n",
    "    data['Sell Signal Price'] = temp_frame['Sell Signal Price']\n",
    "    \n",
    "    return data"
   ]
  },
  {
   "cell_type": "markdown",
   "metadata": {},
   "source": [
    "Now I will test the new function with the aapl dataset.  I know location of the first RSI < 30 observation so I will use that observation to see if the function works."
   ]
  },
  {
   "cell_type": "code",
   "execution_count": 43,
   "metadata": {
    "collapsed": false
   },
   "outputs": [
    {
     "data": {
      "text/plain": [
       "Ticker              AAPL\n",
       "Date          1981-01-16\n",
       "Adj-O           0.471997\n",
       "Adj-H           0.471997\n",
       "Adj-L           0.470177\n",
       "Adj-C           0.470177\n",
       "Adj-Vol       3.3488e+06\n",
       "RSI                29.55\n",
       "Sell Price           NaN\n",
       "Buy Price       0.470177\n",
       "Day 1           0.498539\n",
       "Day 3           0.492928\n",
       "Day 5           0.496719\n",
       "Day 10          0.428468\n",
       "Name: 39667, dtype: object"
      ]
     },
     "execution_count": 43,
     "metadata": {},
     "output_type": "execute_result"
    }
   ],
   "source": [
    "aapl.iloc[9]"
   ]
  },
  {
   "cell_type": "code",
   "execution_count": 44,
   "metadata": {
    "collapsed": false
   },
   "outputs": [],
   "source": [
    "aapl = sell_signal_prices(aapl, 70, 30)"
   ]
  },
  {
   "cell_type": "code",
   "execution_count": 45,
   "metadata": {
    "collapsed": false
   },
   "outputs": [
    {
     "data": {
      "text/plain": [
       "Ticker                     AAPL\n",
       "Date                 1981-01-16\n",
       "Adj-O                  0.471997\n",
       "Adj-H                  0.471997\n",
       "Adj-L                  0.470177\n",
       "Adj-C                  0.470177\n",
       "Adj-Vol              3.3488e+06\n",
       "RSI                       29.55\n",
       "Sell Price                    0\n",
       "Buy Price              0.470177\n",
       "Day 1                  0.498539\n",
       "Day 3                  0.492928\n",
       "Day 5                  0.496719\n",
       "Day 10                 0.428468\n",
       "Sell Signal Price      0.399954\n",
       "Name: 39667, dtype: object"
      ]
     },
     "execution_count": 45,
     "metadata": {},
     "output_type": "execute_result"
    }
   ],
   "source": [
    "aapl.iloc[9]"
   ]
  },
  {
   "cell_type": "markdown",
   "metadata": {},
   "source": [
    "Success!\n",
    "\n",
    "Now I want to use this dataset to run some regressions using linear regression and decision tree regeression.\n",
    "\n",
    "## Running the Regeressions\n",
    "\n",
    "First I will choose which features I want to use and then I will split up my train/test data."
   ]
  },
  {
   "cell_type": "code",
   "execution_count": 46,
   "metadata": {
    "collapsed": true
   },
   "outputs": [],
   "source": [
    "rsi_features = ['RSI', 'Buy Price']\n",
    "\n",
    "aapl_preds, aapl_feats, aapl_testp, aapl_testf = train_test(aapl, rsi_features, ['Sell Signal Price'], .8)"
   ]
  },
  {
   "cell_type": "markdown",
   "metadata": {},
   "source": [
    "### Linear Regression"
   ]
  },
  {
   "cell_type": "code",
   "execution_count": 47,
   "metadata": {
    "collapsed": false
   },
   "outputs": [
    {
     "data": {
      "text/plain": [
       "LinearRegression(copy_X=True, fit_intercept=True, n_jobs=1, normalize=False)"
      ]
     },
     "execution_count": 47,
     "metadata": {},
     "output_type": "execute_result"
    }
   ],
   "source": [
    "rsi_30_model = LinearRegression()\n",
    "rsi_30_model.fit(aapl_feats, aapl_preds)"
   ]
  },
  {
   "cell_type": "code",
   "execution_count": 48,
   "metadata": {
    "collapsed": false
   },
   "outputs": [],
   "source": [
    "predicted30_prices = rsi_30_model.predict(aapl_testf)"
   ]
  },
  {
   "cell_type": "markdown",
   "metadata": {},
   "source": [
    "Score & RSS:"
   ]
  },
  {
   "cell_type": "code",
   "execution_count": 49,
   "metadata": {
    "collapsed": false
   },
   "outputs": [
    {
     "data": {
      "text/plain": [
       "0.98512976758219584"
      ]
     },
     "execution_count": 49,
     "metadata": {},
     "output_type": "execute_result"
    }
   ],
   "source": [
    "rsi_30_model.score(aapl_testf, aapl_testp)"
   ]
  },
  {
   "cell_type": "code",
   "execution_count": 50,
   "metadata": {
    "collapsed": false
   },
   "outputs": [
    {
     "data": {
      "text/plain": [
       "Sell Signal Price    11671.091729\n",
       "dtype: float64"
      ]
     },
     "execution_count": 50,
     "metadata": {},
     "output_type": "execute_result"
    }
   ],
   "source": [
    "np.sum((predicted30_prices - aapl_testp) ** 2)"
   ]
  },
  {
   "cell_type": "code",
   "execution_count": 51,
   "metadata": {
    "collapsed": false
   },
   "outputs": [
    {
     "data": {
      "text/plain": [
       "<matplotlib.collections.PathCollection at 0x11a347690>"
      ]
     },
     "execution_count": 51,
     "metadata": {},
     "output_type": "execute_result"
    },
    {
     "data": {
      "image/png": "[encoded data removed]",
      "text/plain": [
       "<matplotlib.figure.Figure at 0x11a20d2d0>"
      ]
     },
     "metadata": {},
     "output_type": "display_data"
    }
   ],
   "source": [
    "plt.scatter(aapl_testf.index, aapl_testp, color='black')\n",
    "plt.ylabel('Price')\n",
    "plt.xlabel('Index')\n",
    "plt.ylim(ymin=1)\n",
    "plt.scatter(aapl_testf.index, predicted30_prices, color='red', linewidth=.5, marker='x')"
   ]
  },
  {
   "cell_type": "markdown",
   "metadata": {},
   "source": [
    "### Decision Tree Regression\n",
    "\n",
    "I am going to use three different max depths (2, 5, 20.)"
   ]
  },
  {
   "cell_type": "code",
   "execution_count": 52,
   "metadata": {
    "collapsed": true
   },
   "outputs": [],
   "source": [
    "from sklearn.tree import DecisionTreeRegressor"
   ]
  },
  {
   "cell_type": "code",
   "execution_count": 53,
   "metadata": {
    "collapsed": true
   },
   "outputs": [],
   "source": [
    "trereg_2 = DecisionTreeRegressor(max_depth=2)\n",
    "trereg_5 = DecisionTreeRegressor(max_depth=5)\n",
    "trereg_20 = DecisionTreeRegressor(max_depth=20)"
   ]
  },
  {
   "cell_type": "code",
   "execution_count": 54,
   "metadata": {
    "collapsed": false
   },
   "outputs": [
    {
     "data": {
      "text/plain": [
       "DecisionTreeRegressor(criterion='mse', max_depth=20, max_features=None,\n",
       "           max_leaf_nodes=None, min_samples_leaf=1, min_samples_split=2,\n",
       "           min_weight_fraction_leaf=0.0, presort=False, random_state=None,\n",
       "           splitter='best')"
      ]
     },
     "execution_count": 54,
     "metadata": {},
     "output_type": "execute_result"
    }
   ],
   "source": [
    "trereg_2.fit(aapl_feats, aapl_preds)\n",
    "trereg_5.fit(aapl_feats, aapl_preds)\n",
    "trereg_20.fit(aapl_feats, aapl_preds)"
   ]
  },
  {
   "cell_type": "code",
   "execution_count": 55,
   "metadata": {
    "collapsed": true
   },
   "outputs": [],
   "source": [
    "predict_2 = trereg_2.predict(aapl_testf)\n",
    "predict_5 = trereg_5.predict(aapl_testf)\n",
    "predict_20 = trereg_20.predict(aapl_testf)"
   ]
  },
  {
   "cell_type": "markdown",
   "metadata": {},
   "source": [
    "Now I want to see the scores & RSSs.\n",
    "\n",
    "First I have to clean up the test prices."
   ]
  },
  {
   "cell_type": "code",
   "execution_count": 56,
   "metadata": {
    "collapsed": true
   },
   "outputs": [],
   "source": [
    "testp_matrix = aapl_testp.as_matrix(columns=['Sell Signal Price'])\n",
    "testp_matrix = testp_matrix.reshape((1787, ))"
   ]
  },
  {
   "cell_type": "markdown",
   "metadata": {},
   "source": [
    "Max depth 2:"
   ]
  },
  {
   "cell_type": "code",
   "execution_count": 57,
   "metadata": {
    "collapsed": false
   },
   "outputs": [
    {
     "data": {
      "text/plain": [
       "0.29166041143263166"
      ]
     },
     "execution_count": 57,
     "metadata": {},
     "output_type": "execute_result"
    }
   ],
   "source": [
    "trereg_2.score(aapl_testf, aapl_testp)"
   ]
  },
  {
   "cell_type": "code",
   "execution_count": 58,
   "metadata": {
    "collapsed": false
   },
   "outputs": [
    {
     "data": {
      "text/plain": [
       "555949.3679156045"
      ]
     },
     "execution_count": 58,
     "metadata": {},
     "output_type": "execute_result"
    }
   ],
   "source": [
    "np.sum((predict_2 - testp_matrix) ** 2)"
   ]
  },
  {
   "cell_type": "markdown",
   "metadata": {},
   "source": [
    "Max depth 5:"
   ]
  },
  {
   "cell_type": "code",
   "execution_count": 59,
   "metadata": {
    "collapsed": false
   },
   "outputs": [
    {
     "data": {
      "text/plain": [
       "0.27080168559486484"
      ]
     },
     "execution_count": 59,
     "metadata": {},
     "output_type": "execute_result"
    }
   ],
   "source": [
    "trereg_5.score(aapl_testf, aapl_testp)"
   ]
  },
  {
   "cell_type": "code",
   "execution_count": 60,
   "metadata": {
    "collapsed": false
   },
   "outputs": [
    {
     "data": {
      "text/plain": [
       "572320.60514729063"
      ]
     },
     "execution_count": 60,
     "metadata": {},
     "output_type": "execute_result"
    }
   ],
   "source": [
    "np.sum((predict_5 - testp_matrix) ** 2)"
   ]
  },
  {
   "cell_type": "markdown",
   "metadata": {},
   "source": [
    "Max depth 20:"
   ]
  },
  {
   "cell_type": "code",
   "execution_count": 61,
   "metadata": {
    "collapsed": false
   },
   "outputs": [
    {
     "data": {
      "text/plain": [
       "0.28458236425208561"
      ]
     },
     "execution_count": 61,
     "metadata": {},
     "output_type": "execute_result"
    }
   ],
   "source": [
    "trereg_20.score(aapl_testf, aapl_testp)"
   ]
  },
  {
   "cell_type": "code",
   "execution_count": 62,
   "metadata": {
    "collapsed": false
   },
   "outputs": [
    {
     "data": {
      "text/plain": [
       "555949.3679156045"
      ]
     },
     "execution_count": 62,
     "metadata": {},
     "output_type": "execute_result"
    }
   ],
   "source": [
    "np.sum((predict_2 - testp_matrix) ** 2)"
   ]
  },
  {
   "cell_type": "markdown",
   "metadata": {},
   "source": [
    "Better than the naive regression I ran further up, but fairly mediocre.\n",
    "\n",
    "Now I will plot these to see what they look like.\n",
    "\n",
    "First, max depth 2:"
   ]
  },
  {
   "cell_type": "code",
   "execution_count": 63,
   "metadata": {
    "collapsed": false
   },
   "outputs": [
    {
     "data": {
      "text/plain": [
       "<matplotlib.collections.PathCollection at 0x11afadf10>"
      ]
     },
     "execution_count": 63,
     "metadata": {},
     "output_type": "execute_result"
    },
    {
     "data": {
      "image/png": "[encoded data removed]",
      "text/plain": [
       "<matplotlib.figure.Figure at 0x11af1ea90>"
      ]
     },
     "metadata": {},
     "output_type": "display_data"
    }
   ],
   "source": [
    "plt.scatter(aapl_testf.index, aapl_testp, color='black')\n",
    "plt.ylabel('Price')\n",
    "plt.xlabel('Index')\n",
    "plt.ylim(ymin=1)\n",
    "plt.scatter(aapl_testf.index, predict_2, color='red', linewidth=.5, marker='x')"
   ]
  },
  {
   "cell_type": "markdown",
   "metadata": {},
   "source": [
    "Max depth 5:"
   ]
  },
  {
   "cell_type": "code",
   "execution_count": 64,
   "metadata": {
    "collapsed": false
   },
   "outputs": [
    {
     "data": {
      "text/plain": [
       "<matplotlib.collections.PathCollection at 0x119a014d0>"
      ]
     },
     "execution_count": 64,
     "metadata": {},
     "output_type": "execute_result"
    },
    {
     "data": {
      "image/png": "[encoded data removed]",
      "text/plain": [
       "<matplotlib.figure.Figure at 0x119a01590>"
      ]
     },
     "metadata": {},
     "output_type": "display_data"
    }
   ],
   "source": [
    "plt.scatter(aapl_testf.index, aapl_testp, color='black')\n",
    "plt.ylabel('Price')\n",
    "plt.xlabel('Index')\n",
    "plt.ylim(ymin=1)\n",
    "plt.scatter(aapl_testf.index, predict_5, color='red', linewidth=.5, marker='x')"
   ]
  },
  {
   "cell_type": "markdown",
   "metadata": {},
   "source": [
    "Max depth 20:"
   ]
  },
  {
   "cell_type": "code",
   "execution_count": 65,
   "metadata": {
    "collapsed": false
   },
   "outputs": [
    {
     "data": {
      "text/plain": [
       "<matplotlib.collections.PathCollection at 0x11b56e750>"
      ]
     },
     "execution_count": 65,
     "metadata": {},
     "output_type": "execute_result"
    },
    {
     "data": {
      "image/png": "[encoded data removed]",
      "text/plain": [
       "<matplotlib.figure.Figure at 0x11b06a510>"
      ]
     },
     "metadata": {},
     "output_type": "display_data"
    }
   ],
   "source": [
    "plt.scatter(aapl_testf.index, aapl_testp, color='black')\n",
    "plt.ylabel('Price')\n",
    "plt.xlabel('Index')\n",
    "plt.ylim(ymin=1)\n",
    "plt.scatter(aapl_testf.index, predict_20, color='red', linewidth=.5, marker='x')"
   ]
  },
  {
   "cell_type": "markdown",
   "metadata": {},
   "source": [
    "Not very impressive results."
   ]
  },
  {
   "cell_type": "markdown",
   "metadata": {
    "collapsed": true
   },
   "source": [
    "## Using holding periods\n",
    "\n",
    "I want to also see if there is some predictive outcome by simply holding onto a position after a buy signal is genereated.  In order to avoid training each possibilty by hand, I'll now write a function to automate the process.  This idea is inspired by University of Washingtons Linear Regression course on Coursera."
   ]
  },
  {
   "cell_type": "code",
   "execution_count": 66,
   "metadata": {
    "collapsed": true
   },
   "outputs": [],
   "source": [
    "periods = ['Day 1', 'Day 3', 'Day 5', 'Day 10']\n",
    "hold_features = ['RSI', 'Buy Price']\n",
    "\n",
    "aapl_hold = aapl[['RSI', 'Buy Price', 'Day 1', 'Day 3', 'Day 5', 'Day 10']]"
   ]
  },
  {
   "cell_type": "code",
   "execution_count": 67,
   "metadata": {
    "collapsed": true
   },
   "outputs": [],
   "source": [
    "def predictor(data, periods, features, train):\n",
    "    \"\"\"\n",
    "    A function to automate the modeling for linear regression.\n",
    "    \n",
    "    data = the data set that the models will be trained on and predictions made from.\n",
    "    periods = contains a list of the columns with the relevant price data.\n",
    "    features = a list of strs that are will be used to train the models.\n",
    "    train = a float that represents the % of the dataset used for the training set.\n",
    "    \"\"\"\n",
    "    \n",
    "    observations = len(data)\n",
    "    train_percent = int(round(observations * train))\n",
    "    \n",
    "    #Create and prepare the feature data set.\n",
    "    features = data[features]\n",
    "    features = features.fillna(0)\n",
    "#     features = features.reshape((8935,1))\n",
    "    train_f = features[:train_percent]\n",
    "    test_f = features[train_percent:]\n",
    "    \n",
    "    for i in periods:\n",
    "        #Create and prepare the price data set.\n",
    "        prices = data[i]\n",
    "        prices = prices.fillna(0)\n",
    "        prices = prices.reshape((observations,1))\n",
    "        \n",
    "        train_p = prices[:train_percent]\n",
    "        test_p = prices[train_percent:]\n",
    "        \n",
    "        #Train model & make predictions.\n",
    "        model = LinearRegression()\n",
    "        model.fit(train_f, train_p)\n",
    "        predictions = model.predict(test_f)\n",
    "        \n",
    "        #Get RSS.\n",
    "        rss = np.sum((predictions - test_p) ** 2)\n",
    "        \n",
    "        #Model score.\n",
    "        score = model.score(test_f, test_p)\n",
    "        \n",
    "        print \"The score, {}, and RSS, {}, of the model for {}\".format(score, rss, i)\n",
    "    "
   ]
  },
  {
   "cell_type": "code",
   "execution_count": 68,
   "metadata": {
    "collapsed": false
   },
   "outputs": [
    {
     "name": "stdout",
     "output_type": "stream",
     "text": [
      "The score, -4.05448784097, and RSS, 8630669.29191, of the model for Day 1\n",
      "The score, -4.04152152132, and RSS, 8629283.47635, of the model for Day 3\n",
      "The score, -4.03151988386, and RSS, 8632681.31584, of the model for Day 5\n",
      "The score, -4.00502160549, and RSS, 8636099.24864, of the model for Day 10\n"
     ]
    }
   ],
   "source": [
    "predictor(aapl_hold, periods, hold_features, .8)"
   ]
  },
  {
   "cell_type": "markdown",
   "metadata": {},
   "source": [
    "As we can see here, simply using holding periods does not perform better than the first naive regression attempts.\n",
    "\n",
    "I also want to see if the actual \"returns\" (defined here simply as the sum of the difference between the buy price & sell signal price) were positive.  This is not an actual backtest, but more of a quick look to see whether or not a simple strategy of buy & selling using the RSI 30/70 generated a positive or negative result."
   ]
  },
  {
   "cell_type": "code",
   "execution_count": 69,
   "metadata": {
    "collapsed": false
   },
   "outputs": [
    {
     "data": {
      "text/plain": [
       "(8935, 15)"
      ]
     },
     "execution_count": 69,
     "metadata": {},
     "output_type": "execute_result"
    }
   ],
   "source": [
    "aapl.shape"
   ]
  },
  {
   "cell_type": "code",
   "execution_count": 70,
   "metadata": {
    "collapsed": false
   },
   "outputs": [
    {
     "data": {
      "text/html": [
       "<div>\n",
       "<table border=\"1\" class=\"dataframe\">\n",
       "  <thead>\n",
       "    <tr style=\"text-align: right;\">\n",
       "      <th></th>\n",
       "      <th>Ticker</th>\n",
       "      <th>Date</th>\n",
       "      <th>Adj-O</th>\n",
       "      <th>Adj-H</th>\n",
       "      <th>Adj-L</th>\n",
       "      <th>Adj-C</th>\n",
       "      <th>Adj-Vol</th>\n",
       "      <th>RSI</th>\n",
       "      <th>Sell Price</th>\n",
       "      <th>Buy Price</th>\n",
       "      <th>Day 1</th>\n",
       "      <th>Day 3</th>\n",
       "      <th>Day 5</th>\n",
       "      <th>Day 10</th>\n",
       "      <th>Sell Signal Price</th>\n",
       "    </tr>\n",
       "  </thead>\n",
       "  <tbody>\n",
       "    <tr>\n",
       "      <th>39658</th>\n",
       "      <td>AAPL</td>\n",
       "      <td>1981-01-05</td>\n",
       "      <td>0.513706</td>\n",
       "      <td>0.513706</td>\n",
       "      <td>0.511886</td>\n",
       "      <td>0.511886</td>\n",
       "      <td>8932000.0</td>\n",
       "      <td>64.5</td>\n",
       "      <td>0.0</td>\n",
       "      <td>0.0</td>\n",
       "      <td>0.489136</td>\n",
       "      <td>0.458802</td>\n",
       "      <td>0.479581</td>\n",
       "      <td>0.498539</td>\n",
       "      <td>0.0</td>\n",
       "    </tr>\n",
       "    <tr>\n",
       "      <th>39659</th>\n",
       "      <td>AAPL</td>\n",
       "      <td>1981-01-06</td>\n",
       "      <td>0.490956</td>\n",
       "      <td>0.490956</td>\n",
       "      <td>0.489136</td>\n",
       "      <td>0.489136</td>\n",
       "      <td>11289600.0</td>\n",
       "      <td>64.5</td>\n",
       "      <td>0.0</td>\n",
       "      <td>0.0</td>\n",
       "      <td>0.468357</td>\n",
       "      <td>0.483524</td>\n",
       "      <td>0.462594</td>\n",
       "      <td>0.483524</td>\n",
       "      <td>0.0</td>\n",
       "    </tr>\n",
       "  </tbody>\n",
       "</table>\n",
       "</div>"
      ],
      "text/plain": [
       "      Ticker        Date     Adj-O     Adj-H     Adj-L     Adj-C     Adj-Vol  \\\n",
       "39658   AAPL  1981-01-05  0.513706  0.513706  0.511886  0.511886   8932000.0   \n",
       "39659   AAPL  1981-01-06  0.490956  0.490956  0.489136  0.489136  11289600.0   \n",
       "\n",
       "        RSI  Sell Price  Buy Price     Day 1     Day 3     Day 5    Day 10  \\\n",
       "39658  64.5         0.0        0.0  0.489136  0.458802  0.479581  0.498539   \n",
       "39659  64.5         0.0        0.0  0.468357  0.483524  0.462594  0.483524   \n",
       "\n",
       "       Sell Signal Price  \n",
       "39658                0.0  \n",
       "39659                0.0  "
      ]
     },
     "execution_count": 70,
     "metadata": {},
     "output_type": "execute_result"
    }
   ],
   "source": [
    "aapl.head(2)"
   ]
  },
  {
   "cell_type": "code",
   "execution_count": 71,
   "metadata": {
    "collapsed": false
   },
   "outputs": [
    {
     "data": {
      "text/plain": [
       "272.92292481936585"
      ]
     },
     "execution_count": 71,
     "metadata": {},
     "output_type": "execute_result"
    }
   ],
   "source": [
    "comp_list = []\n",
    "\n",
    "for line in aapl.iterrows():\n",
    "    if line[1][14] > 0:\n",
    "        asd = line[1][14] - line[1][5]\n",
    "        comp_list.append(asd)\n",
    "        \n",
    "sum(comp_list)"
   ]
  },
  {
   "cell_type": "markdown",
   "metadata": {},
   "source": [
    "Again, this isn't meant to replace a legitmate backtest, but simply a quick look to see if buying & selling over the life (or at least our dataset) of a security produced a positve result.  When we start to factor in comissions, slippage, risk management, and position size the actual results would be different from this \"back of the envelope\" calculation.\n",
    "\n",
    "\n",
    "# Using Different Thresholds & Timeframes\n",
    "\n",
    "I will begin by using the 9 day moving average mentioned above.  The timeframe of moving averages tend to be arbitrary and rely upon customs that have been used by technical analysts & chartists over the decades.  No doubt as the increased quantification of trading & finance many of these moving averages (m.a.) have come under scrutiny there is still heavy reliance on the traditional metrics (e.g. the 50 & 200 day m.a.)\n",
    "\n",
    "I will once again use Apple as the test stock.  I will now use the 9 day RSI."
   ]
  },
  {
   "cell_type": "code",
   "execution_count": 72,
   "metadata": {
    "collapsed": true
   },
   "outputs": [],
   "source": [
    "aapl9 = tick_gettr('AAPL')"
   ]
  },
  {
   "cell_type": "code",
   "execution_count": 73,
   "metadata": {
    "collapsed": false
   },
   "outputs": [
    {
     "name": "stderr",
     "output_type": "stream",
     "text": [
      "/Users/amagi/anaconda/envs/mlnd/lib/python2.7/site-packages/ipykernel/__main__.py:2: SettingWithCopyWarning: \n",
      "A value is trying to be set on a copy of a slice from a DataFrame.\n",
      "Try using .loc[row_indexer,col_indexer] = value instead\n",
      "\n",
      "See the caveats in the documentation: http://pandas.pydata.org/pandas-docs/stable/indexing.html#indexing-view-versus-copy\n",
      "  from ipykernel import kernelapp as app\n"
     ]
    }
   ],
   "source": [
    "aapl9_rsi = rsi(aapl9, 9)\n",
    "aapl9['RSI'] = aapl9_rsi"
   ]
  },
  {
   "cell_type": "code",
   "execution_count": 74,
   "metadata": {
    "collapsed": true
   },
   "outputs": [],
   "source": [
    "aapl9 = aapl9[9:]"
   ]
  },
  {
   "cell_type": "code",
   "execution_count": 75,
   "metadata": {
    "collapsed": false
   },
   "outputs": [
    {
     "data": {
      "text/html": [
       "<div>\n",
       "<table border=\"1\" class=\"dataframe\">\n",
       "  <thead>\n",
       "    <tr style=\"text-align: right;\">\n",
       "      <th></th>\n",
       "      <th>Ticker</th>\n",
       "      <th>Date</th>\n",
       "      <th>Adj-O</th>\n",
       "      <th>Adj-H</th>\n",
       "      <th>Adj-L</th>\n",
       "      <th>Adj-C</th>\n",
       "      <th>Adj-Vol</th>\n",
       "      <th>RSI</th>\n",
       "    </tr>\n",
       "  </thead>\n",
       "  <tbody>\n",
       "    <tr>\n",
       "      <th>39653</th>\n",
       "      <td>AAPL</td>\n",
       "      <td>1980-12-26</td>\n",
       "      <td>0.538429</td>\n",
       "      <td>0.540249</td>\n",
       "      <td>0.538429</td>\n",
       "      <td>0.538429</td>\n",
       "      <td>13893600.0</td>\n",
       "      <td>74.55</td>\n",
       "    </tr>\n",
       "    <tr>\n",
       "      <th>39654</th>\n",
       "      <td>AAPL</td>\n",
       "      <td>1980-12-29</td>\n",
       "      <td>0.546012</td>\n",
       "      <td>0.547984</td>\n",
       "      <td>0.546012</td>\n",
       "      <td>0.546012</td>\n",
       "      <td>23290400.0</td>\n",
       "      <td>84.31</td>\n",
       "    </tr>\n",
       "  </tbody>\n",
       "</table>\n",
       "</div>"
      ],
      "text/plain": [
       "      Ticker        Date     Adj-O     Adj-H     Adj-L     Adj-C     Adj-Vol  \\\n",
       "39653   AAPL  1980-12-26  0.538429  0.540249  0.538429  0.538429  13893600.0   \n",
       "39654   AAPL  1980-12-29  0.546012  0.547984  0.546012  0.546012  23290400.0   \n",
       "\n",
       "         RSI  \n",
       "39653  74.55  \n",
       "39654  84.31  "
      ]
     },
     "execution_count": 75,
     "metadata": {},
     "output_type": "execute_result"
    }
   ],
   "source": [
    "aapl9.head(2)"
   ]
  },
  {
   "cell_type": "code",
   "execution_count": 76,
   "metadata": {
    "collapsed": true
   },
   "outputs": [],
   "source": [
    "aapl9 = price_columns(aapl9, 70, 30)"
   ]
  },
  {
   "cell_type": "code",
   "execution_count": 77,
   "metadata": {
    "collapsed": false
   },
   "outputs": [
    {
     "data": {
      "text/html": [
       "<div>\n",
       "<table border=\"1\" class=\"dataframe\">\n",
       "  <thead>\n",
       "    <tr style=\"text-align: right;\">\n",
       "      <th></th>\n",
       "      <th>Ticker</th>\n",
       "      <th>Date</th>\n",
       "      <th>Adj-O</th>\n",
       "      <th>Adj-H</th>\n",
       "      <th>Adj-L</th>\n",
       "      <th>Adj-C</th>\n",
       "      <th>Adj-Vol</th>\n",
       "      <th>RSI</th>\n",
       "      <th>Sell Price</th>\n",
       "      <th>Buy Price</th>\n",
       "    </tr>\n",
       "  </thead>\n",
       "  <tbody>\n",
       "    <tr>\n",
       "      <th>39653</th>\n",
       "      <td>AAPL</td>\n",
       "      <td>1980-12-26</td>\n",
       "      <td>0.538429</td>\n",
       "      <td>0.540249</td>\n",
       "      <td>0.538429</td>\n",
       "      <td>0.538429</td>\n",
       "      <td>13893600.0</td>\n",
       "      <td>74.55</td>\n",
       "      <td>0.538429</td>\n",
       "      <td>NaN</td>\n",
       "    </tr>\n",
       "    <tr>\n",
       "      <th>39654</th>\n",
       "      <td>AAPL</td>\n",
       "      <td>1980-12-29</td>\n",
       "      <td>0.546012</td>\n",
       "      <td>0.547984</td>\n",
       "      <td>0.546012</td>\n",
       "      <td>0.546012</td>\n",
       "      <td>23290400.0</td>\n",
       "      <td>84.31</td>\n",
       "      <td>0.546012</td>\n",
       "      <td>NaN</td>\n",
       "    </tr>\n",
       "  </tbody>\n",
       "</table>\n",
       "</div>"
      ],
      "text/plain": [
       "      Ticker        Date     Adj-O     Adj-H     Adj-L     Adj-C     Adj-Vol  \\\n",
       "39653   AAPL  1980-12-26  0.538429  0.540249  0.538429  0.538429  13893600.0   \n",
       "39654   AAPL  1980-12-29  0.546012  0.547984  0.546012  0.546012  23290400.0   \n",
       "\n",
       "         RSI  Sell Price  Buy Price  \n",
       "39653  74.55    0.538429        NaN  \n",
       "39654  84.31    0.546012        NaN  "
      ]
     },
     "execution_count": 77,
     "metadata": {},
     "output_type": "execute_result"
    }
   ],
   "source": [
    "aapl9.head(2)"
   ]
  },
  {
   "cell_type": "markdown",
   "metadata": {},
   "source": [
    "I will also add the holding period columns in order to have consistent datasets that are used for analysis."
   ]
  },
  {
   "cell_type": "code",
   "execution_count": 78,
   "metadata": {
    "collapsed": true
   },
   "outputs": [],
   "source": [
    "base9 = aapl9.copy()\n",
    "base9 = base9['Adj-C']\n",
    "\n",
    "day_1 = base9.shift(-1)\n",
    "day_3 = base9.shift(-3)\n",
    "day_5 = base9.shift(-5)\n",
    "day_10 = base9.shift(-10)"
   ]
  },
  {
   "cell_type": "code",
   "execution_count": 79,
   "metadata": {
    "collapsed": true
   },
   "outputs": [],
   "source": [
    "aapl9['Day 1'] = day_1\n",
    "aapl9['Day 3'] = day_3\n",
    "aapl9['Day 5'] = day_5\n",
    "aapl9['Day 10'] = day_10"
   ]
  },
  {
   "cell_type": "code",
   "execution_count": 80,
   "metadata": {
    "collapsed": false
   },
   "outputs": [
    {
     "data": {
      "text/html": [
       "<div>\n",
       "<table border=\"1\" class=\"dataframe\">\n",
       "  <thead>\n",
       "    <tr style=\"text-align: right;\">\n",
       "      <th></th>\n",
       "      <th>Ticker</th>\n",
       "      <th>Date</th>\n",
       "      <th>Adj-O</th>\n",
       "      <th>Adj-H</th>\n",
       "      <th>Adj-L</th>\n",
       "      <th>Adj-C</th>\n",
       "      <th>Adj-Vol</th>\n",
       "      <th>RSI</th>\n",
       "      <th>Sell Price</th>\n",
       "      <th>Buy Price</th>\n",
       "      <th>Day 1</th>\n",
       "      <th>Day 3</th>\n",
       "      <th>Day 5</th>\n",
       "      <th>Day 10</th>\n",
       "    </tr>\n",
       "  </thead>\n",
       "  <tbody>\n",
       "    <tr>\n",
       "      <th>39653</th>\n",
       "      <td>AAPL</td>\n",
       "      <td>1980-12-26</td>\n",
       "      <td>0.538429</td>\n",
       "      <td>0.540249</td>\n",
       "      <td>0.538429</td>\n",
       "      <td>0.538429</td>\n",
       "      <td>13893600.0</td>\n",
       "      <td>74.55</td>\n",
       "      <td>0.538429</td>\n",
       "      <td>NaN</td>\n",
       "      <td>0.546012</td>\n",
       "      <td>0.517650</td>\n",
       "      <td>0.511886</td>\n",
       "      <td>0.479581</td>\n",
       "    </tr>\n",
       "    <tr>\n",
       "      <th>39654</th>\n",
       "      <td>AAPL</td>\n",
       "      <td>1980-12-29</td>\n",
       "      <td>0.546012</td>\n",
       "      <td>0.547984</td>\n",
       "      <td>0.546012</td>\n",
       "      <td>0.546012</td>\n",
       "      <td>23290400.0</td>\n",
       "      <td>84.31</td>\n",
       "      <td>0.546012</td>\n",
       "      <td>NaN</td>\n",
       "      <td>0.532665</td>\n",
       "      <td>0.523262</td>\n",
       "      <td>0.489136</td>\n",
       "      <td>0.462594</td>\n",
       "    </tr>\n",
       "  </tbody>\n",
       "</table>\n",
       "</div>"
      ],
      "text/plain": [
       "      Ticker        Date     Adj-O     Adj-H     Adj-L     Adj-C     Adj-Vol  \\\n",
       "39653   AAPL  1980-12-26  0.538429  0.540249  0.538429  0.538429  13893600.0   \n",
       "39654   AAPL  1980-12-29  0.546012  0.547984  0.546012  0.546012  23290400.0   \n",
       "\n",
       "         RSI  Sell Price  Buy Price     Day 1     Day 3     Day 5    Day 10  \n",
       "39653  74.55    0.538429        NaN  0.546012  0.517650  0.511886  0.479581  \n",
       "39654  84.31    0.546012        NaN  0.532665  0.523262  0.489136  0.462594  "
      ]
     },
     "execution_count": 80,
     "metadata": {},
     "output_type": "execute_result"
    }
   ],
   "source": [
    "aapl9.head(2)"
   ]
  },
  {
   "cell_type": "markdown",
   "metadata": {},
   "source": [
    "Finally, I will add the Sell Signal Price column."
   ]
  },
  {
   "cell_type": "code",
   "execution_count": 81,
   "metadata": {
    "collapsed": false
   },
   "outputs": [],
   "source": [
    "aapl9 = sell_signal_prices(aapl9, 70, 30)"
   ]
  },
  {
   "cell_type": "code",
   "execution_count": 82,
   "metadata": {
    "collapsed": false
   },
   "outputs": [
    {
     "data": {
      "text/plain": [
       "Ticker                     AAPL\n",
       "Date                 1981-01-15\n",
       "Adj-O                  0.473969\n",
       "Adj-H                  0.477761\n",
       "Adj-L                  0.473969\n",
       "Adj-C                  0.473969\n",
       "Adj-Vol              3.5168e+06\n",
       "RSI                       29.71\n",
       "Sell Price                    0\n",
       "Buy Price              0.473969\n",
       "Day 1                  0.470177\n",
       "Day 3                  0.483524\n",
       "Day 5                  0.498539\n",
       "Day 10                 0.453038\n",
       "Sell Signal Price      0.405717\n",
       "Name: 39666, dtype: object"
      ]
     },
     "execution_count": 82,
     "metadata": {},
     "output_type": "execute_result"
    }
   ],
   "source": [
    "aapl9.iloc[13]"
   ]
  },
  {
   "cell_type": "markdown",
   "metadata": {},
   "source": [
    "The above observation is the first instance of the RSI falling below 30 in the first Apple dataset, that's why it's used here as well to check and see if I've successfully added the sell signal price.\n",
    "\n",
    "Now I will move onto running the regressions.  I will forgo running the models on the holding periods since they were no better than the first set of \"naive\" regressions.\n",
    "\n",
    "First I will create my train/test splits.  I will use the same features as above."
   ]
  },
  {
   "cell_type": "code",
   "execution_count": 83,
   "metadata": {
    "collapsed": true
   },
   "outputs": [],
   "source": [
    "aapl_preds, aapl_feats, aapl_testp, aapl_testf = train_test(aapl9, rsi_features, ['Sell Signal Price'], .8)"
   ]
  },
  {
   "cell_type": "markdown",
   "metadata": {},
   "source": [
    "## Linear Regression"
   ]
  },
  {
   "cell_type": "code",
   "execution_count": 84,
   "metadata": {
    "collapsed": false
   },
   "outputs": [
    {
     "data": {
      "text/plain": [
       "LinearRegression(copy_X=True, fit_intercept=True, n_jobs=1, normalize=False)"
      ]
     },
     "execution_count": 84,
     "metadata": {},
     "output_type": "execute_result"
    }
   ],
   "source": [
    "rsi_309_model = LinearRegression()\n",
    "rsi_309_model.fit(aapl_feats, aapl_preds)"
   ]
  },
  {
   "cell_type": "code",
   "execution_count": 85,
   "metadata": {
    "collapsed": true
   },
   "outputs": [],
   "source": [
    "aapl309_predictions = rsi_309_model.predict(aapl_testf)"
   ]
  },
  {
   "cell_type": "code",
   "execution_count": 86,
   "metadata": {
    "collapsed": false
   },
   "outputs": [
    {
     "data": {
      "text/plain": [
       "0.99313047238565977"
      ]
     },
     "execution_count": 86,
     "metadata": {},
     "output_type": "execute_result"
    }
   ],
   "source": [
    "rsi_309_model.score(aapl_testf, aapl_testp)"
   ]
  },
  {
   "cell_type": "code",
   "execution_count": 87,
   "metadata": {
    "collapsed": false
   },
   "outputs": [
    {
     "data": {
      "text/plain": [
       "Sell Signal Price    9260.092403\n",
       "dtype: float64"
      ]
     },
     "execution_count": 87,
     "metadata": {},
     "output_type": "execute_result"
    }
   ],
   "source": [
    "np.sum((aapl309_predictions - aapl_testp) ** 2)"
   ]
  },
  {
   "cell_type": "code",
   "execution_count": 88,
   "metadata": {
    "collapsed": false
   },
   "outputs": [
    {
     "data": {
      "text/plain": [
       "<matplotlib.collections.PathCollection at 0x11bba1b10>"
      ]
     },
     "execution_count": 88,
     "metadata": {},
     "output_type": "execute_result"
    },
    {
     "data": {
      "image/png": "[encoded data removed]",
      "text/plain": [
       "<matplotlib.figure.Figure at 0x11b5c3910>"
      ]
     },
     "metadata": {},
     "output_type": "display_data"
    }
   ],
   "source": [
    "plt.figure(figsize=(10,8))\n",
    "plt.scatter(aapl_testf.index, aapl_testp, color='black')\n",
    "plt.ylabel('Price')\n",
    "plt.xlabel('Index')\n",
    "plt.ylim(ymin=1)\n",
    "plt.scatter(aapl_testf.index, aapl309_predictions, color='red', linewidth=.5, marker='x')"
   ]
  },
  {
   "cell_type": "markdown",
   "metadata": {},
   "source": [
    "It looks as though I am fitting the curve very tightly.  This is somewhat expected actually.  One of the most persistent issues with machine learning and trading is the overfitting problem.  Here we see with more trading events, the model is in fact fitting the data almost perfectly.\n",
    "\n",
    "Now I will run the decision tree regression."
   ]
  },
  {
   "cell_type": "code",
   "execution_count": 89,
   "metadata": {
    "collapsed": true
   },
   "outputs": [],
   "source": [
    "trereg_2309 = DecisionTreeRegressor(max_depth=2)\n",
    "trereg_5309 = DecisionTreeRegressor(max_depth=5)\n",
    "trereg_20309 = DecisionTreeRegressor(max_depth=20)"
   ]
  },
  {
   "cell_type": "code",
   "execution_count": 90,
   "metadata": {
    "collapsed": false
   },
   "outputs": [
    {
     "data": {
      "text/plain": [
       "DecisionTreeRegressor(criterion='mse', max_depth=20, max_features=None,\n",
       "           max_leaf_nodes=None, min_samples_leaf=1, min_samples_split=2,\n",
       "           min_weight_fraction_leaf=0.0, presort=False, random_state=None,\n",
       "           splitter='best')"
      ]
     },
     "execution_count": 90,
     "metadata": {},
     "output_type": "execute_result"
    }
   ],
   "source": [
    "trereg_2309.fit(aapl_feats, aapl_preds)\n",
    "trereg_5309.fit(aapl_feats, aapl_preds)\n",
    "trereg_20309.fit(aapl_feats, aapl_preds)"
   ]
  },
  {
   "cell_type": "code",
   "execution_count": 91,
   "metadata": {
    "collapsed": false
   },
   "outputs": [],
   "source": [
    "predict_2309 = trereg_2309.predict(aapl_testf)\n",
    "predict_5309 = trereg_5309.predict(aapl_testf)\n",
    "predict_20309 = trereg_20309.predict(aapl_testf)"
   ]
  },
  {
   "cell_type": "markdown",
   "metadata": {},
   "source": [
    "**Scores & RSS**"
   ]
  },
  {
   "cell_type": "code",
   "execution_count": 92,
   "metadata": {
    "collapsed": false
   },
   "outputs": [
    {
     "name": "stdout",
     "output_type": "stream",
     "text": [
      "Max depth 2 score: 0.286652608931\n",
      "Max depth 5 score: 0.286379440629\n",
      "Max depth 20 score: 0.313487783451\n"
     ]
    }
   ],
   "source": [
    "print \"Max depth 2 score: {}\".format(trereg_2309.score(aapl_testf, aapl_testp))\n",
    "print \"Max depth 5 score: {}\".format(trereg_5309.score(aapl_testf, aapl_testp))\n",
    "print \"Max depth 20 score: {}\".format(trereg_20309.score(aapl_testf, aapl_testp))"
   ]
  },
  {
   "cell_type": "code",
   "execution_count": 93,
   "metadata": {
    "collapsed": false
   },
   "outputs": [],
   "source": [
    "rsi_9_actual = aapl_testp.as_matrix(columns=['Sell Signal Price'])\n",
    "rsi_9_actual =  rsi_9_actual.reshape((1788,))"
   ]
  },
  {
   "cell_type": "code",
   "execution_count": 94,
   "metadata": {
    "collapsed": false
   },
   "outputs": [
    {
     "name": "stdout",
     "output_type": "stream",
     "text": [
      "Max depth 2 RSS: 961589.082591\n",
      "Max depth 5 RSS: 961957.312237\n",
      "Max depth 20 RSS: 925415.387739\n"
     ]
    }
   ],
   "source": [
    "print \"Max depth 2 RSS: {}\".format(np.sum((predict_2309 - rsi_9_actual) ** 2))\n",
    "print \"Max depth 5 RSS: {}\".format(np.sum((predict_5309 - rsi_9_actual) ** 2))\n",
    "print \"Max depth 20 RSS: {}\".format(np.sum((predict_20309 - rsi_9_actual) ** 2))"
   ]
  },
  {
   "cell_type": "markdown",
   "metadata": {},
   "source": [
    "**Charts**"
   ]
  },
  {
   "cell_type": "markdown",
   "metadata": {},
   "source": [
    "Max depth 2:"
   ]
  },
  {
   "cell_type": "code",
   "execution_count": 95,
   "metadata": {
    "collapsed": false
   },
   "outputs": [
    {
     "data": {
      "text/plain": [
       "<matplotlib.collections.PathCollection at 0x11c3e6990>"
      ]
     },
     "execution_count": 95,
     "metadata": {},
     "output_type": "execute_result"
    },
    {
     "data": {
      "image/png": "[encoded data removed]",
      "text/plain": [
       "<matplotlib.figure.Figure at 0x11af58b10>"
      ]
     },
     "metadata": {},
     "output_type": "display_data"
    }
   ],
   "source": [
    "plt.scatter(aapl_testf.index, aapl_testp, color='black')\n",
    "plt.ylabel('Price')\n",
    "plt.xlabel('Index')\n",
    "plt.ylim(ymin=1)\n",
    "plt.scatter(aapl_testf.index, predict_2309, color='red', linewidth=.5, marker='x')"
   ]
  },
  {
   "cell_type": "markdown",
   "metadata": {},
   "source": [
    "Max depth 5:"
   ]
  },
  {
   "cell_type": "code",
   "execution_count": 96,
   "metadata": {
    "collapsed": false
   },
   "outputs": [
    {
     "data": {
      "text/plain": [
       "<matplotlib.collections.PathCollection at 0x11afbb5d0>"
      ]
     },
     "execution_count": 96,
     "metadata": {},
     "output_type": "execute_result"
    },
    {
     "data": {
      "image/png": "[encoded data removed]",
      "text/plain": [
       "<matplotlib.figure.Figure at 0x11bfad710>"
      ]
     },
     "metadata": {},
     "output_type": "display_data"
    }
   ],
   "source": [
    "plt.scatter(aapl_testf.index, aapl_testp, color='black')\n",
    "plt.ylabel('Price')\n",
    "plt.xlabel('Index')\n",
    "plt.ylim(ymin=1)\n",
    "plt.scatter(aapl_testf.index, predict_5309, color='red', linewidth=.5, marker='x')"
   ]
  },
  {
   "cell_type": "markdown",
   "metadata": {},
   "source": [
    "Max depth 20:"
   ]
  },
  {
   "cell_type": "code",
   "execution_count": 97,
   "metadata": {
    "collapsed": false
   },
   "outputs": [
    {
     "data": {
      "text/plain": [
       "<matplotlib.collections.PathCollection at 0x11c8aa890>"
      ]
     },
     "execution_count": 97,
     "metadata": {},
     "output_type": "execute_result"
    },
    {
     "data": {
      "image/png": "[encoded data removed]",
      "text/plain": [
       "<matplotlib.figure.Figure at 0x11bfa3b90>"
      ]
     },
     "metadata": {},
     "output_type": "display_data"
    }
   ],
   "source": [
    "plt.scatter(aapl_testf.index, aapl_testp, color='black')\n",
    "plt.ylabel('Price')\n",
    "plt.xlabel('Index')\n",
    "plt.ylim(ymin=1)\n",
    "plt.scatter(aapl_testf.index, predict_20309, color='red', linewidth=.5, marker='x')"
   ]
  },
  {
   "cell_type": "markdown",
   "metadata": {},
   "source": [
    "As with the decision tree with the 14 day RSI dataset, we see predictions that don't really correlate with the price data.  It seems pretty self evident that the decision tree is being overly impacted by the early data and is running into problems with predicting accurate prices.\n",
    "\n",
    "I also want to make the same back of the envelope calculation as I did above to see what effect more trades had on this strategy."
   ]
  },
  {
   "cell_type": "code",
   "execution_count": 98,
   "metadata": {
    "collapsed": false
   },
   "outputs": [
    {
     "data": {
      "text/plain": [
       "489.68117861896803"
      ]
     },
     "execution_count": 98,
     "metadata": {},
     "output_type": "execute_result"
    }
   ],
   "source": [
    "comp_list_9 = []\n",
    "\n",
    "for line in aapl9.iterrows():\n",
    "    if line[1][14] > 0:\n",
    "        asd = line[1][14] - line[1][9]\n",
    "        comp_list_9.append(asd)\n",
    "        \n",
    "sum(comp_list_9)"
   ]
  },
  {
   "cell_type": "code",
   "execution_count": 99,
   "metadata": {
    "collapsed": false
   },
   "outputs": [
    {
     "name": "stdout",
     "output_type": "stream",
     "text": [
      "RSI 14 day # of trades: 905, RSI 9 day # of trades: 1436\n"
     ]
    }
   ],
   "source": [
    "print \"RSI 14 day # of trades: {}, RSI 9 day # of trades: {}\".format(len(comp_list), len(comp_list_9))"
   ]
  },
  {
   "cell_type": "markdown",
   "metadata": {},
   "source": [
    "This is an interesting outcome, since typically strategies with more trades have worse performance.  My expectation, even with this simplistic calculation, was that this sum total would be lower.  However, given that we are looking at only 905 & 1436 trades since 1980, this probably does not qualify as overtrading and my assumptions that the performance is worse for the 9 day RSI is probably unfounded.\n",
    "\n",
    "Finally I want to consider a lower threshold for the buy signal.  I will use 25 as the lower threshold.  I will also do so on both of the 9 & 14 day datasets that I already have.\n",
    "\n",
    "\n",
    "**14 Day**"
   ]
  },
  {
   "cell_type": "code",
   "execution_count": 100,
   "metadata": {
    "collapsed": false
   },
   "outputs": [
    {
     "name": "stderr",
     "output_type": "stream",
     "text": [
      "/Users/amagi/anaconda/envs/mlnd/lib/python2.7/site-packages/ipykernel/__main__.py:3: SettingWithCopyWarning: \n",
      "A value is trying to be set on a copy of a slice from a DataFrame.\n",
      "Try using .loc[row_indexer,col_indexer] = value instead\n",
      "\n",
      "See the caveats in the documentation: http://pandas.pydata.org/pandas-docs/stable/indexing.html#indexing-view-versus-copy\n",
      "  app.launch_new_instance()\n"
     ]
    },
    {
     "data": {
      "text/html": [
       "<div>\n",
       "<table border=\"1\" class=\"dataframe\">\n",
       "  <thead>\n",
       "    <tr style=\"text-align: right;\">\n",
       "      <th></th>\n",
       "      <th>Ticker</th>\n",
       "      <th>Date</th>\n",
       "      <th>Adj-O</th>\n",
       "      <th>Adj-H</th>\n",
       "      <th>Adj-L</th>\n",
       "      <th>Adj-C</th>\n",
       "      <th>Adj-Vol</th>\n",
       "      <th>RSI</th>\n",
       "    </tr>\n",
       "  </thead>\n",
       "  <tbody>\n",
       "    <tr>\n",
       "      <th>39658</th>\n",
       "      <td>AAPL</td>\n",
       "      <td>1981-01-05</td>\n",
       "      <td>0.513706</td>\n",
       "      <td>0.513706</td>\n",
       "      <td>0.511886</td>\n",
       "      <td>0.511886</td>\n",
       "      <td>8932000.0</td>\n",
       "      <td>64.5</td>\n",
       "    </tr>\n",
       "    <tr>\n",
       "      <th>39659</th>\n",
       "      <td>AAPL</td>\n",
       "      <td>1981-01-06</td>\n",
       "      <td>0.490956</td>\n",
       "      <td>0.490956</td>\n",
       "      <td>0.489136</td>\n",
       "      <td>0.489136</td>\n",
       "      <td>11289600.0</td>\n",
       "      <td>64.5</td>\n",
       "    </tr>\n",
       "  </tbody>\n",
       "</table>\n",
       "</div>"
      ],
      "text/plain": [
       "      Ticker        Date     Adj-O     Adj-H     Adj-L     Adj-C     Adj-Vol  \\\n",
       "39658   AAPL  1981-01-05  0.513706  0.513706  0.511886  0.511886   8932000.0   \n",
       "39659   AAPL  1981-01-06  0.490956  0.490956  0.489136  0.489136  11289600.0   \n",
       "\n",
       "        RSI  \n",
       "39658  64.5  \n",
       "39659  64.5  "
      ]
     },
     "execution_count": 100,
     "metadata": {},
     "output_type": "execute_result"
    }
   ],
   "source": [
    "aapl14_25 = tick_gettr('AAPL')\n",
    "aapl14_25_rsi = rsi(aapl14_25, 14)\n",
    "aapl14_25['RSI'] = aapl14_25_rsi\n",
    "aapl14_25 = aapl14_25[14:]\n",
    "aapl14_25.head(2)"
   ]
  },
  {
   "cell_type": "code",
   "execution_count": 101,
   "metadata": {
    "collapsed": false
   },
   "outputs": [
    {
     "data": {
      "text/html": [
       "<div>\n",
       "<table border=\"1\" class=\"dataframe\">\n",
       "  <thead>\n",
       "    <tr style=\"text-align: right;\">\n",
       "      <th></th>\n",
       "      <th>Ticker</th>\n",
       "      <th>Date</th>\n",
       "      <th>Adj-O</th>\n",
       "      <th>Adj-H</th>\n",
       "      <th>Adj-L</th>\n",
       "      <th>Adj-C</th>\n",
       "      <th>Adj-Vol</th>\n",
       "      <th>RSI</th>\n",
       "      <th>Sell Price</th>\n",
       "      <th>Buy Price</th>\n",
       "    </tr>\n",
       "  </thead>\n",
       "  <tbody>\n",
       "    <tr>\n",
       "      <th>39658</th>\n",
       "      <td>AAPL</td>\n",
       "      <td>1981-01-05</td>\n",
       "      <td>0.513706</td>\n",
       "      <td>0.513706</td>\n",
       "      <td>0.511886</td>\n",
       "      <td>0.511886</td>\n",
       "      <td>8932000.0</td>\n",
       "      <td>64.5</td>\n",
       "      <td>NaN</td>\n",
       "      <td>NaN</td>\n",
       "    </tr>\n",
       "    <tr>\n",
       "      <th>39659</th>\n",
       "      <td>AAPL</td>\n",
       "      <td>1981-01-06</td>\n",
       "      <td>0.490956</td>\n",
       "      <td>0.490956</td>\n",
       "      <td>0.489136</td>\n",
       "      <td>0.489136</td>\n",
       "      <td>11289600.0</td>\n",
       "      <td>64.5</td>\n",
       "      <td>NaN</td>\n",
       "      <td>NaN</td>\n",
       "    </tr>\n",
       "  </tbody>\n",
       "</table>\n",
       "</div>"
      ],
      "text/plain": [
       "      Ticker        Date     Adj-O     Adj-H     Adj-L     Adj-C     Adj-Vol  \\\n",
       "39658   AAPL  1981-01-05  0.513706  0.513706  0.511886  0.511886   8932000.0   \n",
       "39659   AAPL  1981-01-06  0.490956  0.490956  0.489136  0.489136  11289600.0   \n",
       "\n",
       "        RSI  Sell Price  Buy Price  \n",
       "39658  64.5         NaN        NaN  \n",
       "39659  64.5         NaN        NaN  "
      ]
     },
     "execution_count": 101,
     "metadata": {},
     "output_type": "execute_result"
    }
   ],
   "source": [
    "aapl14_25 = price_columns(aapl14_25, 70, 25)\n",
    "aapl14_25.head(2)"
   ]
  },
  {
   "cell_type": "code",
   "execution_count": 102,
   "metadata": {
    "collapsed": true
   },
   "outputs": [],
   "source": [
    "base14_25 = aapl14_25.copy()\n",
    "base14_25 = base14_25['Adj-C']\n",
    "\n",
    "day_1 = base14_25.shift(-1)\n",
    "day_3 = base14_25.shift(-3)\n",
    "day_5 = base14_25.shift(-5)\n",
    "day_10 = base14_25.shift(-10)\n",
    "\n",
    "aapl14_25['Day 1'] = day_1\n",
    "aapl14_25['Day 3'] = day_3\n",
    "aapl14_25['Day 5'] = day_5\n",
    "aapl14_25['Day 10'] = day_10"
   ]
  },
  {
   "cell_type": "code",
   "execution_count": 103,
   "metadata": {
    "collapsed": false
   },
   "outputs": [
    {
     "data": {
      "text/html": [
       "<div>\n",
       "<table border=\"1\" class=\"dataframe\">\n",
       "  <thead>\n",
       "    <tr style=\"text-align: right;\">\n",
       "      <th></th>\n",
       "      <th>Ticker</th>\n",
       "      <th>Date</th>\n",
       "      <th>Adj-O</th>\n",
       "      <th>Adj-H</th>\n",
       "      <th>Adj-L</th>\n",
       "      <th>Adj-C</th>\n",
       "      <th>Adj-Vol</th>\n",
       "      <th>RSI</th>\n",
       "      <th>Sell Price</th>\n",
       "      <th>Buy Price</th>\n",
       "      <th>Day 1</th>\n",
       "      <th>Day 3</th>\n",
       "      <th>Day 5</th>\n",
       "      <th>Day 10</th>\n",
       "    </tr>\n",
       "  </thead>\n",
       "  <tbody>\n",
       "    <tr>\n",
       "      <th>39658</th>\n",
       "      <td>AAPL</td>\n",
       "      <td>1981-01-05</td>\n",
       "      <td>0.513706</td>\n",
       "      <td>0.513706</td>\n",
       "      <td>0.511886</td>\n",
       "      <td>0.511886</td>\n",
       "      <td>8932000.0</td>\n",
       "      <td>64.5</td>\n",
       "      <td>NaN</td>\n",
       "      <td>NaN</td>\n",
       "      <td>0.489136</td>\n",
       "      <td>0.458802</td>\n",
       "      <td>0.479581</td>\n",
       "      <td>0.498539</td>\n",
       "    </tr>\n",
       "    <tr>\n",
       "      <th>39659</th>\n",
       "      <td>AAPL</td>\n",
       "      <td>1981-01-06</td>\n",
       "      <td>0.490956</td>\n",
       "      <td>0.490956</td>\n",
       "      <td>0.489136</td>\n",
       "      <td>0.489136</td>\n",
       "      <td>11289600.0</td>\n",
       "      <td>64.5</td>\n",
       "      <td>NaN</td>\n",
       "      <td>NaN</td>\n",
       "      <td>0.468357</td>\n",
       "      <td>0.483524</td>\n",
       "      <td>0.462594</td>\n",
       "      <td>0.483524</td>\n",
       "    </tr>\n",
       "  </tbody>\n",
       "</table>\n",
       "</div>"
      ],
      "text/plain": [
       "      Ticker        Date     Adj-O     Adj-H     Adj-L     Adj-C     Adj-Vol  \\\n",
       "39658   AAPL  1981-01-05  0.513706  0.513706  0.511886  0.511886   8932000.0   \n",
       "39659   AAPL  1981-01-06  0.490956  0.490956  0.489136  0.489136  11289600.0   \n",
       "\n",
       "        RSI  Sell Price  Buy Price     Day 1     Day 3     Day 5    Day 10  \n",
       "39658  64.5         NaN        NaN  0.489136  0.458802  0.479581  0.498539  \n",
       "39659  64.5         NaN        NaN  0.468357  0.483524  0.462594  0.483524  "
      ]
     },
     "execution_count": 103,
     "metadata": {},
     "output_type": "execute_result"
    }
   ],
   "source": [
    "aapl14_25.head(2)"
   ]
  },
  {
   "cell_type": "code",
   "execution_count": 104,
   "metadata": {
    "collapsed": false
   },
   "outputs": [
    {
     "data": {
      "text/plain": [
       "Ticker                     AAPL\n",
       "Date                 1981-02-10\n",
       "Adj-O                  0.413301\n",
       "Adj-H                  0.415273\n",
       "Adj-L                  0.413301\n",
       "Adj-C                  0.413301\n",
       "Adj-Vol              4.5864e+06\n",
       "RSI                       24.34\n",
       "Sell Price                    0\n",
       "Buy Price              0.413301\n",
       "Day 1                  0.399954\n",
       "Day 3                  0.386759\n",
       "Day 5                  0.413301\n",
       "Day 10                 0.382967\n",
       "Sell Signal Price      0.399954\n",
       "Name: 39684, dtype: object"
      ]
     },
     "execution_count": 104,
     "metadata": {},
     "output_type": "execute_result"
    }
   ],
   "source": [
    "aapl14_25 = sell_signal_prices(aapl14_25, 70, 25)\n",
    "aapl14_25.iloc[26]"
   ]
  },
  {
   "cell_type": "code",
   "execution_count": 105,
   "metadata": {
    "collapsed": true
   },
   "outputs": [],
   "source": [
    "aapl_preds, aapl_feats, aapl_testp, aapl_testf = train_test(aapl14_25, rsi_features, ['Sell Signal Price'], .8)"
   ]
  },
  {
   "cell_type": "code",
   "execution_count": 106,
   "metadata": {
    "collapsed": true
   },
   "outputs": [],
   "source": [
    "rsi_1425_model = LinearRegression()\n",
    "rsi_1425_model.fit(aapl_feats, aapl_preds)\n",
    "predictions_1425 = rsi_1425_model.predict(aapl_testf)"
   ]
  },
  {
   "cell_type": "code",
   "execution_count": 107,
   "metadata": {
    "collapsed": false
   },
   "outputs": [
    {
     "name": "stdout",
     "output_type": "stream",
     "text": [
      "Score: 0.976905234058 & RSS: Sell Signal Price    9384.264266\n",
      "dtype: float64\n"
     ]
    }
   ],
   "source": [
    "print \"Score: {} & RSS: {}\".format(rsi_1425_model.score(aapl_testf, aapl_testp), np.sum(\n",
    "        (predictions_1425 - aapl_testp) ** 2))"
   ]
  },
  {
   "cell_type": "code",
   "execution_count": 108,
   "metadata": {
    "collapsed": false
   },
   "outputs": [
    {
     "data": {
      "text/plain": [
       "<matplotlib.collections.PathCollection at 0x11c8c05d0>"
      ]
     },
     "execution_count": 108,
     "metadata": {},
     "output_type": "execute_result"
    },
    {
     "data": {
      "image/png": "[encoded data removed]",
      "text/plain": [
       "<matplotlib.figure.Figure at 0x11b5a35d0>"
      ]
     },
     "metadata": {},
     "output_type": "display_data"
    }
   ],
   "source": [
    "plt.scatter(aapl_testf.index, aapl_testp, color='black')\n",
    "plt.ylabel('Price')\n",
    "plt.xlabel('Index')\n",
    "plt.ylim(ymin=1)\n",
    "plt.scatter(aapl_testf.index, predictions_1425, color='red', linewidth=.5, marker='x')"
   ]
  },
  {
   "cell_type": "code",
   "execution_count": 109,
   "metadata": {
    "collapsed": false
   },
   "outputs": [
    {
     "name": "stdout",
     "output_type": "stream",
     "text": [
      "498 184.515070095\n"
     ]
    }
   ],
   "source": [
    "comp_list1425 = []\n",
    "\n",
    "for line in aapl14_25.iterrows():\n",
    "    if line[1][14] > 0:\n",
    "        asd = line[1][14] - line[1][9]\n",
    "        comp_list1425.append(asd)\n",
    "        \n",
    "print len(comp_list1425), sum(comp_list1425)"
   ]
  },
  {
   "cell_type": "markdown",
   "metadata": {},
   "source": [
    "**9 Day**"
   ]
  },
  {
   "cell_type": "code",
   "execution_count": 110,
   "metadata": {
    "collapsed": false
   },
   "outputs": [
    {
     "name": "stderr",
     "output_type": "stream",
     "text": [
      "/Users/amagi/anaconda/envs/mlnd/lib/python2.7/site-packages/ipykernel/__main__.py:3: SettingWithCopyWarning: \n",
      "A value is trying to be set on a copy of a slice from a DataFrame.\n",
      "Try using .loc[row_indexer,col_indexer] = value instead\n",
      "\n",
      "See the caveats in the documentation: http://pandas.pydata.org/pandas-docs/stable/indexing.html#indexing-view-versus-copy\n",
      "  app.launch_new_instance()\n"
     ]
    },
    {
     "data": {
      "text/html": [
       "<div>\n",
       "<table border=\"1\" class=\"dataframe\">\n",
       "  <thead>\n",
       "    <tr style=\"text-align: right;\">\n",
       "      <th></th>\n",
       "      <th>Ticker</th>\n",
       "      <th>Date</th>\n",
       "      <th>Adj-O</th>\n",
       "      <th>Adj-H</th>\n",
       "      <th>Adj-L</th>\n",
       "      <th>Adj-C</th>\n",
       "      <th>Adj-Vol</th>\n",
       "      <th>RSI</th>\n",
       "    </tr>\n",
       "  </thead>\n",
       "  <tbody>\n",
       "    <tr>\n",
       "      <th>39653</th>\n",
       "      <td>AAPL</td>\n",
       "      <td>1980-12-26</td>\n",
       "      <td>0.538429</td>\n",
       "      <td>0.540249</td>\n",
       "      <td>0.538429</td>\n",
       "      <td>0.538429</td>\n",
       "      <td>13893600.0</td>\n",
       "      <td>74.55</td>\n",
       "    </tr>\n",
       "    <tr>\n",
       "      <th>39654</th>\n",
       "      <td>AAPL</td>\n",
       "      <td>1980-12-29</td>\n",
       "      <td>0.546012</td>\n",
       "      <td>0.547984</td>\n",
       "      <td>0.546012</td>\n",
       "      <td>0.546012</td>\n",
       "      <td>23290400.0</td>\n",
       "      <td>84.31</td>\n",
       "    </tr>\n",
       "  </tbody>\n",
       "</table>\n",
       "</div>"
      ],
      "text/plain": [
       "      Ticker        Date     Adj-O     Adj-H     Adj-L     Adj-C     Adj-Vol  \\\n",
       "39653   AAPL  1980-12-26  0.538429  0.540249  0.538429  0.538429  13893600.0   \n",
       "39654   AAPL  1980-12-29  0.546012  0.547984  0.546012  0.546012  23290400.0   \n",
       "\n",
       "         RSI  \n",
       "39653  74.55  \n",
       "39654  84.31  "
      ]
     },
     "execution_count": 110,
     "metadata": {},
     "output_type": "execute_result"
    }
   ],
   "source": [
    "aapl9_25 = tick_gettr('AAPL')\n",
    "aapl9_25_rsi = rsi(aapl9_25, 9)\n",
    "aapl9_25['RSI'] = aapl9_25_rsi\n",
    "aapl9_25 = aapl9_25[9:]\n",
    "aapl9_25.head(2)"
   ]
  },
  {
   "cell_type": "code",
   "execution_count": 111,
   "metadata": {
    "collapsed": false
   },
   "outputs": [
    {
     "data": {
      "text/html": [
       "<div>\n",
       "<table border=\"1\" class=\"dataframe\">\n",
       "  <thead>\n",
       "    <tr style=\"text-align: right;\">\n",
       "      <th></th>\n",
       "      <th>Ticker</th>\n",
       "      <th>Date</th>\n",
       "      <th>Adj-O</th>\n",
       "      <th>Adj-H</th>\n",
       "      <th>Adj-L</th>\n",
       "      <th>Adj-C</th>\n",
       "      <th>Adj-Vol</th>\n",
       "      <th>RSI</th>\n",
       "      <th>Sell Price</th>\n",
       "      <th>Buy Price</th>\n",
       "    </tr>\n",
       "  </thead>\n",
       "  <tbody>\n",
       "    <tr>\n",
       "      <th>39653</th>\n",
       "      <td>AAPL</td>\n",
       "      <td>1980-12-26</td>\n",
       "      <td>0.538429</td>\n",
       "      <td>0.540249</td>\n",
       "      <td>0.538429</td>\n",
       "      <td>0.538429</td>\n",
       "      <td>13893600.0</td>\n",
       "      <td>74.55</td>\n",
       "      <td>0.538429</td>\n",
       "      <td>NaN</td>\n",
       "    </tr>\n",
       "    <tr>\n",
       "      <th>39654</th>\n",
       "      <td>AAPL</td>\n",
       "      <td>1980-12-29</td>\n",
       "      <td>0.546012</td>\n",
       "      <td>0.547984</td>\n",
       "      <td>0.546012</td>\n",
       "      <td>0.546012</td>\n",
       "      <td>23290400.0</td>\n",
       "      <td>84.31</td>\n",
       "      <td>0.546012</td>\n",
       "      <td>NaN</td>\n",
       "    </tr>\n",
       "  </tbody>\n",
       "</table>\n",
       "</div>"
      ],
      "text/plain": [
       "      Ticker        Date     Adj-O     Adj-H     Adj-L     Adj-C     Adj-Vol  \\\n",
       "39653   AAPL  1980-12-26  0.538429  0.540249  0.538429  0.538429  13893600.0   \n",
       "39654   AAPL  1980-12-29  0.546012  0.547984  0.546012  0.546012  23290400.0   \n",
       "\n",
       "         RSI  Sell Price  Buy Price  \n",
       "39653  74.55    0.538429        NaN  \n",
       "39654  84.31    0.546012        NaN  "
      ]
     },
     "execution_count": 111,
     "metadata": {},
     "output_type": "execute_result"
    }
   ],
   "source": [
    "aapl9_25 = price_columns(aapl9_25, 70, 25)\n",
    "aapl9_25.head(2)"
   ]
  },
  {
   "cell_type": "code",
   "execution_count": 112,
   "metadata": {
    "collapsed": false
   },
   "outputs": [
    {
     "data": {
      "text/html": [
       "<div>\n",
       "<table border=\"1\" class=\"dataframe\">\n",
       "  <thead>\n",
       "    <tr style=\"text-align: right;\">\n",
       "      <th></th>\n",
       "      <th>Ticker</th>\n",
       "      <th>Date</th>\n",
       "      <th>Adj-O</th>\n",
       "      <th>Adj-H</th>\n",
       "      <th>Adj-L</th>\n",
       "      <th>Adj-C</th>\n",
       "      <th>Adj-Vol</th>\n",
       "      <th>RSI</th>\n",
       "      <th>Sell Price</th>\n",
       "      <th>Buy Price</th>\n",
       "      <th>Day 1</th>\n",
       "      <th>Day 3</th>\n",
       "      <th>Day 5</th>\n",
       "      <th>Day 10</th>\n",
       "    </tr>\n",
       "  </thead>\n",
       "  <tbody>\n",
       "    <tr>\n",
       "      <th>39653</th>\n",
       "      <td>AAPL</td>\n",
       "      <td>1980-12-26</td>\n",
       "      <td>0.538429</td>\n",
       "      <td>0.540249</td>\n",
       "      <td>0.538429</td>\n",
       "      <td>0.538429</td>\n",
       "      <td>13893600.0</td>\n",
       "      <td>74.55</td>\n",
       "      <td>0.538429</td>\n",
       "      <td>NaN</td>\n",
       "      <td>0.546012</td>\n",
       "      <td>0.517650</td>\n",
       "      <td>0.511886</td>\n",
       "      <td>0.479581</td>\n",
       "    </tr>\n",
       "    <tr>\n",
       "      <th>39654</th>\n",
       "      <td>AAPL</td>\n",
       "      <td>1980-12-29</td>\n",
       "      <td>0.546012</td>\n",
       "      <td>0.547984</td>\n",
       "      <td>0.546012</td>\n",
       "      <td>0.546012</td>\n",
       "      <td>23290400.0</td>\n",
       "      <td>84.31</td>\n",
       "      <td>0.546012</td>\n",
       "      <td>NaN</td>\n",
       "      <td>0.532665</td>\n",
       "      <td>0.523262</td>\n",
       "      <td>0.489136</td>\n",
       "      <td>0.462594</td>\n",
       "    </tr>\n",
       "  </tbody>\n",
       "</table>\n",
       "</div>"
      ],
      "text/plain": [
       "      Ticker        Date     Adj-O     Adj-H     Adj-L     Adj-C     Adj-Vol  \\\n",
       "39653   AAPL  1980-12-26  0.538429  0.540249  0.538429  0.538429  13893600.0   \n",
       "39654   AAPL  1980-12-29  0.546012  0.547984  0.546012  0.546012  23290400.0   \n",
       "\n",
       "         RSI  Sell Price  Buy Price     Day 1     Day 3     Day 5    Day 10  \n",
       "39653  74.55    0.538429        NaN  0.546012  0.517650  0.511886  0.479581  \n",
       "39654  84.31    0.546012        NaN  0.532665  0.523262  0.489136  0.462594  "
      ]
     },
     "execution_count": 112,
     "metadata": {},
     "output_type": "execute_result"
    }
   ],
   "source": [
    "base9_25 = aapl9_25.copy()\n",
    "base9_25 = base9_25['Adj-C']\n",
    "\n",
    "day_1 = base9_25.shift(-1)\n",
    "day_3 = base9_25.shift(-3)\n",
    "day_5 = base9_25.shift(-5)\n",
    "day_10 = base9_25.shift(-10)\n",
    "\n",
    "aapl9_25['Day 1'] = day_1\n",
    "aapl9_25['Day 3'] = day_3\n",
    "aapl9_25['Day 5'] = day_5\n",
    "aapl9_25['Day 10'] = day_10\n",
    "\n",
    "aapl9_25.head(2)"
   ]
  },
  {
   "cell_type": "code",
   "execution_count": 113,
   "metadata": {
    "collapsed": false
   },
   "outputs": [
    {
     "data": {
      "text/plain": [
       "Ticker                     AAPL\n",
       "Date                 1981-02-03\n",
       "Adj-O                  0.418913\n",
       "Adj-H                  0.420884\n",
       "Adj-L                  0.418913\n",
       "Adj-C                  0.418913\n",
       "Adj-Vol               4.788e+06\n",
       "RSI                       17.89\n",
       "Sell Price                    0\n",
       "Buy Price              0.418913\n",
       "Day 1                   0.43408\n",
       "Day 3                  0.436051\n",
       "Day 5                  0.413301\n",
       "Day 10                 0.413301\n",
       "Sell Signal Price      0.405717\n",
       "Name: 39679, dtype: object"
      ]
     },
     "execution_count": 113,
     "metadata": {},
     "output_type": "execute_result"
    }
   ],
   "source": [
    "aapl9_25 = sell_signal_prices(aapl9_25, 70, 25)\n",
    "aapl9_25.iloc[26]"
   ]
  },
  {
   "cell_type": "code",
   "execution_count": 114,
   "metadata": {
    "collapsed": true
   },
   "outputs": [],
   "source": [
    "aapl_preds_925, aapl_feats_925, aapl_testp_925, aapl_testf_925 = train_test(\n",
    "    aapl9_25, rsi_features, ['Sell Signal Price'], .8)"
   ]
  },
  {
   "cell_type": "code",
   "execution_count": 115,
   "metadata": {
    "collapsed": true
   },
   "outputs": [],
   "source": [
    "rsi_925_model = LinearRegression()\n",
    "rsi_925_model.fit(aapl_feats_925, aapl_preds_925)\n",
    "predictions_925 = rsi_925_model.predict(aapl_testf_925)"
   ]
  },
  {
   "cell_type": "code",
   "execution_count": 116,
   "metadata": {
    "collapsed": false
   },
   "outputs": [
    {
     "name": "stdout",
     "output_type": "stream",
     "text": [
      "Score: 0.989580230991 & RSS: Sell Signal Price    9533.049306\n",
      "dtype: float64\n"
     ]
    }
   ],
   "source": [
    "print \"Score: {} & RSS: {}\".format(rsi_925_model.score(aapl_testf_925, aapl_testp_925), np.sum(\n",
    "        (predictions_925 - aapl_testp_925) ** 2))"
   ]
  },
  {
   "cell_type": "code",
   "execution_count": 117,
   "metadata": {
    "collapsed": false
   },
   "outputs": [
    {
     "data": {
      "text/plain": [
       "<matplotlib.collections.PathCollection at 0x11d6e6c90>"
      ]
     },
     "execution_count": 117,
     "metadata": {},
     "output_type": "execute_result"
    },
    {
     "data": {
      "image/png": "[encoded data removed]",
      "text/plain": [
       "<matplotlib.figure.Figure at 0x11c5cc510>"
      ]
     },
     "metadata": {},
     "output_type": "display_data"
    }
   ],
   "source": [
    "plt.scatter(aapl_testf_925.index, aapl_testp_925, color='black')\n",
    "plt.ylabel('Price')\n",
    "plt.xlabel('Index')\n",
    "plt.ylim(ymin=1)\n",
    "plt.scatter(aapl_testf_925.index, predictions_925, color='red', linewidth=.5, marker='x')"
   ]
  },
  {
   "cell_type": "code",
   "execution_count": 118,
   "metadata": {
    "collapsed": false
   },
   "outputs": [
    {
     "name": "stdout",
     "output_type": "stream",
     "text": [
      "920 338.837499631\n"
     ]
    }
   ],
   "source": [
    "comp_list925 = []\n",
    "\n",
    "for line in aapl9_25.iterrows():\n",
    "    if line[1][14] > 0:\n",
    "        asd = line[1][14] - line[1][9]\n",
    "        comp_list925.append(asd)\n",
    "        \n",
    "print len(comp_list925), sum(comp_list925)"
   ]
  },
  {
   "cell_type": "markdown",
   "metadata": {},
   "source": [
    "It looks as though there is no improvement over the 30 RSI level for the buy signals.  The thinking behind a lower buy signal threshold is relatively straight forward; the RSI is supposed to present good opportunities to go long (buy) in extreme events.  The RSI is a tool that looks to take advantage of mean reversion opportunities.  The difference between the 30 buy level & the 25 buy level is minimal, with the traditional level being the better of the two.  More interesting is number of days used to calculate the moving average.  The 9 day moving average is more predictive (marginally so) than the 14 day m.a.  The 9 day m.a., however, provides more opportunities to go long and produces almost twice the \"returns\" at least according to our back of the envelope calculation.  Next, I want to see what the results on other stocks.  The issues I will be looking at are MSFT, ZUMZ, IBM, & X.\n",
    "\n",
    "**MSFT**"
   ]
  },
  {
   "cell_type": "code",
   "execution_count": 119,
   "metadata": {
    "collapsed": false
   },
   "outputs": [
    {
     "name": "stderr",
     "output_type": "stream",
     "text": [
      "/Users/amagi/anaconda/envs/mlnd/lib/python2.7/site-packages/ipykernel/__main__.py:3: SettingWithCopyWarning: \n",
      "A value is trying to be set on a copy of a slice from a DataFrame.\n",
      "Try using .loc[row_indexer,col_indexer] = value instead\n",
      "\n",
      "See the caveats in the documentation: http://pandas.pydata.org/pandas-docs/stable/indexing.html#indexing-view-versus-copy\n",
      "  app.launch_new_instance()\n"
     ]
    },
    {
     "data": {
      "text/html": [
       "<div>\n",
       "<table border=\"1\" class=\"dataframe\">\n",
       "  <thead>\n",
       "    <tr style=\"text-align: right;\">\n",
       "      <th></th>\n",
       "      <th>Ticker</th>\n",
       "      <th>Date</th>\n",
       "      <th>Adj-O</th>\n",
       "      <th>Adj-H</th>\n",
       "      <th>Adj-L</th>\n",
       "      <th>Adj-C</th>\n",
       "      <th>Adj-Vol</th>\n",
       "      <th>RSI</th>\n",
       "    </tr>\n",
       "  </thead>\n",
       "  <tbody>\n",
       "    <tr>\n",
       "      <th>8551433</th>\n",
       "      <td>MSFT</td>\n",
       "      <td>1986-03-26</td>\n",
       "      <td>0.063777</td>\n",
       "      <td>0.066184</td>\n",
       "      <td>0.063176</td>\n",
       "      <td>0.065582</td>\n",
       "      <td>22752000.0</td>\n",
       "      <td>44.00</td>\n",
       "    </tr>\n",
       "    <tr>\n",
       "      <th>8551434</th>\n",
       "      <td>MSFT</td>\n",
       "      <td>1986-03-27</td>\n",
       "      <td>0.065582</td>\n",
       "      <td>0.066786</td>\n",
       "      <td>0.065582</td>\n",
       "      <td>0.066786</td>\n",
       "      <td>16848000.0</td>\n",
       "      <td>39.13</td>\n",
       "    </tr>\n",
       "  </tbody>\n",
       "</table>\n",
       "</div>"
      ],
      "text/plain": [
       "        Ticker        Date     Adj-O     Adj-H     Adj-L     Adj-C  \\\n",
       "8551433   MSFT  1986-03-26  0.063777  0.066184  0.063176  0.065582   \n",
       "8551434   MSFT  1986-03-27  0.065582  0.066786  0.065582  0.066786   \n",
       "\n",
       "            Adj-Vol    RSI  \n",
       "8551433  22752000.0  44.00  \n",
       "8551434  16848000.0  39.13  "
      ]
     },
     "execution_count": 119,
     "metadata": {},
     "output_type": "execute_result"
    }
   ],
   "source": [
    "msft = tick_gettr('MSFT')\n",
    "msft_rsi = rsi(msft, 9)\n",
    "msft['RSI'] = msft_rsi\n",
    "msft = msft[9:]\n",
    "msft.head(2)"
   ]
  },
  {
   "cell_type": "code",
   "execution_count": 120,
   "metadata": {
    "collapsed": false
   },
   "outputs": [
    {
     "data": {
      "text/html": [
       "<div>\n",
       "<table border=\"1\" class=\"dataframe\">\n",
       "  <thead>\n",
       "    <tr style=\"text-align: right;\">\n",
       "      <th></th>\n",
       "      <th>Ticker</th>\n",
       "      <th>Date</th>\n",
       "      <th>Adj-O</th>\n",
       "      <th>Adj-H</th>\n",
       "      <th>Adj-L</th>\n",
       "      <th>Adj-C</th>\n",
       "      <th>Adj-Vol</th>\n",
       "      <th>RSI</th>\n",
       "      <th>Sell Price</th>\n",
       "      <th>Buy Price</th>\n",
       "    </tr>\n",
       "  </thead>\n",
       "  <tbody>\n",
       "    <tr>\n",
       "      <th>8551433</th>\n",
       "      <td>MSFT</td>\n",
       "      <td>1986-03-26</td>\n",
       "      <td>0.063777</td>\n",
       "      <td>0.066184</td>\n",
       "      <td>0.063176</td>\n",
       "      <td>0.065582</td>\n",
       "      <td>22752000.0</td>\n",
       "      <td>44.00</td>\n",
       "      <td>NaN</td>\n",
       "      <td>NaN</td>\n",
       "    </tr>\n",
       "    <tr>\n",
       "      <th>8551434</th>\n",
       "      <td>MSFT</td>\n",
       "      <td>1986-03-27</td>\n",
       "      <td>0.065582</td>\n",
       "      <td>0.066786</td>\n",
       "      <td>0.065582</td>\n",
       "      <td>0.066786</td>\n",
       "      <td>16848000.0</td>\n",
       "      <td>39.13</td>\n",
       "      <td>NaN</td>\n",
       "      <td>NaN</td>\n",
       "    </tr>\n",
       "  </tbody>\n",
       "</table>\n",
       "</div>"
      ],
      "text/plain": [
       "        Ticker        Date     Adj-O     Adj-H     Adj-L     Adj-C  \\\n",
       "8551433   MSFT  1986-03-26  0.063777  0.066184  0.063176  0.065582   \n",
       "8551434   MSFT  1986-03-27  0.065582  0.066786  0.065582  0.066786   \n",
       "\n",
       "            Adj-Vol    RSI  Sell Price  Buy Price  \n",
       "8551433  22752000.0  44.00         NaN        NaN  \n",
       "8551434  16848000.0  39.13         NaN        NaN  "
      ]
     },
     "execution_count": 120,
     "metadata": {},
     "output_type": "execute_result"
    }
   ],
   "source": [
    "msft = price_columns(msft, 70, 30)\n",
    "msft.head(2)"
   ]
  },
  {
   "cell_type": "code",
   "execution_count": 121,
   "metadata": {
    "collapsed": false
   },
   "outputs": [
    {
     "data": {
      "text/html": [
       "<div>\n",
       "<table border=\"1\" class=\"dataframe\">\n",
       "  <thead>\n",
       "    <tr style=\"text-align: right;\">\n",
       "      <th></th>\n",
       "      <th>Ticker</th>\n",
       "      <th>Date</th>\n",
       "      <th>Adj-O</th>\n",
       "      <th>Adj-H</th>\n",
       "      <th>Adj-L</th>\n",
       "      <th>Adj-C</th>\n",
       "      <th>Adj-Vol</th>\n",
       "      <th>RSI</th>\n",
       "      <th>Sell Price</th>\n",
       "      <th>Buy Price</th>\n",
       "      <th>Day 1</th>\n",
       "      <th>Day 3</th>\n",
       "      <th>Day 5</th>\n",
       "      <th>Day 10</th>\n",
       "    </tr>\n",
       "  </thead>\n",
       "  <tbody>\n",
       "    <tr>\n",
       "      <th>8551433</th>\n",
       "      <td>MSFT</td>\n",
       "      <td>1986-03-26</td>\n",
       "      <td>0.063777</td>\n",
       "      <td>0.066184</td>\n",
       "      <td>0.063176</td>\n",
       "      <td>0.065582</td>\n",
       "      <td>22752000.0</td>\n",
       "      <td>44.00</td>\n",
       "      <td>NaN</td>\n",
       "      <td>NaN</td>\n",
       "      <td>0.066786</td>\n",
       "      <td>0.065582</td>\n",
       "      <td>0.066786</td>\n",
       "      <td>0.067989</td>\n",
       "    </tr>\n",
       "    <tr>\n",
       "      <th>8551434</th>\n",
       "      <td>MSFT</td>\n",
       "      <td>1986-03-27</td>\n",
       "      <td>0.065582</td>\n",
       "      <td>0.066786</td>\n",
       "      <td>0.065582</td>\n",
       "      <td>0.066786</td>\n",
       "      <td>16848000.0</td>\n",
       "      <td>39.13</td>\n",
       "      <td>NaN</td>\n",
       "      <td>NaN</td>\n",
       "      <td>0.066184</td>\n",
       "      <td>0.066184</td>\n",
       "      <td>0.066786</td>\n",
       "      <td>0.069193</td>\n",
       "    </tr>\n",
       "  </tbody>\n",
       "</table>\n",
       "</div>"
      ],
      "text/plain": [
       "        Ticker        Date     Adj-O     Adj-H     Adj-L     Adj-C  \\\n",
       "8551433   MSFT  1986-03-26  0.063777  0.066184  0.063176  0.065582   \n",
       "8551434   MSFT  1986-03-27  0.065582  0.066786  0.065582  0.066786   \n",
       "\n",
       "            Adj-Vol    RSI  Sell Price  Buy Price     Day 1     Day 3  \\\n",
       "8551433  22752000.0  44.00         NaN        NaN  0.066786  0.065582   \n",
       "8551434  16848000.0  39.13         NaN        NaN  0.066184  0.066184   \n",
       "\n",
       "            Day 5    Day 10  \n",
       "8551433  0.066786  0.067989  \n",
       "8551434  0.066786  0.069193  "
      ]
     },
     "execution_count": 121,
     "metadata": {},
     "output_type": "execute_result"
    }
   ],
   "source": [
    "base_msft = msft.copy()\n",
    "base_msft = msft['Adj-C']\n",
    "\n",
    "day_1 = base_msft.shift(-1)\n",
    "day_3 = base_msft.shift(-3)\n",
    "day_5 = base_msft.shift(-5)\n",
    "day_10 = base_msft.shift(-10)\n",
    "\n",
    "msft['Day 1'] = day_1\n",
    "msft['Day 3'] = day_3\n",
    "msft['Day 5'] = day_5\n",
    "msft['Day 10'] = day_10\n",
    "\n",
    "msft.head(2)"
   ]
  },
  {
   "cell_type": "code",
   "execution_count": 122,
   "metadata": {
    "collapsed": true
   },
   "outputs": [],
   "source": [
    "msft = sell_signal_prices(msft, 70, 30)"
   ]
  },
  {
   "cell_type": "markdown",
   "metadata": {},
   "source": [
    "MSFT Features"
   ]
  },
  {
   "cell_type": "code",
   "execution_count": 123,
   "metadata": {
    "collapsed": false
   },
   "outputs": [],
   "source": [
    "msft_features = msft[rsi_features]\n",
    "# msft_preds, msft_feats, msft_testp, msft_testf = train_test(\n",
    "#     msft, rsi_features, ['Sell Signal Price'], .8)"
   ]
  },
  {
   "cell_type": "markdown",
   "metadata": {},
   "source": [
    "Now I am going to fit the MSFT data to the rsi_309_model."
   ]
  },
  {
   "cell_type": "code",
   "execution_count": 124,
   "metadata": {
    "collapsed": true
   },
   "outputs": [],
   "source": [
    "# rsi_309_model.fit(msft_feats, msft_preds)\n",
    "msft_predictions = rsi_309_model.predict(msft_features)"
   ]
  },
  {
   "cell_type": "code",
   "execution_count": 125,
   "metadata": {
    "collapsed": true
   },
   "outputs": [],
   "source": [
    "msft_prices = msft['Sell Signal Price']\n",
    "msft_prices = msft_prices.reshape((7604, 1))"
   ]
  },
  {
   "cell_type": "markdown",
   "metadata": {},
   "source": [
    "**Score & RSS**"
   ]
  },
  {
   "cell_type": "code",
   "execution_count": 126,
   "metadata": {
    "collapsed": false
   },
   "outputs": [
    {
     "data": {
      "text/plain": [
       "0.99088780111471553"
      ]
     },
     "execution_count": 126,
     "metadata": {},
     "output_type": "execute_result"
    }
   ],
   "source": [
    "rsi_309_model.score(msft_features, msft_prices)"
   ]
  },
  {
   "cell_type": "code",
   "execution_count": 127,
   "metadata": {
    "collapsed": false
   },
   "outputs": [
    {
     "data": {
      "text/plain": [
       "4059.2439652341886"
      ]
     },
     "execution_count": 127,
     "metadata": {},
     "output_type": "execute_result"
    }
   ],
   "source": [
    "np.sum((msft_predictions - msft_prices) ** 2)"
   ]
  },
  {
   "cell_type": "code",
   "execution_count": 128,
   "metadata": {
    "collapsed": false
   },
   "outputs": [
    {
     "data": {
      "text/plain": [
       "<matplotlib.collections.PathCollection at 0x11d84a990>"
      ]
     },
     "execution_count": 128,
     "metadata": {},
     "output_type": "execute_result"
    },
    {
     "data": {
      "image/png": "[encoded data removed]",
      "text/plain": [
       "<matplotlib.figure.Figure at 0x11c1e2a90>"
      ]
     },
     "metadata": {},
     "output_type": "display_data"
    }
   ],
   "source": [
    "plt.scatter(msft_features.index, msft_prices, color='black')\n",
    "plt.ylabel('Price')\n",
    "plt.xlabel('Index')\n",
    "plt.ylim(ymin=1)\n",
    "plt.scatter(msft_features.index, msft_predictions, color='red', linewidth=.5, marker='x')"
   ]
  },
  {
   "cell_type": "markdown",
   "metadata": {},
   "source": [
    "**ZUMZ**"
   ]
  },
  {
   "cell_type": "code",
   "execution_count": 129,
   "metadata": {
    "collapsed": false,
    "scrolled": true
   },
   "outputs": [
    {
     "name": "stderr",
     "output_type": "stream",
     "text": [
      "/Users/amagi/anaconda/envs/mlnd/lib/python2.7/site-packages/ipykernel/__main__.py:3: SettingWithCopyWarning: \n",
      "A value is trying to be set on a copy of a slice from a DataFrame.\n",
      "Try using .loc[row_indexer,col_indexer] = value instead\n",
      "\n",
      "See the caveats in the documentation: http://pandas.pydata.org/pandas-docs/stable/indexing.html#indexing-view-versus-copy\n",
      "  app.launch_new_instance()\n"
     ]
    },
    {
     "data": {
      "text/html": [
       "<div>\n",
       "<table border=\"1\" class=\"dataframe\">\n",
       "  <thead>\n",
       "    <tr style=\"text-align: right;\">\n",
       "      <th></th>\n",
       "      <th>Ticker</th>\n",
       "      <th>Date</th>\n",
       "      <th>Adj-O</th>\n",
       "      <th>Adj-H</th>\n",
       "      <th>Adj-L</th>\n",
       "      <th>Adj-C</th>\n",
       "      <th>Adj-Vol</th>\n",
       "      <th>RSI</th>\n",
       "    </tr>\n",
       "  </thead>\n",
       "  <tbody>\n",
       "    <tr>\n",
       "      <th>14147326</th>\n",
       "      <td>ZUMZ</td>\n",
       "      <td>2005-05-19</td>\n",
       "      <td>12.97</td>\n",
       "      <td>12.970</td>\n",
       "      <td>12.500</td>\n",
       "      <td>12.85</td>\n",
       "      <td>93600.0</td>\n",
       "      <td>58.96</td>\n",
       "    </tr>\n",
       "    <tr>\n",
       "      <th>14147327</th>\n",
       "      <td>ZUMZ</td>\n",
       "      <td>2005-05-20</td>\n",
       "      <td>13.00</td>\n",
       "      <td>13.225</td>\n",
       "      <td>12.565</td>\n",
       "      <td>12.75</td>\n",
       "      <td>230800.0</td>\n",
       "      <td>61.07</td>\n",
       "    </tr>\n",
       "  </tbody>\n",
       "</table>\n",
       "</div>"
      ],
      "text/plain": [
       "         Ticker        Date  Adj-O   Adj-H   Adj-L  Adj-C   Adj-Vol    RSI\n",
       "14147326   ZUMZ  2005-05-19  12.97  12.970  12.500  12.85   93600.0  58.96\n",
       "14147327   ZUMZ  2005-05-20  13.00  13.225  12.565  12.75  230800.0  61.07"
      ]
     },
     "execution_count": 129,
     "metadata": {},
     "output_type": "execute_result"
    }
   ],
   "source": [
    "zumz = tick_gettr('ZUMZ')\n",
    "zumz_rsi = rsi(zumz, 9)\n",
    "zumz['RSI'] = zumz_rsi\n",
    "zumz = zumz[9:]\n",
    "zumz.head(2)"
   ]
  },
  {
   "cell_type": "code",
   "execution_count": 130,
   "metadata": {
    "collapsed": false
   },
   "outputs": [
    {
     "data": {
      "text/html": [
       "<div>\n",
       "<table border=\"1\" class=\"dataframe\">\n",
       "  <thead>\n",
       "    <tr style=\"text-align: right;\">\n",
       "      <th></th>\n",
       "      <th>Ticker</th>\n",
       "      <th>Date</th>\n",
       "      <th>Adj-O</th>\n",
       "      <th>Adj-H</th>\n",
       "      <th>Adj-L</th>\n",
       "      <th>Adj-C</th>\n",
       "      <th>Adj-Vol</th>\n",
       "      <th>RSI</th>\n",
       "      <th>Sell Price</th>\n",
       "      <th>Buy Price</th>\n",
       "    </tr>\n",
       "  </thead>\n",
       "  <tbody>\n",
       "    <tr>\n",
       "      <th>14147326</th>\n",
       "      <td>ZUMZ</td>\n",
       "      <td>2005-05-19</td>\n",
       "      <td>12.97</td>\n",
       "      <td>12.970</td>\n",
       "      <td>12.500</td>\n",
       "      <td>12.85</td>\n",
       "      <td>93600.0</td>\n",
       "      <td>58.96</td>\n",
       "      <td>NaN</td>\n",
       "      <td>NaN</td>\n",
       "    </tr>\n",
       "    <tr>\n",
       "      <th>14147327</th>\n",
       "      <td>ZUMZ</td>\n",
       "      <td>2005-05-20</td>\n",
       "      <td>13.00</td>\n",
       "      <td>13.225</td>\n",
       "      <td>12.565</td>\n",
       "      <td>12.75</td>\n",
       "      <td>230800.0</td>\n",
       "      <td>61.07</td>\n",
       "      <td>NaN</td>\n",
       "      <td>NaN</td>\n",
       "    </tr>\n",
       "  </tbody>\n",
       "</table>\n",
       "</div>"
      ],
      "text/plain": [
       "         Ticker        Date  Adj-O   Adj-H   Adj-L  Adj-C   Adj-Vol    RSI  \\\n",
       "14147326   ZUMZ  2005-05-19  12.97  12.970  12.500  12.85   93600.0  58.96   \n",
       "14147327   ZUMZ  2005-05-20  13.00  13.225  12.565  12.75  230800.0  61.07   \n",
       "\n",
       "          Sell Price  Buy Price  \n",
       "14147326         NaN        NaN  \n",
       "14147327         NaN        NaN  "
      ]
     },
     "execution_count": 130,
     "metadata": {},
     "output_type": "execute_result"
    }
   ],
   "source": [
    "zumz = price_columns(zumz, 70, 30)\n",
    "zumz.head(2)"
   ]
  },
  {
   "cell_type": "code",
   "execution_count": 131,
   "metadata": {
    "collapsed": false
   },
   "outputs": [
    {
     "data": {
      "text/html": [
       "<div>\n",
       "<table border=\"1\" class=\"dataframe\">\n",
       "  <thead>\n",
       "    <tr style=\"text-align: right;\">\n",
       "      <th></th>\n",
       "      <th>Ticker</th>\n",
       "      <th>Date</th>\n",
       "      <th>Adj-O</th>\n",
       "      <th>Adj-H</th>\n",
       "      <th>Adj-L</th>\n",
       "      <th>Adj-C</th>\n",
       "      <th>Adj-Vol</th>\n",
       "      <th>RSI</th>\n",
       "      <th>Sell Price</th>\n",
       "      <th>Buy Price</th>\n",
       "      <th>Day 1</th>\n",
       "      <th>Day 3</th>\n",
       "      <th>Day 5</th>\n",
       "      <th>Day 10</th>\n",
       "    </tr>\n",
       "  </thead>\n",
       "  <tbody>\n",
       "    <tr>\n",
       "      <th>14147326</th>\n",
       "      <td>ZUMZ</td>\n",
       "      <td>2005-05-19</td>\n",
       "      <td>12.97</td>\n",
       "      <td>12.970</td>\n",
       "      <td>12.500</td>\n",
       "      <td>12.85</td>\n",
       "      <td>93600.0</td>\n",
       "      <td>58.96</td>\n",
       "      <td>NaN</td>\n",
       "      <td>NaN</td>\n",
       "      <td>12.750</td>\n",
       "      <td>12.875</td>\n",
       "      <td>12.65</td>\n",
       "      <td>13.810</td>\n",
       "    </tr>\n",
       "    <tr>\n",
       "      <th>14147327</th>\n",
       "      <td>ZUMZ</td>\n",
       "      <td>2005-05-20</td>\n",
       "      <td>13.00</td>\n",
       "      <td>13.225</td>\n",
       "      <td>12.565</td>\n",
       "      <td>12.75</td>\n",
       "      <td>230800.0</td>\n",
       "      <td>61.07</td>\n",
       "      <td>NaN</td>\n",
       "      <td>NaN</td>\n",
       "      <td>12.895</td>\n",
       "      <td>12.535</td>\n",
       "      <td>12.70</td>\n",
       "      <td>14.085</td>\n",
       "    </tr>\n",
       "  </tbody>\n",
       "</table>\n",
       "</div>"
      ],
      "text/plain": [
       "         Ticker        Date  Adj-O   Adj-H   Adj-L  Adj-C   Adj-Vol    RSI  \\\n",
       "14147326   ZUMZ  2005-05-19  12.97  12.970  12.500  12.85   93600.0  58.96   \n",
       "14147327   ZUMZ  2005-05-20  13.00  13.225  12.565  12.75  230800.0  61.07   \n",
       "\n",
       "          Sell Price  Buy Price   Day 1   Day 3  Day 5  Day 10  \n",
       "14147326         NaN        NaN  12.750  12.875  12.65  13.810  \n",
       "14147327         NaN        NaN  12.895  12.535  12.70  14.085  "
      ]
     },
     "execution_count": 131,
     "metadata": {},
     "output_type": "execute_result"
    }
   ],
   "source": [
    "base_zumz = zumz.copy()\n",
    "base_zumz = zumz['Adj-C']\n",
    "\n",
    "day_1 = base_zumz.shift(-1)\n",
    "day_3 = base_zumz.shift(-3)\n",
    "day_5 = base_zumz.shift(-5)\n",
    "day_10 = base_zumz.shift(-10)\n",
    "\n",
    "zumz['Day 1'] = day_1\n",
    "zumz['Day 3'] = day_3\n",
    "zumz['Day 5'] = day_5\n",
    "zumz['Day 10'] = day_10\n",
    "\n",
    "zumz.head(2)"
   ]
  },
  {
   "cell_type": "code",
   "execution_count": 132,
   "metadata": {
    "collapsed": false
   },
   "outputs": [],
   "source": [
    "zumz = sell_signal_prices(zumz, 70, 30)"
   ]
  },
  {
   "cell_type": "code",
   "execution_count": 133,
   "metadata": {
    "collapsed": false
   },
   "outputs": [],
   "source": [
    "zumz_features = zumz[rsi_features]\n",
    "zumz_prices = zumz['Sell Signal Price']\n",
    "z_obs = len(zumz)\n",
    "zumz_prices = zumz_prices.reshape((z_obs, 1))"
   ]
  },
  {
   "cell_type": "code",
   "execution_count": 134,
   "metadata": {
    "collapsed": true
   },
   "outputs": [],
   "source": [
    "zumz_predictions = rsi_309_model.predict(zumz_features)"
   ]
  },
  {
   "cell_type": "code",
   "execution_count": 135,
   "metadata": {
    "collapsed": false
   },
   "outputs": [
    {
     "data": {
      "text/plain": [
       "0.9696304006226093"
      ]
     },
     "execution_count": 135,
     "metadata": {},
     "output_type": "execute_result"
    }
   ],
   "source": [
    "rsi_309_model.score(zumz_features, zumz_prices)"
   ]
  },
  {
   "cell_type": "code",
   "execution_count": 136,
   "metadata": {
    "collapsed": false
   },
   "outputs": [
    {
     "data": {
      "text/plain": [
       "6900.9056025502259"
      ]
     },
     "execution_count": 136,
     "metadata": {},
     "output_type": "execute_result"
    }
   ],
   "source": [
    "np.sum((zumz_predictions - zumz_prices) ** 2)"
   ]
  },
  {
   "cell_type": "code",
   "execution_count": 137,
   "metadata": {
    "collapsed": false
   },
   "outputs": [
    {
     "data": {
      "text/plain": [
       "<matplotlib.collections.PathCollection at 0x11e04a410>"
      ]
     },
     "execution_count": 137,
     "metadata": {},
     "output_type": "execute_result"
    },
    {
     "data": {
      "image/png": "[encoded data removed]",
      "text/plain": [
       "<matplotlib.figure.Figure at 0x11c9b5d10>"
      ]
     },
     "metadata": {},
     "output_type": "display_data"
    }
   ],
   "source": [
    "plt.scatter(zumz_features.index, zumz_prices, color='black')\n",
    "plt.ylabel('Price')\n",
    "plt.xlabel('Index')\n",
    "plt.ylim(ymin=1)\n",
    "plt.scatter(zumz_features.index, zumz_predictions, color='red', linewidth=.5, marker='x')"
   ]
  },
  {
   "cell_type": "markdown",
   "metadata": {},
   "source": [
    "**IBM**"
   ]
  },
  {
   "cell_type": "code",
   "execution_count": 138,
   "metadata": {
    "collapsed": false
   },
   "outputs": [
    {
     "name": "stderr",
     "output_type": "stream",
     "text": [
      "/Users/amagi/anaconda/envs/mlnd/lib/python2.7/site-packages/ipykernel/__main__.py:3: SettingWithCopyWarning: \n",
      "A value is trying to be set on a copy of a slice from a DataFrame.\n",
      "Try using .loc[row_indexer,col_indexer] = value instead\n",
      "\n",
      "See the caveats in the documentation: http://pandas.pydata.org/pandas-docs/stable/indexing.html#indexing-view-versus-copy\n",
      "  app.launch_new_instance()\n"
     ]
    },
    {
     "data": {
      "text/html": [
       "<div>\n",
       "<table border=\"1\" class=\"dataframe\">\n",
       "  <thead>\n",
       "    <tr style=\"text-align: right;\">\n",
       "      <th></th>\n",
       "      <th>Ticker</th>\n",
       "      <th>Date</th>\n",
       "      <th>Adj-O</th>\n",
       "      <th>Adj-H</th>\n",
       "      <th>Adj-L</th>\n",
       "      <th>Adj-C</th>\n",
       "      <th>Adj-Vol</th>\n",
       "      <th>RSI</th>\n",
       "    </tr>\n",
       "  </thead>\n",
       "  <tbody>\n",
       "    <tr>\n",
       "      <th>6491616</th>\n",
       "      <td>IBM</td>\n",
       "      <td>1962-01-15</td>\n",
       "      <td>4.917787</td>\n",
       "      <td>4.932992</td>\n",
       "      <td>4.917787</td>\n",
       "      <td>4.922132</td>\n",
       "      <td>251200.0</td>\n",
       "      <td>44.44</td>\n",
       "    </tr>\n",
       "    <tr>\n",
       "      <th>6491617</th>\n",
       "      <td>IBM</td>\n",
       "      <td>1962-01-16</td>\n",
       "      <td>4.917787</td>\n",
       "      <td>4.917787</td>\n",
       "      <td>4.870000</td>\n",
       "      <td>4.870000</td>\n",
       "      <td>251200.0</td>\n",
       "      <td>33.66</td>\n",
       "    </tr>\n",
       "  </tbody>\n",
       "</table>\n",
       "</div>"
      ],
      "text/plain": [
       "        Ticker        Date     Adj-O     Adj-H     Adj-L     Adj-C   Adj-Vol  \\\n",
       "6491616    IBM  1962-01-15  4.917787  4.932992  4.917787  4.922132  251200.0   \n",
       "6491617    IBM  1962-01-16  4.917787  4.917787  4.870000  4.870000  251200.0   \n",
       "\n",
       "           RSI  \n",
       "6491616  44.44  \n",
       "6491617  33.66  "
      ]
     },
     "execution_count": 138,
     "metadata": {},
     "output_type": "execute_result"
    }
   ],
   "source": [
    "ibm = tick_gettr('IBM')\n",
    "ibm_rsi = rsi(ibm, 9)\n",
    "ibm['RSI'] = ibm_rsi\n",
    "ibm = ibm[9:]\n",
    "ibm.head(2)"
   ]
  },
  {
   "cell_type": "code",
   "execution_count": 139,
   "metadata": {
    "collapsed": false
   },
   "outputs": [
    {
     "data": {
      "text/html": [
       "<div>\n",
       "<table border=\"1\" class=\"dataframe\">\n",
       "  <thead>\n",
       "    <tr style=\"text-align: right;\">\n",
       "      <th></th>\n",
       "      <th>Ticker</th>\n",
       "      <th>Date</th>\n",
       "      <th>Adj-O</th>\n",
       "      <th>Adj-H</th>\n",
       "      <th>Adj-L</th>\n",
       "      <th>Adj-C</th>\n",
       "      <th>Adj-Vol</th>\n",
       "      <th>RSI</th>\n",
       "      <th>Sell Price</th>\n",
       "      <th>Buy Price</th>\n",
       "    </tr>\n",
       "  </thead>\n",
       "  <tbody>\n",
       "    <tr>\n",
       "      <th>6491616</th>\n",
       "      <td>IBM</td>\n",
       "      <td>1962-01-15</td>\n",
       "      <td>4.917787</td>\n",
       "      <td>4.932992</td>\n",
       "      <td>4.917787</td>\n",
       "      <td>4.922132</td>\n",
       "      <td>251200.0</td>\n",
       "      <td>44.44</td>\n",
       "      <td>NaN</td>\n",
       "      <td>NaN</td>\n",
       "    </tr>\n",
       "    <tr>\n",
       "      <th>6491617</th>\n",
       "      <td>IBM</td>\n",
       "      <td>1962-01-16</td>\n",
       "      <td>4.917787</td>\n",
       "      <td>4.917787</td>\n",
       "      <td>4.870000</td>\n",
       "      <td>4.870000</td>\n",
       "      <td>251200.0</td>\n",
       "      <td>33.66</td>\n",
       "      <td>NaN</td>\n",
       "      <td>NaN</td>\n",
       "    </tr>\n",
       "  </tbody>\n",
       "</table>\n",
       "</div>"
      ],
      "text/plain": [
       "        Ticker        Date     Adj-O     Adj-H     Adj-L     Adj-C   Adj-Vol  \\\n",
       "6491616    IBM  1962-01-15  4.917787  4.932992  4.917787  4.922132  251200.0   \n",
       "6491617    IBM  1962-01-16  4.917787  4.917787  4.870000  4.870000  251200.0   \n",
       "\n",
       "           RSI  Sell Price  Buy Price  \n",
       "6491616  44.44         NaN        NaN  \n",
       "6491617  33.66         NaN        NaN  "
      ]
     },
     "execution_count": 139,
     "metadata": {},
     "output_type": "execute_result"
    }
   ],
   "source": [
    "ibm = price_columns(ibm, 70, 30)\n",
    "ibm.head(2)"
   ]
  },
  {
   "cell_type": "code",
   "execution_count": 140,
   "metadata": {
    "collapsed": false
   },
   "outputs": [
    {
     "data": {
      "text/html": [
       "<div>\n",
       "<table border=\"1\" class=\"dataframe\">\n",
       "  <thead>\n",
       "    <tr style=\"text-align: right;\">\n",
       "      <th></th>\n",
       "      <th>Ticker</th>\n",
       "      <th>Date</th>\n",
       "      <th>Adj-O</th>\n",
       "      <th>Adj-H</th>\n",
       "      <th>Adj-L</th>\n",
       "      <th>Adj-C</th>\n",
       "      <th>Adj-Vol</th>\n",
       "      <th>RSI</th>\n",
       "      <th>Sell Price</th>\n",
       "      <th>Buy Price</th>\n",
       "      <th>Day 1</th>\n",
       "      <th>Day 3</th>\n",
       "      <th>Day 5</th>\n",
       "      <th>Day 10</th>\n",
       "    </tr>\n",
       "  </thead>\n",
       "  <tbody>\n",
       "    <tr>\n",
       "      <th>6491616</th>\n",
       "      <td>IBM</td>\n",
       "      <td>1962-01-15</td>\n",
       "      <td>4.917787</td>\n",
       "      <td>4.932992</td>\n",
       "      <td>4.917787</td>\n",
       "      <td>4.922132</td>\n",
       "      <td>251200.0</td>\n",
       "      <td>44.44</td>\n",
       "      <td>NaN</td>\n",
       "      <td>NaN</td>\n",
       "      <td>4.870000</td>\n",
       "      <td>4.804835</td>\n",
       "      <td>4.800490</td>\n",
       "      <td>4.622373</td>\n",
       "    </tr>\n",
       "    <tr>\n",
       "      <th>6491617</th>\n",
       "      <td>IBM</td>\n",
       "      <td>1962-01-16</td>\n",
       "      <td>4.917787</td>\n",
       "      <td>4.917787</td>\n",
       "      <td>4.870000</td>\n",
       "      <td>4.870000</td>\n",
       "      <td>251200.0</td>\n",
       "      <td>33.66</td>\n",
       "      <td>NaN</td>\n",
       "      <td>NaN</td>\n",
       "      <td>4.791802</td>\n",
       "      <td>4.809179</td>\n",
       "      <td>4.752703</td>\n",
       "      <td>4.563724</td>\n",
       "    </tr>\n",
       "  </tbody>\n",
       "</table>\n",
       "</div>"
      ],
      "text/plain": [
       "        Ticker        Date     Adj-O     Adj-H     Adj-L     Adj-C   Adj-Vol  \\\n",
       "6491616    IBM  1962-01-15  4.917787  4.932992  4.917787  4.922132  251200.0   \n",
       "6491617    IBM  1962-01-16  4.917787  4.917787  4.870000  4.870000  251200.0   \n",
       "\n",
       "           RSI  Sell Price  Buy Price     Day 1     Day 3     Day 5    Day 10  \n",
       "6491616  44.44         NaN        NaN  4.870000  4.804835  4.800490  4.622373  \n",
       "6491617  33.66         NaN        NaN  4.791802  4.809179  4.752703  4.563724  "
      ]
     },
     "execution_count": 140,
     "metadata": {},
     "output_type": "execute_result"
    }
   ],
   "source": [
    "base_ibm = ibm.copy()\n",
    "base_ibm = ibm['Adj-C']\n",
    "\n",
    "day_1 = base_ibm.shift(-1)\n",
    "day_3 = base_ibm.shift(-3)\n",
    "day_5 = base_ibm.shift(-5)\n",
    "day_10 = base_ibm.shift(-10)\n",
    "\n",
    "ibm['Day 1'] = day_1\n",
    "ibm['Day 3'] = day_3\n",
    "ibm['Day 5'] = day_5\n",
    "ibm['Day 10'] = day_10\n",
    "\n",
    "ibm.head(2)"
   ]
  },
  {
   "cell_type": "code",
   "execution_count": 141,
   "metadata": {
    "collapsed": true
   },
   "outputs": [],
   "source": [
    "ibm = sell_signal_prices(ibm, 70, 30)"
   ]
  },
  {
   "cell_type": "code",
   "execution_count": 142,
   "metadata": {
    "collapsed": true
   },
   "outputs": [],
   "source": [
    "ibm_features = ibm[rsi_features]\n",
    "ibm_prices = ibm['Sell Signal Price']\n",
    "i_obs = len(ibm)\n",
    "ibm_prices = ibm_prices.reshape((i_obs, 1))"
   ]
  },
  {
   "cell_type": "code",
   "execution_count": 143,
   "metadata": {
    "collapsed": true
   },
   "outputs": [],
   "source": [
    "ibm_predictions = rsi_309_model.predict(ibm_features)"
   ]
  },
  {
   "cell_type": "code",
   "execution_count": 144,
   "metadata": {
    "collapsed": false
   },
   "outputs": [
    {
     "data": {
      "text/plain": [
       "0.98963700485044326"
      ]
     },
     "execution_count": 144,
     "metadata": {},
     "output_type": "execute_result"
    }
   ],
   "source": [
    "rsi_309_model.score(ibm_features, ibm_prices)"
   ]
  },
  {
   "cell_type": "code",
   "execution_count": 145,
   "metadata": {
    "collapsed": false
   },
   "outputs": [
    {
     "data": {
      "text/plain": [
       "89627.127300015272"
      ]
     },
     "execution_count": 145,
     "metadata": {},
     "output_type": "execute_result"
    }
   ],
   "source": [
    "np.sum((ibm_predictions - ibm_prices) ** 2)"
   ]
  },
  {
   "cell_type": "code",
   "execution_count": 146,
   "metadata": {
    "collapsed": false
   },
   "outputs": [
    {
     "data": {
      "text/plain": [
       "<matplotlib.collections.PathCollection at 0x11e6bafd0>"
      ]
     },
     "execution_count": 146,
     "metadata": {},
     "output_type": "execute_result"
    },
    {
     "data": {
      "image/png": "[encoded data removed]",
      "text/plain": [
       "<matplotlib.figure.Figure at 0x11d825410>"
      ]
     },
     "metadata": {},
     "output_type": "display_data"
    }
   ],
   "source": [
    "plt.scatter(ibm_features.index, ibm_prices, color='black')\n",
    "plt.ylabel('Price')\n",
    "plt.xlabel('Index')\n",
    "plt.ylim(ymin=1)\n",
    "plt.scatter(ibm_features.index, ibm_predictions, color='red', linewidth=.5, marker='x')"
   ]
  },
  {
   "cell_type": "markdown",
   "metadata": {},
   "source": [
    "**X**"
   ]
  },
  {
   "cell_type": "code",
   "execution_count": 147,
   "metadata": {
    "collapsed": false
   },
   "outputs": [
    {
     "name": "stderr",
     "output_type": "stream",
     "text": [
      "/Users/amagi/anaconda/envs/mlnd/lib/python2.7/site-packages/ipykernel/__main__.py:3: SettingWithCopyWarning: \n",
      "A value is trying to be set on a copy of a slice from a DataFrame.\n",
      "Try using .loc[row_indexer,col_indexer] = value instead\n",
      "\n",
      "See the caveats in the documentation: http://pandas.pydata.org/pandas-docs/stable/indexing.html#indexing-view-versus-copy\n",
      "  app.launch_new_instance()\n"
     ]
    },
    {
     "data": {
      "text/html": [
       "<div>\n",
       "<table border=\"1\" class=\"dataframe\">\n",
       "  <thead>\n",
       "    <tr style=\"text-align: right;\">\n",
       "      <th></th>\n",
       "      <th>Ticker</th>\n",
       "      <th>Date</th>\n",
       "      <th>Adj-O</th>\n",
       "      <th>Adj-H</th>\n",
       "      <th>Adj-L</th>\n",
       "      <th>Adj-C</th>\n",
       "      <th>Adj-Vol</th>\n",
       "      <th>RSI</th>\n",
       "    </tr>\n",
       "  </thead>\n",
       "  <tbody>\n",
       "    <tr>\n",
       "      <th>13945995</th>\n",
       "      <td>X</td>\n",
       "      <td>1991-04-25</td>\n",
       "      <td>15.606351</td>\n",
       "      <td>15.606351</td>\n",
       "      <td>15.380967</td>\n",
       "      <td>15.380967</td>\n",
       "      <td>99700.0</td>\n",
       "      <td>67.86</td>\n",
       "    </tr>\n",
       "    <tr>\n",
       "      <th>13945996</th>\n",
       "      <td>X</td>\n",
       "      <td>1991-04-26</td>\n",
       "      <td>15.380967</td>\n",
       "      <td>15.533254</td>\n",
       "      <td>14.924107</td>\n",
       "      <td>15.076393</td>\n",
       "      <td>88600.0</td>\n",
       "      <td>35.29</td>\n",
       "    </tr>\n",
       "  </tbody>\n",
       "</table>\n",
       "</div>"
      ],
      "text/plain": [
       "         Ticker        Date      Adj-O      Adj-H      Adj-L      Adj-C  \\\n",
       "13945995      X  1991-04-25  15.606351  15.606351  15.380967  15.380967   \n",
       "13945996      X  1991-04-26  15.380967  15.533254  14.924107  15.076393   \n",
       "\n",
       "          Adj-Vol    RSI  \n",
       "13945995  99700.0  67.86  \n",
       "13945996  88600.0  35.29  "
      ]
     },
     "execution_count": 147,
     "metadata": {},
     "output_type": "execute_result"
    }
   ],
   "source": [
    "x = tick_gettr('X')\n",
    "x_rsi = rsi(x, 9)\n",
    "x['RSI'] = x_rsi\n",
    "x = x[9:]\n",
    "x.head(2)"
   ]
  },
  {
   "cell_type": "code",
   "execution_count": 148,
   "metadata": {
    "collapsed": false
   },
   "outputs": [
    {
     "data": {
      "text/html": [
       "<div>\n",
       "<table border=\"1\" class=\"dataframe\">\n",
       "  <thead>\n",
       "    <tr style=\"text-align: right;\">\n",
       "      <th></th>\n",
       "      <th>Ticker</th>\n",
       "      <th>Date</th>\n",
       "      <th>Adj-O</th>\n",
       "      <th>Adj-H</th>\n",
       "      <th>Adj-L</th>\n",
       "      <th>Adj-C</th>\n",
       "      <th>Adj-Vol</th>\n",
       "      <th>RSI</th>\n",
       "      <th>Sell Price</th>\n",
       "      <th>Buy Price</th>\n",
       "    </tr>\n",
       "  </thead>\n",
       "  <tbody>\n",
       "    <tr>\n",
       "      <th>13945995</th>\n",
       "      <td>X</td>\n",
       "      <td>1991-04-25</td>\n",
       "      <td>15.606351</td>\n",
       "      <td>15.606351</td>\n",
       "      <td>15.380967</td>\n",
       "      <td>15.380967</td>\n",
       "      <td>99700.0</td>\n",
       "      <td>67.86</td>\n",
       "      <td>NaN</td>\n",
       "      <td>NaN</td>\n",
       "    </tr>\n",
       "    <tr>\n",
       "      <th>13945996</th>\n",
       "      <td>X</td>\n",
       "      <td>1991-04-26</td>\n",
       "      <td>15.380967</td>\n",
       "      <td>15.533254</td>\n",
       "      <td>14.924107</td>\n",
       "      <td>15.076393</td>\n",
       "      <td>88600.0</td>\n",
       "      <td>35.29</td>\n",
       "      <td>NaN</td>\n",
       "      <td>NaN</td>\n",
       "    </tr>\n",
       "  </tbody>\n",
       "</table>\n",
       "</div>"
      ],
      "text/plain": [
       "         Ticker        Date      Adj-O      Adj-H      Adj-L      Adj-C  \\\n",
       "13945995      X  1991-04-25  15.606351  15.606351  15.380967  15.380967   \n",
       "13945996      X  1991-04-26  15.380967  15.533254  14.924107  15.076393   \n",
       "\n",
       "          Adj-Vol    RSI  Sell Price  Buy Price  \n",
       "13945995  99700.0  67.86         NaN        NaN  \n",
       "13945996  88600.0  35.29         NaN        NaN  "
      ]
     },
     "execution_count": 148,
     "metadata": {},
     "output_type": "execute_result"
    }
   ],
   "source": [
    "x = price_columns(x, 70, 30)\n",
    "x.head(2)"
   ]
  },
  {
   "cell_type": "code",
   "execution_count": 149,
   "metadata": {
    "collapsed": false
   },
   "outputs": [
    {
     "data": {
      "text/html": [
       "<div>\n",
       "<table border=\"1\" class=\"dataframe\">\n",
       "  <thead>\n",
       "    <tr style=\"text-align: right;\">\n",
       "      <th></th>\n",
       "      <th>Ticker</th>\n",
       "      <th>Date</th>\n",
       "      <th>Adj-O</th>\n",
       "      <th>Adj-H</th>\n",
       "      <th>Adj-L</th>\n",
       "      <th>Adj-C</th>\n",
       "      <th>Adj-Vol</th>\n",
       "      <th>RSI</th>\n",
       "      <th>Sell Price</th>\n",
       "      <th>Buy Price</th>\n",
       "      <th>Day 1</th>\n",
       "      <th>Day 3</th>\n",
       "      <th>Day 5</th>\n",
       "      <th>Day 10</th>\n",
       "    </tr>\n",
       "  </thead>\n",
       "  <tbody>\n",
       "    <tr>\n",
       "      <th>13945995</th>\n",
       "      <td>X</td>\n",
       "      <td>1991-04-25</td>\n",
       "      <td>15.606351</td>\n",
       "      <td>15.606351</td>\n",
       "      <td>15.380967</td>\n",
       "      <td>15.380967</td>\n",
       "      <td>99700.0</td>\n",
       "      <td>67.86</td>\n",
       "      <td>NaN</td>\n",
       "      <td>NaN</td>\n",
       "      <td>15.076393</td>\n",
       "      <td>14.010386</td>\n",
       "      <td>14.619533</td>\n",
       "      <td>15.155582</td>\n",
       "    </tr>\n",
       "    <tr>\n",
       "      <th>13945996</th>\n",
       "      <td>X</td>\n",
       "      <td>1991-04-26</td>\n",
       "      <td>15.380967</td>\n",
       "      <td>15.533254</td>\n",
       "      <td>14.924107</td>\n",
       "      <td>15.076393</td>\n",
       "      <td>88600.0</td>\n",
       "      <td>35.29</td>\n",
       "      <td>NaN</td>\n",
       "      <td>NaN</td>\n",
       "      <td>13.937288</td>\n",
       "      <td>15.380967</td>\n",
       "      <td>14.771820</td>\n",
       "      <td>15.380967</td>\n",
       "    </tr>\n",
       "  </tbody>\n",
       "</table>\n",
       "</div>"
      ],
      "text/plain": [
       "         Ticker        Date      Adj-O      Adj-H      Adj-L      Adj-C  \\\n",
       "13945995      X  1991-04-25  15.606351  15.606351  15.380967  15.380967   \n",
       "13945996      X  1991-04-26  15.380967  15.533254  14.924107  15.076393   \n",
       "\n",
       "          Adj-Vol    RSI  Sell Price  Buy Price      Day 1      Day 3  \\\n",
       "13945995  99700.0  67.86         NaN        NaN  15.076393  14.010386   \n",
       "13945996  88600.0  35.29         NaN        NaN  13.937288  15.380967   \n",
       "\n",
       "              Day 5     Day 10  \n",
       "13945995  14.619533  15.155582  \n",
       "13945996  14.771820  15.380967  "
      ]
     },
     "execution_count": 149,
     "metadata": {},
     "output_type": "execute_result"
    }
   ],
   "source": [
    "base_x = x.copy()\n",
    "base_x = x['Adj-C']\n",
    "\n",
    "day_1 = base_x.shift(-1)\n",
    "day_3 = base_x.shift(-3)\n",
    "day_5 = base_x.shift(-5)\n",
    "day_10 = base_x.shift(-10)\n",
    "\n",
    "x['Day 1'] = day_1\n",
    "x['Day 3'] = day_3\n",
    "x['Day 5'] = day_5\n",
    "x['Day 10'] = day_10\n",
    "\n",
    "x.head(2)"
   ]
  },
  {
   "cell_type": "code",
   "execution_count": 150,
   "metadata": {
    "collapsed": true
   },
   "outputs": [],
   "source": [
    "x = sell_signal_prices(x, 70, 30)"
   ]
  },
  {
   "cell_type": "code",
   "execution_count": 151,
   "metadata": {
    "collapsed": true
   },
   "outputs": [],
   "source": [
    "x_features = x[rsi_features]\n",
    "x_prices = x['Sell Signal Price']\n",
    "x_obs = len(x)\n",
    "x_prices = x_prices.reshape((x_obs, 1))"
   ]
  },
  {
   "cell_type": "code",
   "execution_count": 152,
   "metadata": {
    "collapsed": true
   },
   "outputs": [],
   "source": [
    "x_predictions = rsi_309_model.predict(x_features)"
   ]
  },
  {
   "cell_type": "code",
   "execution_count": 153,
   "metadata": {
    "collapsed": false
   },
   "outputs": [
    {
     "data": {
      "text/plain": [
       "0.83073419185596586"
      ]
     },
     "execution_count": 153,
     "metadata": {},
     "output_type": "execute_result"
    }
   ],
   "source": [
    "rsi_309_model.score(x_features, x_prices)"
   ]
  },
  {
   "cell_type": "code",
   "execution_count": 154,
   "metadata": {
    "collapsed": false
   },
   "outputs": [
    {
     "data": {
      "text/plain": [
       "173604.18356860543"
      ]
     },
     "execution_count": 154,
     "metadata": {},
     "output_type": "execute_result"
    }
   ],
   "source": [
    "np.sum((x_predictions - x_prices) ** 2)"
   ]
  },
  {
   "cell_type": "code",
   "execution_count": 155,
   "metadata": {
    "collapsed": false
   },
   "outputs": [
    {
     "data": {
      "text/plain": [
       "<matplotlib.collections.PathCollection at 0x11ea98510>"
      ]
     },
     "execution_count": 155,
     "metadata": {},
     "output_type": "execute_result"
    },
    {
     "data": {
      "image/png": "[encoded data removed]",
      "text/plain": [
       "<matplotlib.figure.Figure at 0x11e06f9d0>"
      ]
     },
     "metadata": {},
     "output_type": "display_data"
    }
   ],
   "source": [
    "plt.scatter(x_features.index, x_prices, color='black')\n",
    "plt.ylabel('Price')\n",
    "plt.xlabel('Index')\n",
    "plt.ylim(ymin=1)\n",
    "plt.scatter(x_features.index, x_predictions, color='red', linewidth=.5, marker='x')"
   ]
  },
  {
   "cell_type": "markdown",
   "metadata": {},
   "source": [
    "I will now write a small function to make the back of the envelope calculation for all the above."
   ]
  },
  {
   "cell_type": "code",
   "execution_count": 156,
   "metadata": {
    "collapsed": true
   },
   "outputs": [],
   "source": [
    "quick_calc = [x, msft, zumz, ibm]"
   ]
  },
  {
   "cell_type": "code",
   "execution_count": 157,
   "metadata": {
    "collapsed": true
   },
   "outputs": [],
   "source": [
    "def back_envelope(stocks):\n",
    "    \"\"\"A simple function to calculate the difference between the sell & buy prices in the stock datasets.\"\"\"\n",
    "    \n",
    "    for stock in stocks:\n",
    "        #Get the ticker symbol.  This is used for display purposes.\n",
    "        ticker = stock['Ticker']\n",
    "        ticker = ticker.unique()\n",
    "        comp_list = []\n",
    "\n",
    "        for line in stock.iterrows():\n",
    "            if line[1][14] > 0:\n",
    "                asd = line[1][14] - line[1][9]\n",
    "                comp_list.append(asd)\n",
    "\n",
    "        print \"for {}: # of transactions: {}.  Total value of transactions: {}.\".format(\n",
    "            ticker[0], len(comp_list), sum(comp_list))"
   ]
  },
  {
   "cell_type": "code",
   "execution_count": 158,
   "metadata": {
    "collapsed": false
   },
   "outputs": [
    {
     "name": "stdout",
     "output_type": "stream",
     "text": [
      "for X: # of transactions: 1222.  Total value of transactions: -1552.02945296.\n",
      "for MSFT: # of transactions: 1041.  Total value of transactions: 474.602933111.\n",
      "for ZUMZ: # of transactions: 455.  Total value of transactions: 104.58.\n",
      "for IBM: # of transactions: 2231.  Total value of transactions: 1140.24345053.\n"
     ]
    }
   ],
   "source": [
    "back_envelope(quick_calc)"
   ]
  },
  {
   "cell_type": "markdown",
   "metadata": {},
   "source": [
    "Clearly some interesting results, particularly for **X**.  Below I will include another plot in order to get a closer look at **X**."
   ]
  },
  {
   "cell_type": "code",
   "execution_count": 159,
   "metadata": {
    "collapsed": false
   },
   "outputs": [
    {
     "data": {
      "text/plain": [
       "<matplotlib.collections.PathCollection at 0x11df88a50>"
      ]
     },
     "execution_count": 159,
     "metadata": {},
     "output_type": "execute_result"
    },
    {
     "data": {
      "image/png": "[encoded data removed]",
      "text/plain": [
       "<matplotlib.figure.Figure at 0x11d81c0d0>"
      ]
     },
     "metadata": {},
     "output_type": "display_data"
    }
   ],
   "source": [
    "plt.scatter(x_features[3516:5500].index, x_prices[3516:5500], color='black')\n",
    "plt.ylabel('Price')\n",
    "plt.xlabel('Index')\n",
    "plt.ylim(ymin=1)\n",
    "plt.scatter(x_features[3516:5500].index, x_predictions[3516:5500], color='red', linewidth=.5, marker='x')"
   ]
  },
  {
   "cell_type": "markdown",
   "metadata": {},
   "source": [
    "In this plot we can see where some model that is highly predictive can have some disastrous results.  As alluded to earlier, without risk management & position sizing a predictive model does not really serve much use.  Although, **X** was the least predictive (with an ~83% model score) my back of the envelope calculation demonstrates that a mechanistic implementation of a simple buy/sell rule can lead to a very negative outcome.\n",
    "\n",
    "Also important to point what is happening in the chart above.  This selection was during the financial crises, where asset prices were dropping rapidly and by large percentages.  It is important to point out that this is not an instance of corrupt data, but a rapid change in the environment where the asset price took a tremndous hit.  So this chart seems to indicate that the model will have a hard time to make accurate predictions in periods where there are significant price swings that differing from the preceeding trends.\n",
    "\n",
    "\n",
    "**Below I plot the some of the stock data again in order to get a more readable plots.**"
   ]
  },
  {
   "cell_type": "code",
   "execution_count": 160,
   "metadata": {
    "collapsed": true
   },
   "outputs": [],
   "source": [
    "new_x = x_features[3516:5500]"
   ]
  },
  {
   "cell_type": "code",
   "execution_count": 161,
   "metadata": {
    "collapsed": false
   },
   "outputs": [],
   "source": [
    "new_x_dates = x[3516:5500]['Date']"
   ]
  },
  {
   "cell_type": "code",
   "execution_count": 162,
   "metadata": {
    "collapsed": false
   },
   "outputs": [
    {
     "name": "stderr",
     "output_type": "stream",
     "text": [
      "/Users/amagi/anaconda/envs/mlnd/lib/python2.7/site-packages/ipykernel/__main__.py:1: SettingWithCopyWarning: \n",
      "A value is trying to be set on a copy of a slice from a DataFrame.\n",
      "Try using .loc[row_indexer,col_indexer] = value instead\n",
      "\n",
      "See the caveats in the documentation: http://pandas.pydata.org/pandas-docs/stable/indexing.html#indexing-view-versus-copy\n",
      "  if __name__ == '__main__':\n"
     ]
    }
   ],
   "source": [
    "new_x['Date'] = new_x_dates"
   ]
  },
  {
   "cell_type": "code",
   "execution_count": 163,
   "metadata": {
    "collapsed": true
   },
   "outputs": [],
   "source": [
    "new_x_predict = x_predictions[3516:5500]"
   ]
  },
  {
   "cell_type": "code",
   "execution_count": 164,
   "metadata": {
    "collapsed": false
   },
   "outputs": [
    {
     "name": "stderr",
     "output_type": "stream",
     "text": [
      "/Users/amagi/anaconda/envs/mlnd/lib/python2.7/site-packages/ipykernel/__main__.py:1: SettingWithCopyWarning: \n",
      "A value is trying to be set on a copy of a slice from a DataFrame.\n",
      "Try using .loc[row_indexer,col_indexer] = value instead\n",
      "\n",
      "See the caveats in the documentation: http://pandas.pydata.org/pandas-docs/stable/indexing.html#indexing-view-versus-copy\n",
      "  if __name__ == '__main__':\n"
     ]
    }
   ],
   "source": [
    "new_x['Predicted'] = new_x_predict"
   ]
  },
  {
   "cell_type": "code",
   "execution_count": 165,
   "metadata": {
    "collapsed": false
   },
   "outputs": [
    {
     "name": "stderr",
     "output_type": "stream",
     "text": [
      "/Users/amagi/anaconda/envs/mlnd/lib/python2.7/site-packages/ipykernel/__main__.py:2: SettingWithCopyWarning: \n",
      "A value is trying to be set on a copy of a slice from a DataFrame.\n",
      "Try using .loc[row_indexer,col_indexer] = value instead\n",
      "\n",
      "See the caveats in the documentation: http://pandas.pydata.org/pandas-docs/stable/indexing.html#indexing-view-versus-copy\n",
      "  from ipykernel import kernelapp as app\n"
     ]
    }
   ],
   "source": [
    "new_x_prices = x_prices[3516:5500]\n",
    "new_x['Price'] = new_x_prices"
   ]
  },
  {
   "cell_type": "code",
   "execution_count": 166,
   "metadata": {
    "collapsed": true
   },
   "outputs": [],
   "source": [
    "from dateutil.parser import parse\n",
    "\n",
    "asd = new_x['Date'].tolist()\n",
    "asd = [parse(i) for i in asd]"
   ]
  },
  {
   "cell_type": "markdown",
   "metadata": {},
   "source": [
    "### Zoom in on X"
   ]
  },
  {
   "cell_type": "code",
   "execution_count": 167,
   "metadata": {
    "collapsed": false
   },
   "outputs": [
    {
     "data": {
      "text/plain": [
       "<matplotlib.collections.PathCollection at 0x11f59a2d0>"
      ]
     },
     "execution_count": 167,
     "metadata": {},
     "output_type": "execute_result"
    },
    {
     "data": {
      "image/png": "[encoded data removed]",
      "text/plain": [
       "<matplotlib.figure.Figure at 0x11e9f2a90>"
      ]
     },
     "metadata": {},
     "output_type": "display_data"
    }
   ],
   "source": [
    "plt.figure(figsize=(10,8))\n",
    "plt.scatter(asd, new_x.Price, color='black')\n",
    "plt.ylabel('Price')\n",
    "plt.xlabel('Date')\n",
    "plt.ylim(ymin=1)\n",
    "plt.scatter(asd, new_x.Predicted, color='red', linewidth=.5, marker='x')"
   ]
  },
  {
   "cell_type": "markdown",
   "metadata": {},
   "source": [
    "### All X Data"
   ]
  },
  {
   "cell_type": "code",
   "execution_count": 168,
   "metadata": {
    "collapsed": false
   },
   "outputs": [],
   "source": [
    "xasd = x['Date'].tolist()\n",
    "xasd = [parse(i) for i in xasd]"
   ]
  },
  {
   "cell_type": "code",
   "execution_count": 169,
   "metadata": {
    "collapsed": false
   },
   "outputs": [
    {
     "data": {
      "text/plain": [
       "<matplotlib.collections.PathCollection at 0x11e9cfa10>"
      ]
     },
     "execution_count": 169,
     "metadata": {},
     "output_type": "execute_result"
    },
    {
     "data": {
      "image/png": "[encoded data removed]",
      "text/plain": [
       "<matplotlib.figure.Figure at 0x11f59ab90>"
      ]
     },
     "metadata": {},
     "output_type": "display_data"
    }
   ],
   "source": [
    "plt.figure(figsize=(10,8))\n",
    "plt.scatter(xasd, x_prices, color='black')\n",
    "plt.ylabel('Price')\n",
    "plt.xlabel('Date')\n",
    "plt.ylim(ymin=1)\n",
    "plt.scatter(xasd, x_predictions, color='red', linewidth=.5, marker='x')"
   ]
  },
  {
   "cell_type": "code",
   "execution_count": null,
   "metadata": {
    "collapsed": true
   },
   "outputs": [],
   "source": []
  }
 ],
 "metadata": {
  "kernelspec": {
   "display_name": "Python 2",
   "language": "python",
   "name": "python2"
  },
  "language_info": {
   "codemirror_mode": {
    "name": "ipython",
    "version": 2
   },
   "file_extension": ".py",
   "mimetype": "text/x-python",
   "name": "python",
   "nbconvert_exporter": "python",
   "pygments_lexer": "ipython2",
   "version": "2.7.12"
  }
 },
 "nbformat": 4,
 "nbformat_minor": 0
}
