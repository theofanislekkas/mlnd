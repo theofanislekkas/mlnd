{
 "cells": [
  {
   "cell_type": "code",
   "execution_count": 1,
   "metadata": {
    "collapsed": true
   },
   "outputs": [],
   "source": [
    "import numpy as np\n",
    "import pandas as pd"
   ]
  },
  {
   "cell_type": "markdown",
   "metadata": {},
   "source": [
    "## This is a backtesting approach, which will be use to see how the predictions worked out."
   ]
  },
  {
   "cell_type": "code",
   "execution_count": 2,
   "metadata": {
    "collapsed": true
   },
   "outputs": [],
   "source": [
    "def rsi_buy_sell(ticker, oversold, overbought):\n",
    "    \"\"\"\n",
    "    A function that buys a user selected stock using the RSI with user selected\n",
    "    buy & sell thresholds.\n",
    "    \"\"\"\n",
    "    \n",
    "    ##I need(?) to create, possibly, a dict that looks like:\n",
    "    ##{buy: ('1981-01-05', 0.5118863780806), sell: ('1981-01-05', 0.5118863780806), profit: (buy[2] - sell[2])}\n",
    "    \n",
    "    #A list of transactions\n",
    "    transactions = []\n",
    "    #A dict that records the buy, sell, & profit of each transaction\n",
    "    buy_sell = {buy: ('1981-01-05', 0.0), sell: ('1981-01-05', 0.0),\n",
    "                 profit: (buy[2] - sell[2])}\n",
    "    \n",
    "    buy = ticker[0] < oversold\n",
    "    sell = ticker[0] > overbought\n",
    "    \n",
    "#     for session in ticker:\n",
    "#         if buy:#This happens when the loop enters a buy state\n",
    "#             buy_sell['buy'] = session[1:]\n",
    "#         elif sell:#This happnens when the loop exits the buy & enters the sell state\n",
    "#             buy_sell['sell'] = session[1:]\n",
    "#             buy_sell['profit'] = buy_sell['sell'][1] - buy_sell['buy'][1]\n",
    "#             transactions.append('buy_sell?')#Do I need some container? self.buy_sell that resets?\n",
    "#         elif current state is buy & \n",
    "                \n",
    "    ##What happens if there are no sell signals after the buy signal before another sell signal is generated?\n",
    "    ##    Hold until the first sell signal is generated.\n",
    "    ##What happens if the first signal is a sell signal?\n",
    "    ##    Don't sell, wait for the first buy signal.\n",
    "    \n",
    "    ##I need a 'state' where as the function loops through the list, if the buy state is in effect\n",
    "    ##then nothing happens until a sell state is encountered.\n",
    "    ##After the buy/sell cycle happens, we are in a sell state which exists until another but state\n",
    "    ##is generated.\n",
    "    \n",
    "    #while buy:\n",
    "    #    iterate over list until sell\n",
    "    #    add current sell to the dict object\n",
    "    #    calculate the profit\n",
    "    #    append the list\n",
    "    #    enter sell state\n",
    "    #while sell:\n",
    "    #    iterate over the list until buy\n",
    "    #    add current buy to the dict object\n",
    "    #    enter the but state\n",
    "    \n",
    "    return transactions\n"
   ]
  },
  {
   "cell_type": "code",
   "execution_count": null,
   "metadata": {
    "collapsed": true
   },
   "outputs": [],
   "source": []
  }
 ],
 "metadata": {
  "kernelspec": {
   "display_name": "Python 2",
   "language": "python",
   "name": "python2"
  },
  "language_info": {
   "codemirror_mode": {
    "name": "ipython",
    "version": 2
   },
   "file_extension": ".py",
   "mimetype": "text/x-python",
   "name": "python",
   "nbconvert_exporter": "python",
   "pygments_lexer": "ipython2",
   "version": "2.7.11"
  }
 },
 "nbformat": 4,
 "nbformat_minor": 0
}
