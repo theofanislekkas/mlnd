{
 "cells": [
  {
   "cell_type": "code",
   "execution_count": 2,
   "metadata": {
    "collapsed": true
   },
   "outputs": [],
   "source": [
    "from __future__ import division\n",
    "\n",
    "import numpy as np\n",
    "import pandas as pd\n",
    "\n",
    "import matplotlib.pyplot as plt\n",
    "\n",
    "from matplotlib import finance\n",
    "\n",
    "%matplotlib inline"
   ]
  },
  {
   "cell_type": "markdown",
   "metadata": {},
   "source": [
    "# Loading and Exploring the Data"
   ]
  },
  {
   "cell_type": "code",
   "execution_count": 3,
   "metadata": {
    "collapsed": true
   },
   "outputs": [],
   "source": [
    "data = pd.read_csv('WIKI_20160608.csv', names=['Ticker', 'Date', 'Open', 'High', 'Low', 'Close',\n",
    "                                              'Volume', '7', '8', 'Adj-O', 'Adj-H', 'Adj-L', 'Adj-C',\n",
    "                                              'Adj-Vol'])"
   ]
  },
  {
   "cell_type": "code",
   "execution_count": 4,
   "metadata": {
    "collapsed": false
   },
   "outputs": [
    {
     "data": {
      "text/html": [
       "<div>\n",
       "<table border=\"1\" class=\"dataframe\">\n",
       "  <thead>\n",
       "    <tr style=\"text-align: right;\">\n",
       "      <th></th>\n",
       "      <th>Ticker</th>\n",
       "      <th>Date</th>\n",
       "      <th>Open</th>\n",
       "      <th>High</th>\n",
       "      <th>Low</th>\n",
       "      <th>Close</th>\n",
       "      <th>Volume</th>\n",
       "      <th>7</th>\n",
       "      <th>8</th>\n",
       "      <th>Adj-O</th>\n",
       "      <th>Adj-H</th>\n",
       "      <th>Adj-L</th>\n",
       "      <th>Adj-C</th>\n",
       "      <th>Adj-Vol</th>\n",
       "    </tr>\n",
       "  </thead>\n",
       "  <tbody>\n",
       "    <tr>\n",
       "      <th>0</th>\n",
       "      <td>A</td>\n",
       "      <td>1999-11-18</td>\n",
       "      <td>45.50</td>\n",
       "      <td>50.00</td>\n",
       "      <td>40.00</td>\n",
       "      <td>44.00</td>\n",
       "      <td>44739900.0</td>\n",
       "      <td>0.0</td>\n",
       "      <td>1.0</td>\n",
       "      <td>43.584507</td>\n",
       "      <td>47.895063</td>\n",
       "      <td>38.316050</td>\n",
       "      <td>42.147655</td>\n",
       "      <td>44739900.0</td>\n",
       "    </tr>\n",
       "    <tr>\n",
       "      <th>1</th>\n",
       "      <td>A</td>\n",
       "      <td>1999-11-19</td>\n",
       "      <td>42.94</td>\n",
       "      <td>43.00</td>\n",
       "      <td>39.81</td>\n",
       "      <td>40.38</td>\n",
       "      <td>10897100.0</td>\n",
       "      <td>0.0</td>\n",
       "      <td>1.0</td>\n",
       "      <td>41.132280</td>\n",
       "      <td>41.189754</td>\n",
       "      <td>38.134049</td>\n",
       "      <td>38.680053</td>\n",
       "      <td>10897100.0</td>\n",
       "    </tr>\n",
       "    <tr>\n",
       "      <th>2</th>\n",
       "      <td>A</td>\n",
       "      <td>1999-11-22</td>\n",
       "      <td>41.31</td>\n",
       "      <td>44.00</td>\n",
       "      <td>40.06</td>\n",
       "      <td>44.00</td>\n",
       "      <td>4705200.0</td>\n",
       "      <td>0.0</td>\n",
       "      <td>1.0</td>\n",
       "      <td>39.570901</td>\n",
       "      <td>42.147655</td>\n",
       "      <td>38.373524</td>\n",
       "      <td>42.147655</td>\n",
       "      <td>4705200.0</td>\n",
       "    </tr>\n",
       "    <tr>\n",
       "      <th>3</th>\n",
       "      <td>A</td>\n",
       "      <td>1999-11-23</td>\n",
       "      <td>42.50</td>\n",
       "      <td>43.63</td>\n",
       "      <td>40.25</td>\n",
       "      <td>40.25</td>\n",
       "      <td>4274400.0</td>\n",
       "      <td>0.0</td>\n",
       "      <td>1.0</td>\n",
       "      <td>40.710803</td>\n",
       "      <td>41.793232</td>\n",
       "      <td>38.555525</td>\n",
       "      <td>38.555525</td>\n",
       "      <td>4274400.0</td>\n",
       "    </tr>\n",
       "    <tr>\n",
       "      <th>4</th>\n",
       "      <td>A</td>\n",
       "      <td>1999-11-24</td>\n",
       "      <td>40.13</td>\n",
       "      <td>41.94</td>\n",
       "      <td>40.00</td>\n",
       "      <td>41.06</td>\n",
       "      <td>3464400.0</td>\n",
       "      <td>0.0</td>\n",
       "      <td>1.0</td>\n",
       "      <td>38.440577</td>\n",
       "      <td>40.174379</td>\n",
       "      <td>38.316050</td>\n",
       "      <td>39.331425</td>\n",
       "      <td>3464400.0</td>\n",
       "    </tr>\n",
       "  </tbody>\n",
       "</table>\n",
       "</div>"
      ],
      "text/plain": [
       "  Ticker        Date   Open   High    Low  Close      Volume    7    8  \\\n",
       "0      A  1999-11-18  45.50  50.00  40.00  44.00  44739900.0  0.0  1.0   \n",
       "1      A  1999-11-19  42.94  43.00  39.81  40.38  10897100.0  0.0  1.0   \n",
       "2      A  1999-11-22  41.31  44.00  40.06  44.00   4705200.0  0.0  1.0   \n",
       "3      A  1999-11-23  42.50  43.63  40.25  40.25   4274400.0  0.0  1.0   \n",
       "4      A  1999-11-24  40.13  41.94  40.00  41.06   3464400.0  0.0  1.0   \n",
       "\n",
       "       Adj-O      Adj-H      Adj-L      Adj-C     Adj-Vol  \n",
       "0  43.584507  47.895063  38.316050  42.147655  44739900.0  \n",
       "1  41.132280  41.189754  38.134049  38.680053  10897100.0  \n",
       "2  39.570901  42.147655  38.373524  42.147655   4705200.0  \n",
       "3  40.710803  41.793232  38.555525  38.555525   4274400.0  \n",
       "4  38.440577  40.174379  38.316050  39.331425   3464400.0  "
      ]
     },
     "execution_count": 4,
     "metadata": {},
     "output_type": "execute_result"
    }
   ],
   "source": [
    "data.head(5)"
   ]
  },
  {
   "cell_type": "markdown",
   "metadata": {},
   "source": [
    "Create a new dataframe with only the adjusted data, data, & ticker symbol."
   ]
  },
  {
   "cell_type": "code",
   "execution_count": 5,
   "metadata": {
    "collapsed": true
   },
   "outputs": [],
   "source": [
    "dat = data[['Ticker', 'Date', 'Adj-O', 'Adj-H', 'Adj-L', 'Adj-C', 'Adj-Vol']]"
   ]
  },
  {
   "cell_type": "code",
   "execution_count": 6,
   "metadata": {
    "collapsed": false
   },
   "outputs": [
    {
     "data": {
      "text/html": [
       "<div>\n",
       "<table border=\"1\" class=\"dataframe\">\n",
       "  <thead>\n",
       "    <tr style=\"text-align: right;\">\n",
       "      <th></th>\n",
       "      <th>Ticker</th>\n",
       "      <th>Date</th>\n",
       "      <th>Adj-O</th>\n",
       "      <th>Adj-H</th>\n",
       "      <th>Adj-L</th>\n",
       "      <th>Adj-C</th>\n",
       "      <th>Adj-Vol</th>\n",
       "    </tr>\n",
       "  </thead>\n",
       "  <tbody>\n",
       "    <tr>\n",
       "      <th>0</th>\n",
       "      <td>A</td>\n",
       "      <td>1999-11-18</td>\n",
       "      <td>43.584507</td>\n",
       "      <td>47.895063</td>\n",
       "      <td>38.316050</td>\n",
       "      <td>42.147655</td>\n",
       "      <td>44739900.0</td>\n",
       "    </tr>\n",
       "    <tr>\n",
       "      <th>1</th>\n",
       "      <td>A</td>\n",
       "      <td>1999-11-19</td>\n",
       "      <td>41.132280</td>\n",
       "      <td>41.189754</td>\n",
       "      <td>38.134049</td>\n",
       "      <td>38.680053</td>\n",
       "      <td>10897100.0</td>\n",
       "    </tr>\n",
       "    <tr>\n",
       "      <th>2</th>\n",
       "      <td>A</td>\n",
       "      <td>1999-11-22</td>\n",
       "      <td>39.570901</td>\n",
       "      <td>42.147655</td>\n",
       "      <td>38.373524</td>\n",
       "      <td>42.147655</td>\n",
       "      <td>4705200.0</td>\n",
       "    </tr>\n",
       "    <tr>\n",
       "      <th>3</th>\n",
       "      <td>A</td>\n",
       "      <td>1999-11-23</td>\n",
       "      <td>40.710803</td>\n",
       "      <td>41.793232</td>\n",
       "      <td>38.555525</td>\n",
       "      <td>38.555525</td>\n",
       "      <td>4274400.0</td>\n",
       "    </tr>\n",
       "    <tr>\n",
       "      <th>4</th>\n",
       "      <td>A</td>\n",
       "      <td>1999-11-24</td>\n",
       "      <td>38.440577</td>\n",
       "      <td>40.174379</td>\n",
       "      <td>38.316050</td>\n",
       "      <td>39.331425</td>\n",
       "      <td>3464400.0</td>\n",
       "    </tr>\n",
       "  </tbody>\n",
       "</table>\n",
       "</div>"
      ],
      "text/plain": [
       "  Ticker        Date      Adj-O      Adj-H      Adj-L      Adj-C     Adj-Vol\n",
       "0      A  1999-11-18  43.584507  47.895063  38.316050  42.147655  44739900.0\n",
       "1      A  1999-11-19  41.132280  41.189754  38.134049  38.680053  10897100.0\n",
       "2      A  1999-11-22  39.570901  42.147655  38.373524  42.147655   4705200.0\n",
       "3      A  1999-11-23  40.710803  41.793232  38.555525  38.555525   4274400.0\n",
       "4      A  1999-11-24  38.440577  40.174379  38.316050  39.331425   3464400.0"
      ]
     },
     "execution_count": 6,
     "metadata": {},
     "output_type": "execute_result"
    }
   ],
   "source": [
    "dat.head(5)"
   ]
  },
  {
   "cell_type": "code",
   "execution_count": 7,
   "metadata": {
    "collapsed": false
   },
   "outputs": [
    {
     "data": {
      "text/plain": [
       "(14150093, 7)"
      ]
     },
     "execution_count": 7,
     "metadata": {},
     "output_type": "execute_result"
    }
   ],
   "source": [
    "dat.shape"
   ]
  },
  {
   "cell_type": "markdown",
   "metadata": {},
   "source": [
    "Create a dataframe for a specific ticker"
   ]
  },
  {
   "cell_type": "code",
   "execution_count": 8,
   "metadata": {
    "collapsed": true
   },
   "outputs": [],
   "source": [
    "agilent = dat[dat['Ticker'] == 'A']"
   ]
  },
  {
   "cell_type": "code",
   "execution_count": 9,
   "metadata": {
    "collapsed": false
   },
   "outputs": [
    {
     "data": {
      "text/html": [
       "<div>\n",
       "<table border=\"1\" class=\"dataframe\">\n",
       "  <thead>\n",
       "    <tr style=\"text-align: right;\">\n",
       "      <th></th>\n",
       "      <th>Ticker</th>\n",
       "      <th>Date</th>\n",
       "      <th>Adj-O</th>\n",
       "      <th>Adj-H</th>\n",
       "      <th>Adj-L</th>\n",
       "      <th>Adj-C</th>\n",
       "      <th>Adj-Vol</th>\n",
       "    </tr>\n",
       "  </thead>\n",
       "  <tbody>\n",
       "    <tr>\n",
       "      <th>0</th>\n",
       "      <td>A</td>\n",
       "      <td>1999-11-18</td>\n",
       "      <td>43.584507</td>\n",
       "      <td>47.895063</td>\n",
       "      <td>38.316050</td>\n",
       "      <td>42.147655</td>\n",
       "      <td>44739900.0</td>\n",
       "    </tr>\n",
       "    <tr>\n",
       "      <th>1</th>\n",
       "      <td>A</td>\n",
       "      <td>1999-11-19</td>\n",
       "      <td>41.132280</td>\n",
       "      <td>41.189754</td>\n",
       "      <td>38.134049</td>\n",
       "      <td>38.680053</td>\n",
       "      <td>10897100.0</td>\n",
       "    </tr>\n",
       "    <tr>\n",
       "      <th>2</th>\n",
       "      <td>A</td>\n",
       "      <td>1999-11-22</td>\n",
       "      <td>39.570901</td>\n",
       "      <td>42.147655</td>\n",
       "      <td>38.373524</td>\n",
       "      <td>42.147655</td>\n",
       "      <td>4705200.0</td>\n",
       "    </tr>\n",
       "    <tr>\n",
       "      <th>3</th>\n",
       "      <td>A</td>\n",
       "      <td>1999-11-23</td>\n",
       "      <td>40.710803</td>\n",
       "      <td>41.793232</td>\n",
       "      <td>38.555525</td>\n",
       "      <td>38.555525</td>\n",
       "      <td>4274400.0</td>\n",
       "    </tr>\n",
       "    <tr>\n",
       "      <th>4</th>\n",
       "      <td>A</td>\n",
       "      <td>1999-11-24</td>\n",
       "      <td>38.440577</td>\n",
       "      <td>40.174379</td>\n",
       "      <td>38.316050</td>\n",
       "      <td>39.331425</td>\n",
       "      <td>3464400.0</td>\n",
       "    </tr>\n",
       "  </tbody>\n",
       "</table>\n",
       "</div>"
      ],
      "text/plain": [
       "  Ticker        Date      Adj-O      Adj-H      Adj-L      Adj-C     Adj-Vol\n",
       "0      A  1999-11-18  43.584507  47.895063  38.316050  42.147655  44739900.0\n",
       "1      A  1999-11-19  41.132280  41.189754  38.134049  38.680053  10897100.0\n",
       "2      A  1999-11-22  39.570901  42.147655  38.373524  42.147655   4705200.0\n",
       "3      A  1999-11-23  40.710803  41.793232  38.555525  38.555525   4274400.0\n",
       "4      A  1999-11-24  38.440577  40.174379  38.316050  39.331425   3464400.0"
      ]
     },
     "execution_count": 9,
     "metadata": {},
     "output_type": "execute_result"
    }
   ],
   "source": [
    "agilent.head()"
   ]
  },
  {
   "cell_type": "markdown",
   "metadata": {},
   "source": [
    "Pretty straight forward to get a ticker specific set of data.  Below I will create a function to automate the process."
   ]
  },
  {
   "cell_type": "code",
   "execution_count": 10,
   "metadata": {
    "collapsed": true
   },
   "outputs": [],
   "source": [
    "def tick_gettr(ticker):\n",
    "    data = dat[dat['Ticker'] == ticker]\n",
    "    return data"
   ]
  },
  {
   "cell_type": "markdown",
   "metadata": {},
   "source": [
    "I will also create an array for all tickers in the dataset in case that comes in handy."
   ]
  },
  {
   "cell_type": "code",
   "execution_count": 11,
   "metadata": {
    "collapsed": false
   },
   "outputs": [
    {
     "data": {
      "text/plain": [
       "3179"
      ]
     },
     "execution_count": 11,
     "metadata": {},
     "output_type": "execute_result"
    }
   ],
   "source": [
    "tickers = dat['Ticker']\n",
    "tickers = tickers.unique()\n",
    "len(tickers)"
   ]
  },
  {
   "cell_type": "markdown",
   "metadata": {},
   "source": [
    "Now I will get a ticker specific set of data to work with."
   ]
  },
  {
   "cell_type": "code",
   "execution_count": 12,
   "metadata": {
    "collapsed": true
   },
   "outputs": [],
   "source": [
    "aapl = tick_gettr('AAPL')"
   ]
  },
  {
   "cell_type": "markdown",
   "metadata": {},
   "source": [
    "## Basic Calculations"
   ]
  },
  {
   "cell_type": "markdown",
   "metadata": {},
   "source": [
    "I need the components and then the look back period.\n",
    "\n",
    "Also note that the calculations need to be made for the data historically, not just for the look back period (e.g. look back of 14 days gives us a value just for those 14 days.)  The look back period is how far back the function will look back to make the calculation.\n",
    "\n",
    "**EXAMPLE:**\n",
    "\n",
    "Using a lookback period of 14 days will gives us the 14 day calculation for RSI for the entire history of the data set, not just the last 14 days.  I will be able to look & see what the 14 day RSI was for June 25th, 2000 and for the most recent data point as well."
   ]
  },
  {
   "cell_type": "code",
   "execution_count": 13,
   "metadata": {
    "collapsed": true
   },
   "outputs": [],
   "source": [
    "def rs(ticker, look_back):\n",
    "    \"\"\"\n",
    "    A function to find the relative strength of a stock using a user specified\n",
    "    look back period.\n",
    "    \"\"\"\n",
    "    \n",
    "    #Get the difference between consecutive adjusted closes.\n",
    "    difference = ticker['Adj-C'].diff()\n",
    "    difference = difference[1:]\n",
    "    \n",
    "    #Define & clean up the up sessions & down sessions.\n",
    "    up, down = difference.copy(), difference.copy()\n",
    "    \n",
    "    up[up < 0] = 0\n",
    "    down[down > 0] = 0\n",
    "    \n",
    "    #Get the absolute value for the down sessions.\n",
    "    down = down.abs()\n",
    "    \n",
    "    #Get the look_back mean for both up & down sessions.\n",
    "    upper = up.rolling(window=look_back, center=False).mean()\n",
    "    downer = down.rolling(window=look_back, center=False).mean()\n",
    "        \n",
    "    #Calculate the relative strength\n",
    "    rs = upper / downer\n",
    "    \n",
    "    return rs"
   ]
  },
  {
   "cell_type": "code",
   "execution_count": 14,
   "metadata": {
    "collapsed": true
   },
   "outputs": [],
   "source": [
    "def rsi(ticker, look_back):\n",
    "    \"\"\"\n",
    "    A function that determines the relative strength index of a specific stock.\n",
    "    \"\"\"\n",
    "    \n",
    "    #Get the relative strength.\n",
    "    r_s = rs(ticker, look_back)\n",
    "    #Calculate the RSI.\n",
    "    rsi = 100.0 - 100.0 / (1.0 + r_s)\n",
    "\n",
    "    return rsi.round(decimals=2)"
   ]
  },
  {
   "cell_type": "markdown",
   "metadata": {},
   "source": [
    "The Python code to get the RS calculation was greatly informed from this StackOverflow answer:\n",
    "\n",
    "http://stackoverflow.com/a/29400434/1094634"
   ]
  },
  {
   "cell_type": "markdown",
   "metadata": {},
   "source": [
    "Also important to note, that some sources will calculate some element of the RSI differently.  Yahoo Finance & ThinkorSwim for instances calculate it the same (and differently from the above calculation) while Freestockcharts.com (Worden) calculates it the same way."
   ]
  },
  {
   "cell_type": "markdown",
   "metadata": {},
   "source": [
    "## Buy/Sell Rule:\n",
    "\n",
    "I will begin with a simple buy/sell rule.  Buy @ the closing price when RSI < 30 & sell @ the closing price when RSI > 70.  The 30 & 70 thresholds are the traditional demarcation points for 'oversold' (<30) & 'overbought' (>70).  These thresholds are ripe for fine tuning.  Initially, I will be using the 14 day average.  The other average that I want to look at is the 9 day.  As with the oversold/overbought level, the optimal average needs to be tested/tuned as well.\n",
    "\n",
    "Simply, what I want to know is if the RSI predicts higer prices from the buy point.  The actual price itself is not very important (at least in the initial stage.)  If the sell price is consistently higher than buy price, then I will interpret that as the RSI as having some predictive value (whether or not the RSI strategy is more profitable than simply buying the S&P 500 is a separate question.)\n",
    "\n",
    "\n",
    "First, I will get Apples (AAPL) RSI using the 14 day average."
   ]
  },
  {
   "cell_type": "code",
   "execution_count": 15,
   "metadata": {
    "collapsed": true
   },
   "outputs": [],
   "source": [
    "aapl_rsi = rsi(aapl, 14)"
   ]
  },
  {
   "cell_type": "markdown",
   "metadata": {},
   "source": [
    "Now I want to add a new column to the dataset to include the RSI"
   ]
  },
  {
   "cell_type": "code",
   "execution_count": 16,
   "metadata": {
    "collapsed": false
   },
   "outputs": [
    {
     "name": "stderr",
     "output_type": "stream",
     "text": [
      "/Users/amagi/anaconda/envs/mlnd/lib/python2.7/site-packages/ipykernel/__main__.py:1: SettingWithCopyWarning: \n",
      "A value is trying to be set on a copy of a slice from a DataFrame.\n",
      "Try using .loc[row_indexer,col_indexer] = value instead\n",
      "\n",
      "See the caveats in the documentation: http://pandas.pydata.org/pandas-docs/stable/indexing.html#indexing-view-versus-copy\n",
      "  if __name__ == '__main__':\n"
     ]
    }
   ],
   "source": [
    "aapl['RSI'] = aapl_rsi"
   ]
  },
  {
   "cell_type": "code",
   "execution_count": 17,
   "metadata": {
    "collapsed": false
   },
   "outputs": [
    {
     "data": {
      "text/html": [
       "<div>\n",
       "<table border=\"1\" class=\"dataframe\">\n",
       "  <thead>\n",
       "    <tr style=\"text-align: right;\">\n",
       "      <th></th>\n",
       "      <th>Ticker</th>\n",
       "      <th>Date</th>\n",
       "      <th>Adj-O</th>\n",
       "      <th>Adj-H</th>\n",
       "      <th>Adj-L</th>\n",
       "      <th>Adj-C</th>\n",
       "      <th>Adj-Vol</th>\n",
       "      <th>RSI</th>\n",
       "    </tr>\n",
       "  </thead>\n",
       "  <tbody>\n",
       "    <tr>\n",
       "      <th>39644</th>\n",
       "      <td>AAPL</td>\n",
       "      <td>1980-12-12</td>\n",
       "      <td>0.436051</td>\n",
       "      <td>0.437871</td>\n",
       "      <td>0.436051</td>\n",
       "      <td>0.436051</td>\n",
       "      <td>117258400.0</td>\n",
       "      <td>NaN</td>\n",
       "    </tr>\n",
       "    <tr>\n",
       "      <th>39645</th>\n",
       "      <td>AAPL</td>\n",
       "      <td>1980-12-15</td>\n",
       "      <td>0.415273</td>\n",
       "      <td>0.415273</td>\n",
       "      <td>0.413301</td>\n",
       "      <td>0.413301</td>\n",
       "      <td>43971200.0</td>\n",
       "      <td>NaN</td>\n",
       "    </tr>\n",
       "    <tr>\n",
       "      <th>39646</th>\n",
       "      <td>AAPL</td>\n",
       "      <td>1980-12-16</td>\n",
       "      <td>0.384787</td>\n",
       "      <td>0.384787</td>\n",
       "      <td>0.382967</td>\n",
       "      <td>0.382967</td>\n",
       "      <td>26432000.0</td>\n",
       "      <td>NaN</td>\n",
       "    </tr>\n",
       "    <tr>\n",
       "      <th>39647</th>\n",
       "      <td>AAPL</td>\n",
       "      <td>1980-12-17</td>\n",
       "      <td>0.392370</td>\n",
       "      <td>0.394342</td>\n",
       "      <td>0.392370</td>\n",
       "      <td>0.392370</td>\n",
       "      <td>21610400.0</td>\n",
       "      <td>NaN</td>\n",
       "    </tr>\n",
       "    <tr>\n",
       "      <th>39648</th>\n",
       "      <td>AAPL</td>\n",
       "      <td>1980-12-18</td>\n",
       "      <td>0.403897</td>\n",
       "      <td>0.405717</td>\n",
       "      <td>0.403897</td>\n",
       "      <td>0.403897</td>\n",
       "      <td>18362400.0</td>\n",
       "      <td>NaN</td>\n",
       "    </tr>\n",
       "  </tbody>\n",
       "</table>\n",
       "</div>"
      ],
      "text/plain": [
       "      Ticker        Date     Adj-O     Adj-H     Adj-L     Adj-C      Adj-Vol  \\\n",
       "39644   AAPL  1980-12-12  0.436051  0.437871  0.436051  0.436051  117258400.0   \n",
       "39645   AAPL  1980-12-15  0.415273  0.415273  0.413301  0.413301   43971200.0   \n",
       "39646   AAPL  1980-12-16  0.384787  0.384787  0.382967  0.382967   26432000.0   \n",
       "39647   AAPL  1980-12-17  0.392370  0.394342  0.392370  0.392370   21610400.0   \n",
       "39648   AAPL  1980-12-18  0.403897  0.405717  0.403897  0.403897   18362400.0   \n",
       "\n",
       "       RSI  \n",
       "39644  NaN  \n",
       "39645  NaN  \n",
       "39646  NaN  \n",
       "39647  NaN  \n",
       "39648  NaN  "
      ]
     },
     "execution_count": 17,
     "metadata": {},
     "output_type": "execute_result"
    }
   ],
   "source": [
    "aapl.head(5)"
   ]
  },
  {
   "cell_type": "markdown",
   "metadata": {},
   "source": [
    "Next I want to remove the first 14 columsn with NaNs for the RSI"
   ]
  },
  {
   "cell_type": "code",
   "execution_count": 18,
   "metadata": {
    "collapsed": false
   },
   "outputs": [],
   "source": [
    "aapl = aapl[14:]"
   ]
  },
  {
   "cell_type": "code",
   "execution_count": 19,
   "metadata": {
    "collapsed": false
   },
   "outputs": [
    {
     "data": {
      "text/html": [
       "<div>\n",
       "<table border=\"1\" class=\"dataframe\">\n",
       "  <thead>\n",
       "    <tr style=\"text-align: right;\">\n",
       "      <th></th>\n",
       "      <th>Ticker</th>\n",
       "      <th>Date</th>\n",
       "      <th>Adj-O</th>\n",
       "      <th>Adj-H</th>\n",
       "      <th>Adj-L</th>\n",
       "      <th>Adj-C</th>\n",
       "      <th>Adj-Vol</th>\n",
       "      <th>RSI</th>\n",
       "    </tr>\n",
       "  </thead>\n",
       "  <tbody>\n",
       "    <tr>\n",
       "      <th>39658</th>\n",
       "      <td>AAPL</td>\n",
       "      <td>1981-01-05</td>\n",
       "      <td>0.513706</td>\n",
       "      <td>0.513706</td>\n",
       "      <td>0.511886</td>\n",
       "      <td>0.511886</td>\n",
       "      <td>8932000.0</td>\n",
       "      <td>64.50</td>\n",
       "    </tr>\n",
       "    <tr>\n",
       "      <th>39659</th>\n",
       "      <td>AAPL</td>\n",
       "      <td>1981-01-06</td>\n",
       "      <td>0.490956</td>\n",
       "      <td>0.490956</td>\n",
       "      <td>0.489136</td>\n",
       "      <td>0.489136</td>\n",
       "      <td>11289600.0</td>\n",
       "      <td>64.50</td>\n",
       "    </tr>\n",
       "    <tr>\n",
       "      <th>39660</th>\n",
       "      <td>AAPL</td>\n",
       "      <td>1981-01-07</td>\n",
       "      <td>0.470177</td>\n",
       "      <td>0.470177</td>\n",
       "      <td>0.468357</td>\n",
       "      <td>0.468357</td>\n",
       "      <td>13921600.0</td>\n",
       "      <td>66.95</td>\n",
       "    </tr>\n",
       "    <tr>\n",
       "      <th>39661</th>\n",
       "      <td>AAPL</td>\n",
       "      <td>1981-01-08</td>\n",
       "      <td>0.460622</td>\n",
       "      <td>0.460622</td>\n",
       "      <td>0.458802</td>\n",
       "      <td>0.458802</td>\n",
       "      <td>9956800.0</td>\n",
       "      <td>63.18</td>\n",
       "    </tr>\n",
       "    <tr>\n",
       "      <th>39662</th>\n",
       "      <td>AAPL</td>\n",
       "      <td>1981-01-09</td>\n",
       "      <td>0.483524</td>\n",
       "      <td>0.485344</td>\n",
       "      <td>0.483524</td>\n",
       "      <td>0.483524</td>\n",
       "      <td>5376000.0</td>\n",
       "      <td>65.01</td>\n",
       "    </tr>\n",
       "  </tbody>\n",
       "</table>\n",
       "</div>"
      ],
      "text/plain": [
       "      Ticker        Date     Adj-O     Adj-H     Adj-L     Adj-C     Adj-Vol  \\\n",
       "39658   AAPL  1981-01-05  0.513706  0.513706  0.511886  0.511886   8932000.0   \n",
       "39659   AAPL  1981-01-06  0.490956  0.490956  0.489136  0.489136  11289600.0   \n",
       "39660   AAPL  1981-01-07  0.470177  0.470177  0.468357  0.468357  13921600.0   \n",
       "39661   AAPL  1981-01-08  0.460622  0.460622  0.458802  0.458802   9956800.0   \n",
       "39662   AAPL  1981-01-09  0.483524  0.485344  0.483524  0.483524   5376000.0   \n",
       "\n",
       "         RSI  \n",
       "39658  64.50  \n",
       "39659  64.50  \n",
       "39660  66.95  \n",
       "39661  63.18  \n",
       "39662  65.01  "
      ]
     },
     "execution_count": 19,
     "metadata": {},
     "output_type": "execute_result"
    }
   ],
   "source": [
    "aapl.head()"
   ]
  },
  {
   "cell_type": "markdown",
   "metadata": {},
   "source": [
    "Now I want to create some more columns that will show the prices for days where the RSI is < 30 & > 70.\n",
    "\n",
    "First I will create the Sell column with corresponding prices."
   ]
  },
  {
   "cell_type": "code",
   "execution_count": 20,
   "metadata": {
    "collapsed": false
   },
   "outputs": [],
   "source": [
    "aapl['Sell Price'] = pd.Series(0, np.arange(8935))"
   ]
  },
  {
   "cell_type": "code",
   "execution_count": 21,
   "metadata": {
    "collapsed": true
   },
   "outputs": [],
   "source": [
    "aapl.ix[aapl.RSI > 70, 'Sell Price'] = aapl['Adj-C']"
   ]
  },
  {
   "cell_type": "markdown",
   "metadata": {},
   "source": [
    "Next I will do the same for a Buy column."
   ]
  },
  {
   "cell_type": "code",
   "execution_count": 22,
   "metadata": {
    "collapsed": false
   },
   "outputs": [],
   "source": [
    "aapl['Buy Price'] = pd.Series(0, np.arange(8935))"
   ]
  },
  {
   "cell_type": "code",
   "execution_count": 23,
   "metadata": {
    "collapsed": true
   },
   "outputs": [],
   "source": [
    "aapl.ix[aapl.RSI < 30, 'Buy Price'] = aapl['Adj-C']"
   ]
  },
  {
   "cell_type": "markdown",
   "metadata": {},
   "source": [
    "I will also create several columns that represent holding periods of 1, 3, 5, & 10 days.  I think it will be beneficial to see whether or not arbitrary holding periods show better returns then the RSI > 70 sell point.  These holding periods can be played with and they are picked to represent the shorter term nature of this type of trade."
   ]
  },
  {
   "cell_type": "code",
   "execution_count": 24,
   "metadata": {
    "collapsed": true
   },
   "outputs": [],
   "source": [
    "base = aapl.copy()\n",
    "base = base['Adj-C']\n",
    "\n",
    "day_1 = base.shift(-1)\n",
    "day_3 = base.shift(-3)\n",
    "day_5 = base.shift(-5)\n",
    "day_10 = base.shift(-10)"
   ]
  },
  {
   "cell_type": "code",
   "execution_count": 25,
   "metadata": {
    "collapsed": false
   },
   "outputs": [],
   "source": [
    "aapl['Day 1'] = day_1\n",
    "aapl['Day 3'] = day_3\n",
    "aapl['Day 5'] = day_5\n",
    "aapl['Day 10'] = day_10"
   ]
  },
  {
   "cell_type": "code",
   "execution_count": 26,
   "metadata": {
    "collapsed": false
   },
   "outputs": [
    {
     "data": {
      "text/html": [
       "<div>\n",
       "<table border=\"1\" class=\"dataframe\">\n",
       "  <thead>\n",
       "    <tr style=\"text-align: right;\">\n",
       "      <th></th>\n",
       "      <th>Ticker</th>\n",
       "      <th>Date</th>\n",
       "      <th>Adj-O</th>\n",
       "      <th>Adj-H</th>\n",
       "      <th>Adj-L</th>\n",
       "      <th>Adj-C</th>\n",
       "      <th>Adj-Vol</th>\n",
       "      <th>RSI</th>\n",
       "      <th>Sell Price</th>\n",
       "      <th>Buy Price</th>\n",
       "      <th>Day 1</th>\n",
       "      <th>Day 3</th>\n",
       "      <th>Day 5</th>\n",
       "      <th>Day 10</th>\n",
       "    </tr>\n",
       "  </thead>\n",
       "  <tbody>\n",
       "    <tr>\n",
       "      <th>39658</th>\n",
       "      <td>AAPL</td>\n",
       "      <td>1981-01-05</td>\n",
       "      <td>0.513706</td>\n",
       "      <td>0.513706</td>\n",
       "      <td>0.511886</td>\n",
       "      <td>0.511886</td>\n",
       "      <td>8932000.0</td>\n",
       "      <td>64.50</td>\n",
       "      <td>NaN</td>\n",
       "      <td>NaN</td>\n",
       "      <td>0.489136</td>\n",
       "      <td>0.458802</td>\n",
       "      <td>0.479581</td>\n",
       "      <td>0.498539</td>\n",
       "    </tr>\n",
       "    <tr>\n",
       "      <th>39659</th>\n",
       "      <td>AAPL</td>\n",
       "      <td>1981-01-06</td>\n",
       "      <td>0.490956</td>\n",
       "      <td>0.490956</td>\n",
       "      <td>0.489136</td>\n",
       "      <td>0.489136</td>\n",
       "      <td>11289600.0</td>\n",
       "      <td>64.50</td>\n",
       "      <td>NaN</td>\n",
       "      <td>NaN</td>\n",
       "      <td>0.468357</td>\n",
       "      <td>0.483524</td>\n",
       "      <td>0.462594</td>\n",
       "      <td>0.483524</td>\n",
       "    </tr>\n",
       "    <tr>\n",
       "      <th>39660</th>\n",
       "      <td>AAPL</td>\n",
       "      <td>1981-01-07</td>\n",
       "      <td>0.470177</td>\n",
       "      <td>0.470177</td>\n",
       "      <td>0.468357</td>\n",
       "      <td>0.468357</td>\n",
       "      <td>13921600.0</td>\n",
       "      <td>66.95</td>\n",
       "      <td>NaN</td>\n",
       "      <td>NaN</td>\n",
       "      <td>0.458802</td>\n",
       "      <td>0.479581</td>\n",
       "      <td>0.464565</td>\n",
       "      <td>0.492928</td>\n",
       "    </tr>\n",
       "    <tr>\n",
       "      <th>39661</th>\n",
       "      <td>AAPL</td>\n",
       "      <td>1981-01-08</td>\n",
       "      <td>0.460622</td>\n",
       "      <td>0.460622</td>\n",
       "      <td>0.458802</td>\n",
       "      <td>0.458802</td>\n",
       "      <td>9956800.0</td>\n",
       "      <td>63.18</td>\n",
       "      <td>NaN</td>\n",
       "      <td>NaN</td>\n",
       "      <td>0.483524</td>\n",
       "      <td>0.462594</td>\n",
       "      <td>0.473969</td>\n",
       "      <td>0.498539</td>\n",
       "    </tr>\n",
       "    <tr>\n",
       "      <th>39662</th>\n",
       "      <td>AAPL</td>\n",
       "      <td>1981-01-09</td>\n",
       "      <td>0.483524</td>\n",
       "      <td>0.485344</td>\n",
       "      <td>0.483524</td>\n",
       "      <td>0.483524</td>\n",
       "      <td>5376000.0</td>\n",
       "      <td>65.01</td>\n",
       "      <td>NaN</td>\n",
       "      <td>NaN</td>\n",
       "      <td>0.479581</td>\n",
       "      <td>0.464565</td>\n",
       "      <td>0.470177</td>\n",
       "      <td>0.496719</td>\n",
       "    </tr>\n",
       "  </tbody>\n",
       "</table>\n",
       "</div>"
      ],
      "text/plain": [
       "      Ticker        Date     Adj-O     Adj-H     Adj-L     Adj-C     Adj-Vol  \\\n",
       "39658   AAPL  1981-01-05  0.513706  0.513706  0.511886  0.511886   8932000.0   \n",
       "39659   AAPL  1981-01-06  0.490956  0.490956  0.489136  0.489136  11289600.0   \n",
       "39660   AAPL  1981-01-07  0.470177  0.470177  0.468357  0.468357  13921600.0   \n",
       "39661   AAPL  1981-01-08  0.460622  0.460622  0.458802  0.458802   9956800.0   \n",
       "39662   AAPL  1981-01-09  0.483524  0.485344  0.483524  0.483524   5376000.0   \n",
       "\n",
       "         RSI  Sell Price  Buy Price     Day 1     Day 3     Day 5    Day 10  \n",
       "39658  64.50         NaN        NaN  0.489136  0.458802  0.479581  0.498539  \n",
       "39659  64.50         NaN        NaN  0.468357  0.483524  0.462594  0.483524  \n",
       "39660  66.95         NaN        NaN  0.458802  0.479581  0.464565  0.492928  \n",
       "39661  63.18         NaN        NaN  0.483524  0.462594  0.473969  0.498539  \n",
       "39662  65.01         NaN        NaN  0.479581  0.464565  0.470177  0.496719  "
      ]
     },
     "execution_count": 26,
     "metadata": {},
     "output_type": "execute_result"
    }
   ],
   "source": [
    "aapl.head(5)"
   ]
  },
  {
   "cell_type": "code",
   "execution_count": 27,
   "metadata": {
    "collapsed": false
   },
   "outputs": [
    {
     "data": {
      "text/html": [
       "<div>\n",
       "<table border=\"1\" class=\"dataframe\">\n",
       "  <thead>\n",
       "    <tr style=\"text-align: right;\">\n",
       "      <th></th>\n",
       "      <th>Ticker</th>\n",
       "      <th>Date</th>\n",
       "      <th>Adj-O</th>\n",
       "      <th>Adj-H</th>\n",
       "      <th>Adj-L</th>\n",
       "      <th>Adj-C</th>\n",
       "      <th>Adj-Vol</th>\n",
       "      <th>RSI</th>\n",
       "      <th>Sell Price</th>\n",
       "      <th>Buy Price</th>\n",
       "      <th>Day 1</th>\n",
       "      <th>Day 3</th>\n",
       "      <th>Day 5</th>\n",
       "      <th>Day 10</th>\n",
       "    </tr>\n",
       "  </thead>\n",
       "  <tbody>\n",
       "    <tr>\n",
       "      <th>48592</th>\n",
       "      <td>AAPL</td>\n",
       "      <td>2016-06-08</td>\n",
       "      <td>99.02</td>\n",
       "      <td>99.56</td>\n",
       "      <td>98.68</td>\n",
       "      <td>98.94</td>\n",
       "      <td>20689762.0</td>\n",
       "      <td>70.54</td>\n",
       "      <td>98.94</td>\n",
       "      <td>NaN</td>\n",
       "      <td>NaN</td>\n",
       "      <td>NaN</td>\n",
       "      <td>NaN</td>\n",
       "      <td>NaN</td>\n",
       "    </tr>\n",
       "  </tbody>\n",
       "</table>\n",
       "</div>"
      ],
      "text/plain": [
       "      Ticker        Date  Adj-O  Adj-H  Adj-L  Adj-C     Adj-Vol    RSI  \\\n",
       "48592   AAPL  2016-06-08  99.02  99.56  98.68  98.94  20689762.0  70.54   \n",
       "\n",
       "       Sell Price  Buy Price  Day 1  Day 3  Day 5  Day 10  \n",
       "48592       98.94        NaN    NaN    NaN    NaN     NaN  "
      ]
     },
     "execution_count": 27,
     "metadata": {},
     "output_type": "execute_result"
    }
   ],
   "source": [
    "aapl.tail(1)"
   ]
  },
  {
   "cell_type": "markdown",
   "metadata": {},
   "source": [
    "Now I have a complete dataset to begin working with."
   ]
  },
  {
   "cell_type": "markdown",
   "metadata": {},
   "source": [
    "# Analyzing the Data\n",
    "\n",
    "### A simple and naive regression\n",
    "\n",
    "First I am going to run a simple regression of the RSI column against the adjusted close column to see what that looks like."
   ]
  },
  {
   "cell_type": "code",
   "execution_count": 28,
   "metadata": {
    "collapsed": true
   },
   "outputs": [],
   "source": [
    "from sklearn.linear_model import LinearRegression"
   ]
  },
  {
   "cell_type": "code",
   "execution_count": 29,
   "metadata": {
    "collapsed": true
   },
   "outputs": [],
   "source": [
    "aapl_prices = aapl[['Adj-C']]\n",
    "aapl_rsi_d = aapl[['RSI']]"
   ]
  },
  {
   "cell_type": "markdown",
   "metadata": {},
   "source": [
    "Splitting the training & test data.  I will do this manually since the historical order of the data is important.  I want to train the model on the older data and test it on the newer data to see if there is any predictive abilities.  A **caveat** here, however, this where many of these types of strategies and analytical approaches end up overfitting and producing models the have *disatsrous* results in the real world."
   ]
  },
  {
   "cell_type": "code",
   "execution_count": 30,
   "metadata": {
    "collapsed": true
   },
   "outputs": [],
   "source": [
    "train_f = aapl_rsi_d[:7148]\n",
    "train_p = aapl_prices[:7148]\n",
    "test_f = aapl_rsi_d[7148:]\n",
    "test_p = aapl_prices[7148:]"
   ]
  },
  {
   "cell_type": "code",
   "execution_count": 31,
   "metadata": {
    "collapsed": false
   },
   "outputs": [
    {
     "data": {
      "text/plain": [
       "LinearRegression(copy_X=True, fit_intercept=True, n_jobs=1, normalize=False)"
      ]
     },
     "execution_count": 31,
     "metadata": {},
     "output_type": "execute_result"
    }
   ],
   "source": [
    "simple_linear = LinearRegression()\n",
    "simple_linear.fit(train_f, train_p)"
   ]
  },
  {
   "cell_type": "code",
   "execution_count": 32,
   "metadata": {
    "collapsed": false
   },
   "outputs": [],
   "source": [
    "predicted_price = simple_linear.predict(test_f)"
   ]
  },
  {
   "cell_type": "code",
   "execution_count": 33,
   "metadata": {
    "collapsed": false
   },
   "outputs": [
    {
     "data": {
      "text/plain": [
       "-4.4864101023722318"
      ]
     },
     "execution_count": 33,
     "metadata": {},
     "output_type": "execute_result"
    }
   ],
   "source": [
    "simple_linear.score(test_f, test_p)"
   ]
  },
  {
   "cell_type": "markdown",
   "metadata": {},
   "source": [
    "Not so good\n",
    "\n",
    "Let's see what the RSS is."
   ]
  },
  {
   "cell_type": "code",
   "execution_count": 34,
   "metadata": {
    "collapsed": false
   },
   "outputs": [
    {
     "data": {
      "text/plain": [
       "Adj-C    9.356749e+06\n",
       "dtype: float64"
      ]
     },
     "execution_count": 34,
     "metadata": {},
     "output_type": "execute_result"
    }
   ],
   "source": [
    "np.sum((predicted_price - test_p) ** 2)"
   ]
  },
  {
   "cell_type": "markdown",
   "metadata": {},
   "source": [
    "Let's plot this out"
   ]
  },
  {
   "cell_type": "code",
   "execution_count": 35,
   "metadata": {
    "collapsed": false
   },
   "outputs": [
    {
     "data": {
      "text/plain": [
       "[<matplotlib.lines.Line2D at 0x11914e150>]"
      ]
     },
     "execution_count": 35,
     "metadata": {},
     "output_type": "execute_result"
    },
    {
     "data": {
      "image/png": "[encoded data removed]",
      "text/plain": [
       "<matplotlib.figure.Figure at 0x11914e190>"
      ]
     },
     "metadata": {},
     "output_type": "display_data"
    }
   ],
   "source": [
    "plt.scatter(test_f.index, test_p, color='black')\n",
    "plt.plot(test_f.index, predicted_price, color='blue', linewidth=.5)"
   ]
  },
  {
   "cell_type": "markdown",
   "metadata": {},
   "source": [
    "Obviously simply using the RSI values without any type of filter to predict prices is not effective.\n",
    "\n",
    "Now I will use a number of features to see what the result is."
   ]
  },
  {
   "cell_type": "code",
   "execution_count": 36,
   "metadata": {
    "collapsed": true
   },
   "outputs": [],
   "source": [
    "multi_naive_features = aapl[['Adj-O', 'Adj-H', 'Adj-L', 'Adj-Vol', 'RSI']]\n",
    "\n",
    "multi_train_f = multi_naive_features[:7148]\n",
    "multi_test_f = multi_naive_features[7148:]"
   ]
  },
  {
   "cell_type": "code",
   "execution_count": 37,
   "metadata": {
    "collapsed": false
   },
   "outputs": [
    {
     "data": {
      "text/plain": [
       "LinearRegression(copy_X=True, fit_intercept=True, n_jobs=1, normalize=False)"
      ]
     },
     "execution_count": 37,
     "metadata": {},
     "output_type": "execute_result"
    }
   ],
   "source": [
    "multi_simple_linear = LinearRegression()\n",
    "multi_simple_linear.fit(multi_train_f, train_p)"
   ]
  },
  {
   "cell_type": "code",
   "execution_count": 38,
   "metadata": {
    "collapsed": false
   },
   "outputs": [],
   "source": [
    "multi_predicted_price = multi_simple_linear.predict(multi_test_f)"
   ]
  },
  {
   "cell_type": "code",
   "execution_count": 39,
   "metadata": {
    "collapsed": false
   },
   "outputs": [
    {
     "data": {
      "text/plain": [
       "0.99981783502231891"
      ]
     },
     "execution_count": 39,
     "metadata": {},
     "output_type": "execute_result"
    }
   ],
   "source": [
    "multi_simple_linear.score(multi_test_f, test_p)"
   ]
  },
  {
   "cell_type": "markdown",
   "metadata": {},
   "source": [
    "RSS"
   ]
  },
  {
   "cell_type": "code",
   "execution_count": 40,
   "metadata": {
    "collapsed": false
   },
   "outputs": [
    {
     "data": {
      "text/plain": [
       "Adj-C    310.671642\n",
       "dtype: float64"
      ]
     },
     "execution_count": 40,
     "metadata": {},
     "output_type": "execute_result"
    }
   ],
   "source": [
    "np.sum((multi_predicted_price - test_p) ** 2)"
   ]
  },
  {
   "cell_type": "code",
   "execution_count": 41,
   "metadata": {
    "collapsed": false
   },
   "outputs": [
    {
     "data": {
      "text/plain": [
       "[<matplotlib.lines.Line2D at 0x119141810>]"
      ]
     },
     "execution_count": 41,
     "metadata": {},
     "output_type": "execute_result"
    },
    {
     "data": {
      "image/png": "[encoded data removed]",
      "text/plain": [
       "<matplotlib.figure.Figure at 0x119141310>"
      ]
     },
     "metadata": {},
     "output_type": "display_data"
    }
   ],
   "source": [
    "plt.scatter(multi_test_f.index, test_p, color='black')\n",
    "plt.plot(multi_test_f.index, multi_predicted_price, color='blue', linewidth=.5)"
   ]
  },
  {
   "cell_type": "markdown",
   "metadata": {},
   "source": [
    "These are some overfit results.  Now it's time to start thinking about how to use the RSI thresholds described above.\n",
    "\n",
    "First I want to create another column that will show the post buy sell signal.  I want to keep a sell column as well, since it theoretically possible to use the overbought signal as signal to short.  Anecdotally the short signal using RSI hasn't not been considered very successful and any number of theories as to why have been floated, however, I have never tested this and want to keep that option open.\n",
    "\n",
    "I will create another new column, 'Sell Signal Price', which will hold the closing price when the sell signal is generated."
   ]
  },
  {
   "cell_type": "code",
   "execution_count": 51,
   "metadata": {
    "collapsed": false
   },
   "outputs": [
    {
     "data": {
      "text/html": [
       "<div>\n",
       "<table border=\"1\" class=\"dataframe\">\n",
       "  <thead>\n",
       "    <tr style=\"text-align: right;\">\n",
       "      <th></th>\n",
       "      <th>Ticker</th>\n",
       "      <th>Date</th>\n",
       "      <th>Adj-O</th>\n",
       "      <th>Adj-H</th>\n",
       "      <th>Adj-L</th>\n",
       "      <th>Adj-C</th>\n",
       "      <th>Adj-Vol</th>\n",
       "      <th>RSI</th>\n",
       "      <th>Sell Price</th>\n",
       "      <th>Buy Price</th>\n",
       "      <th>Day 1</th>\n",
       "      <th>Day 3</th>\n",
       "      <th>Day 5</th>\n",
       "      <th>Day 10</th>\n",
       "    </tr>\n",
       "  </thead>\n",
       "  <tbody>\n",
       "    <tr>\n",
       "      <th>39658</th>\n",
       "      <td>AAPL</td>\n",
       "      <td>1981-01-05</td>\n",
       "      <td>0.513706</td>\n",
       "      <td>0.513706</td>\n",
       "      <td>0.511886</td>\n",
       "      <td>0.511886</td>\n",
       "      <td>8932000.0</td>\n",
       "      <td>64.5</td>\n",
       "      <td>NaN</td>\n",
       "      <td>NaN</td>\n",
       "      <td>0.489136</td>\n",
       "      <td>0.458802</td>\n",
       "      <td>0.479581</td>\n",
       "      <td>0.498539</td>\n",
       "    </tr>\n",
       "    <tr>\n",
       "      <th>39659</th>\n",
       "      <td>AAPL</td>\n",
       "      <td>1981-01-06</td>\n",
       "      <td>0.490956</td>\n",
       "      <td>0.490956</td>\n",
       "      <td>0.489136</td>\n",
       "      <td>0.489136</td>\n",
       "      <td>11289600.0</td>\n",
       "      <td>64.5</td>\n",
       "      <td>NaN</td>\n",
       "      <td>NaN</td>\n",
       "      <td>0.468357</td>\n",
       "      <td>0.483524</td>\n",
       "      <td>0.462594</td>\n",
       "      <td>0.483524</td>\n",
       "    </tr>\n",
       "  </tbody>\n",
       "</table>\n",
       "</div>"
      ],
      "text/plain": [
       "      Ticker        Date     Adj-O     Adj-H     Adj-L     Adj-C     Adj-Vol  \\\n",
       "39658   AAPL  1981-01-05  0.513706  0.513706  0.511886  0.511886   8932000.0   \n",
       "39659   AAPL  1981-01-06  0.490956  0.490956  0.489136  0.489136  11289600.0   \n",
       "\n",
       "        RSI  Sell Price  Buy Price     Day 1     Day 3     Day 5    Day 10  \n",
       "39658  64.5         NaN        NaN  0.489136  0.458802  0.479581  0.498539  \n",
       "39659  64.5         NaN        NaN  0.468357  0.483524  0.462594  0.483524  "
      ]
     },
     "execution_count": 51,
     "metadata": {},
     "output_type": "execute_result"
    }
   ],
   "source": [
    "aapl.head(2)"
   ]
  },
  {
   "cell_type": "code",
   "execution_count": 43,
   "metadata": {
    "collapsed": false
   },
   "outputs": [],
   "source": [
    "quick = aapl[['Adj-C', 'RSI', 'Sell Price', 'Buy Price']]"
   ]
  },
  {
   "cell_type": "code",
   "execution_count": 44,
   "metadata": {
    "collapsed": false
   },
   "outputs": [
    {
     "name": "stderr",
     "output_type": "stream",
     "text": [
      "/Users/amagi/anaconda/envs/mlnd/lib/python2.7/site-packages/ipykernel/__main__.py:1: SettingWithCopyWarning: \n",
      "A value is trying to be set on a copy of a slice from a DataFrame.\n",
      "Try using .loc[row_indexer,col_indexer] = value instead\n",
      "\n",
      "See the caveats in the documentation: http://pandas.pydata.org/pandas-docs/stable/indexing.html#indexing-view-versus-copy\n",
      "  if __name__ == '__main__':\n"
     ]
    },
    {
     "data": {
      "text/html": [
       "<div>\n",
       "<table border=\"1\" class=\"dataframe\">\n",
       "  <thead>\n",
       "    <tr style=\"text-align: right;\">\n",
       "      <th></th>\n",
       "      <th>Adj-C</th>\n",
       "      <th>RSI</th>\n",
       "      <th>Sell Price</th>\n",
       "      <th>Buy Price</th>\n",
       "      <th>Sell Signal Price</th>\n",
       "    </tr>\n",
       "  </thead>\n",
       "  <tbody>\n",
       "    <tr>\n",
       "      <th>39658</th>\n",
       "      <td>0.511886</td>\n",
       "      <td>64.50</td>\n",
       "      <td>NaN</td>\n",
       "      <td>NaN</td>\n",
       "      <td>NaN</td>\n",
       "    </tr>\n",
       "    <tr>\n",
       "      <th>39659</th>\n",
       "      <td>0.489136</td>\n",
       "      <td>64.50</td>\n",
       "      <td>NaN</td>\n",
       "      <td>NaN</td>\n",
       "      <td>NaN</td>\n",
       "    </tr>\n",
       "    <tr>\n",
       "      <th>39660</th>\n",
       "      <td>0.468357</td>\n",
       "      <td>66.95</td>\n",
       "      <td>NaN</td>\n",
       "      <td>NaN</td>\n",
       "      <td>NaN</td>\n",
       "    </tr>\n",
       "    <tr>\n",
       "      <th>39661</th>\n",
       "      <td>0.458802</td>\n",
       "      <td>63.18</td>\n",
       "      <td>NaN</td>\n",
       "      <td>NaN</td>\n",
       "      <td>NaN</td>\n",
       "    </tr>\n",
       "    <tr>\n",
       "      <th>39662</th>\n",
       "      <td>0.483524</td>\n",
       "      <td>65.01</td>\n",
       "      <td>NaN</td>\n",
       "      <td>NaN</td>\n",
       "      <td>NaN</td>\n",
       "    </tr>\n",
       "  </tbody>\n",
       "</table>\n",
       "</div>"
      ],
      "text/plain": [
       "          Adj-C    RSI  Sell Price  Buy Price  Sell Signal Price\n",
       "39658  0.511886  64.50         NaN        NaN                NaN\n",
       "39659  0.489136  64.50         NaN        NaN                NaN\n",
       "39660  0.468357  66.95         NaN        NaN                NaN\n",
       "39661  0.458802  63.18         NaN        NaN                NaN\n",
       "39662  0.483524  65.01         NaN        NaN                NaN"
      ]
     },
     "execution_count": 44,
     "metadata": {},
     "output_type": "execute_result"
    }
   ],
   "source": [
    "quick['Sell Signal Price'] = pd.Series(0, np.arange(8935))\n",
    "quick.head()"
   ]
  },
  {
   "cell_type": "code",
   "execution_count": 45,
   "metadata": {
    "collapsed": false
   },
   "outputs": [
    {
     "name": "stdout",
     "output_type": "stream",
     "text": [
      "Adj-C                 0.399954\n",
      "RSI                  71.410000\n",
      "Sell Price            0.399954\n",
      "Buy Price             0.000000\n",
      "Sell Signal Price     0.000000\n",
      "Name: 39720, dtype: float64\n",
      "Adj-C                 0.470177\n",
      "RSI                  29.550000\n",
      "Sell Price            0.000000\n",
      "Buy Price             0.470177\n",
      "Sell Signal Price     0.000000\n",
      "Name: 39667, dtype: float64\n"
     ]
    }
   ],
   "source": [
    "quick = quick.fillna(0)\n",
    "print quick.iloc[62]\n",
    "print quick.iloc[9]"
   ]
  },
  {
   "cell_type": "markdown",
   "metadata": {},
   "source": [
    "Now I will make a for loop to populate this new column with the relevant closing prices."
   ]
  },
  {
   "cell_type": "code",
   "execution_count": 47,
   "metadata": {
    "collapsed": false
   },
   "outputs": [],
   "source": [
    "for price in quick.iterrows():\n",
    "    if 0 < price[1][1] < 30:\n",
    "        place = quick.query(price[0])\n",
    "        p_start = quick.index.get_loc(place.name)\n",
    "        temp_list = quick[p_start:]\n",
    "        \n",
    "        for i in temp_list.iterrows():\n",
    "            if i[1][1] > 70:\n",
    "                price[1][4] = i[1][0]\n",
    "                break"
   ]
  },
  {
   "cell_type": "code",
   "execution_count": 49,
   "metadata": {
    "collapsed": false
   },
   "outputs": [
    {
     "name": "stdout",
     "output_type": "stream",
     "text": [
      "Adj-C                 0.470177\n",
      "RSI                  29.550000\n",
      "Sell Price            0.000000\n",
      "Buy Price             0.470177\n",
      "Sell Signal Price     0.399954\n",
      "Name: 39667, dtype: float64\n"
     ]
    }
   ],
   "source": [
    "print quick.iloc[9]"
   ]
  },
  {
   "cell_type": "markdown",
   "metadata": {},
   "source": [
    "Now we have multiple columns with various price data."
   ]
  },
  {
   "cell_type": "code",
   "execution_count": 50,
   "metadata": {
    "collapsed": false
   },
   "outputs": [
    {
     "data": {
      "text/html": [
       "<div>\n",
       "<table border=\"1\" class=\"dataframe\">\n",
       "  <thead>\n",
       "    <tr style=\"text-align: right;\">\n",
       "      <th></th>\n",
       "      <th>Adj-C</th>\n",
       "      <th>RSI</th>\n",
       "      <th>Sell Price</th>\n",
       "      <th>Buy Price</th>\n",
       "      <th>Sell Signal Price</th>\n",
       "    </tr>\n",
       "  </thead>\n",
       "  <tbody>\n",
       "    <tr>\n",
       "      <th>39658</th>\n",
       "      <td>0.511886</td>\n",
       "      <td>64.50</td>\n",
       "      <td>0.0</td>\n",
       "      <td>0.0</td>\n",
       "      <td>0.0</td>\n",
       "    </tr>\n",
       "    <tr>\n",
       "      <th>39659</th>\n",
       "      <td>0.489136</td>\n",
       "      <td>64.50</td>\n",
       "      <td>0.0</td>\n",
       "      <td>0.0</td>\n",
       "      <td>0.0</td>\n",
       "    </tr>\n",
       "    <tr>\n",
       "      <th>39660</th>\n",
       "      <td>0.468357</td>\n",
       "      <td>66.95</td>\n",
       "      <td>0.0</td>\n",
       "      <td>0.0</td>\n",
       "      <td>0.0</td>\n",
       "    </tr>\n",
       "    <tr>\n",
       "      <th>39661</th>\n",
       "      <td>0.458802</td>\n",
       "      <td>63.18</td>\n",
       "      <td>0.0</td>\n",
       "      <td>0.0</td>\n",
       "      <td>0.0</td>\n",
       "    </tr>\n",
       "    <tr>\n",
       "      <th>39662</th>\n",
       "      <td>0.483524</td>\n",
       "      <td>65.01</td>\n",
       "      <td>0.0</td>\n",
       "      <td>0.0</td>\n",
       "      <td>0.0</td>\n",
       "    </tr>\n",
       "  </tbody>\n",
       "</table>\n",
       "</div>"
      ],
      "text/plain": [
       "          Adj-C    RSI  Sell Price  Buy Price  Sell Signal Price\n",
       "39658  0.511886  64.50         0.0        0.0                0.0\n",
       "39659  0.489136  64.50         0.0        0.0                0.0\n",
       "39660  0.468357  66.95         0.0        0.0                0.0\n",
       "39661  0.458802  63.18         0.0        0.0                0.0\n",
       "39662  0.483524  65.01         0.0        0.0                0.0"
      ]
     },
     "execution_count": 50,
     "metadata": {},
     "output_type": "execute_result"
    }
   ],
   "source": [
    "quick.head()"
   ]
  },
  {
   "cell_type": "code",
   "execution_count": 56,
   "metadata": {
    "collapsed": false
   },
   "outputs": [],
   "source": [
    "# quick_300 = quick.iloc[:300]"
   ]
  },
  {
   "cell_type": "code",
   "execution_count": 62,
   "metadata": {
    "collapsed": false
   },
   "outputs": [],
   "source": [
    "# quick_multiple = quick_300['Adj-C'] * 10"
   ]
  },
  {
   "cell_type": "code",
   "execution_count": 69,
   "metadata": {
    "collapsed": false
   },
   "outputs": [],
   "source": [
    "# from matplotlib.axes import Axes\n",
    "\n",
    "# plt.figure(figsize=(15,15))\n",
    "# plt.scatter(quick_300.index, quick_multiple)\n",
    "# # plt.yscale('log')\n",
    "# plt.plot(quick_300.index, quick_300['RSI'], color='red', linewidth=1)"
   ]
  },
  {
   "cell_type": "code",
   "execution_count": 70,
   "metadata": {
    "collapsed": true
   },
   "outputs": [],
   "source": [
    "new_features = quick[['RSI', 'Buy Price']]\n",
    "new_prices = quick[['Sell Signal Price']]\n",
    "\n",
    "new_ftrain = new_features[:7148]\n",
    "new_ptrain = new_prices[:7148]\n",
    "new_ftest = new_features[7148:]\n",
    "new_ptest = new_prices[7148:]"
   ]
  },
  {
   "cell_type": "code",
   "execution_count": 71,
   "metadata": {
    "collapsed": false
   },
   "outputs": [
    {
     "data": {
      "text/plain": [
       "LinearRegression(copy_X=True, fit_intercept=True, n_jobs=1, normalize=False)"
      ]
     },
     "execution_count": 71,
     "metadata": {},
     "output_type": "execute_result"
    }
   ],
   "source": [
    "rsi_30_model = LinearRegression()\n",
    "rsi_30_model.fit(new_ftrain, new_ptrain)"
   ]
  },
  {
   "cell_type": "code",
   "execution_count": 73,
   "metadata": {
    "collapsed": false
   },
   "outputs": [],
   "source": [
    "new_30_predictions = rsi_30_model.predict(new_ftest)"
   ]
  },
  {
   "cell_type": "code",
   "execution_count": 74,
   "metadata": {
    "collapsed": false
   },
   "outputs": [
    {
     "data": {
      "text/plain": [
       "0.98512976758219584"
      ]
     },
     "execution_count": 74,
     "metadata": {},
     "output_type": "execute_result"
    }
   ],
   "source": [
    "rsi_30_model.score(new_ftest, new_ptest)"
   ]
  },
  {
   "cell_type": "code",
   "execution_count": 75,
   "metadata": {
    "collapsed": false
   },
   "outputs": [
    {
     "data": {
      "text/plain": [
       "Sell Signal Price    11671.091729\n",
       "dtype: float64"
      ]
     },
     "execution_count": 75,
     "metadata": {},
     "output_type": "execute_result"
    }
   ],
   "source": [
    "np.sum((new_30_predictions - new_ptest) ** 2)"
   ]
  },
  {
   "cell_type": "code",
   "execution_count": 77,
   "metadata": {
    "collapsed": false
   },
   "outputs": [
    {
     "data": {
      "text/plain": [
       "[<matplotlib.lines.Line2D at 0x11ac0c610>]"
      ]
     },
     "execution_count": 77,
     "metadata": {},
     "output_type": "execute_result"
    },
    {
     "data": {
      "image/png": "[encoded data removed]",
      "text/plain": [
       "<matplotlib.figure.Figure at 0x11ac0c450>"
      ]
     },
     "metadata": {},
     "output_type": "display_data"
    }
   ],
   "source": [
    "plt.scatter(new_ftest.index, new_ptest, color='black')\n",
    "plt.plot(new_ftest.index, new_30_predictions, color='blue', linewidth=1)"
   ]
  },
  {
   "cell_type": "markdown",
   "metadata": {},
   "source": [
    "### Using a decision tree regressor"
   ]
  },
  {
   "cell_type": "code",
   "execution_count": 78,
   "metadata": {
    "collapsed": true
   },
   "outputs": [],
   "source": [
    "from sklearn.tree import DecisionTreeRegressor"
   ]
  },
  {
   "cell_type": "code",
   "execution_count": 80,
   "metadata": {
    "collapsed": true
   },
   "outputs": [],
   "source": [
    "trereg_2 = DecisionTreeRegressor(max_depth=2)\n",
    "trereg_5 = DecisionTreeRegressor(max_depth=5)"
   ]
  },
  {
   "cell_type": "code",
   "execution_count": 81,
   "metadata": {
    "collapsed": false
   },
   "outputs": [
    {
     "data": {
      "text/plain": [
       "DecisionTreeRegressor(criterion='mse', max_depth=5, max_features=None,\n",
       "           max_leaf_nodes=None, min_samples_leaf=1, min_samples_split=2,\n",
       "           min_weight_fraction_leaf=0.0, presort=False, random_state=None,\n",
       "           splitter='best')"
      ]
     },
     "execution_count": 81,
     "metadata": {},
     "output_type": "execute_result"
    }
   ],
   "source": [
    "trereg_2.fit(new_ftrain, new_ptrain)\n",
    "trereg_5.fit(new_ftrain, new_ptrain)"
   ]
  },
  {
   "cell_type": "code",
   "execution_count": 83,
   "metadata": {
    "collapsed": false
   },
   "outputs": [],
   "source": [
    "tree_2_predict = trereg_2.predict(new_ftest)"
   ]
  },
  {
   "cell_type": "code",
   "execution_count": 84,
   "metadata": {
    "collapsed": true
   },
   "outputs": [],
   "source": [
    "tree_5_predict = trereg_5.predict(new_ftest)"
   ]
  },
  {
   "cell_type": "code",
   "execution_count": 85,
   "metadata": {
    "collapsed": false
   },
   "outputs": [
    {
     "data": {
      "text/plain": [
       "0.29166041143263166"
      ]
     },
     "execution_count": 85,
     "metadata": {},
     "output_type": "execute_result"
    }
   ],
   "source": [
    "trereg_2.score(new_ftest, new_ptest)"
   ]
  },
  {
   "cell_type": "code",
   "execution_count": 86,
   "metadata": {
    "collapsed": false
   },
   "outputs": [
    {
     "data": {
      "text/plain": [
       "0.27080168559486484"
      ]
     },
     "execution_count": 86,
     "metadata": {},
     "output_type": "execute_result"
    }
   ],
   "source": [
    "trereg_5.score(new_ftest, new_ptest)"
   ]
  },
  {
   "cell_type": "code",
   "execution_count": 117,
   "metadata": {
    "collapsed": false
   },
   "outputs": [],
   "source": [
    "rsi_30_actual = new_ptest.as_matrix(columns=['Sell Signal Price'])\n",
    "rsi_30_actual =  rsi_30_actual.reshape((1787,))"
   ]
  },
  {
   "cell_type": "code",
   "execution_count": 119,
   "metadata": {
    "collapsed": false
   },
   "outputs": [
    {
     "data": {
      "text/plain": [
       "555949.3679156045"
      ]
     },
     "execution_count": 119,
     "metadata": {},
     "output_type": "execute_result"
    }
   ],
   "source": [
    "np.sum((tree_2_predict - rsi_30_actual) ** 2)"
   ]
  },
  {
   "cell_type": "code",
   "execution_count": 120,
   "metadata": {
    "collapsed": false
   },
   "outputs": [
    {
     "data": {
      "text/plain": [
       "572320.60514729063"
      ]
     },
     "execution_count": 120,
     "metadata": {},
     "output_type": "execute_result"
    }
   ],
   "source": [
    "np.sum((tree_5_predict - rsi_30_actual) ** 2)"
   ]
  },
  {
   "cell_type": "code",
   "execution_count": 121,
   "metadata": {
    "collapsed": false
   },
   "outputs": [
    {
     "data": {
      "text/plain": [
       "[<matplotlib.lines.Line2D at 0x11c5576d0>]"
      ]
     },
     "execution_count": 121,
     "metadata": {},
     "output_type": "execute_result"
    },
    {
     "data": {
      "image/png": "[encoded data removed]",
      "text/plain": [
       "<matplotlib.figure.Figure at 0x11c5571d0>"
      ]
     },
     "metadata": {},
     "output_type": "display_data"
    }
   ],
   "source": [
    "plt.scatter(new_ftest.index, new_ptest, color='black')\n",
    "plt.plot(new_ftest.index, tree_2_predict, color='blue', linewidth=1)"
   ]
  },
  {
   "cell_type": "code",
   "execution_count": 122,
   "metadata": {
    "collapsed": false
   },
   "outputs": [
    {
     "data": {
      "text/plain": [
       "[<matplotlib.lines.Line2D at 0x11bd74210>]"
      ]
     },
     "execution_count": 122,
     "metadata": {},
     "output_type": "execute_result"
    },
    {
     "data": {
      "image/png": "[encoded data removed]",
      "text/plain": [
       "<matplotlib.figure.Figure at 0x1172ffd50>"
      ]
     },
     "metadata": {},
     "output_type": "display_data"
    }
   ],
   "source": [
    "plt.scatter(new_ftest.index, new_ptest, color='black')\n",
    "plt.plot(new_ftest.index, tree_5_predict, color='blue', linewidth=1)"
   ]
  },
  {
   "cell_type": "code",
   "execution_count": 127,
   "metadata": {
    "collapsed": true
   },
   "outputs": [],
   "source": [
    "trereg_20 = DecisionTreeRegressor(max_depth=20)\n",
    "trereg_20.fit(new_ftrain, new_ptrain)\n",
    "tree_20_predict = trereg_20.predict(new_ftest)"
   ]
  },
  {
   "cell_type": "code",
   "execution_count": 128,
   "metadata": {
    "collapsed": false
   },
   "outputs": [
    {
     "data": {
      "text/plain": [
       "0.28727977271820282"
      ]
     },
     "execution_count": 128,
     "metadata": {},
     "output_type": "execute_result"
    }
   ],
   "source": [
    "trereg_20.score(new_ftest, new_ptest)"
   ]
  },
  {
   "cell_type": "code",
   "execution_count": 129,
   "metadata": {
    "collapsed": false
   },
   "outputs": [
    {
     "data": {
      "text/plain": [
       "559387.56812869583"
      ]
     },
     "execution_count": 129,
     "metadata": {},
     "output_type": "execute_result"
    }
   ],
   "source": [
    "np.sum((tree_20_predict - rsi_30_actual) ** 2)"
   ]
  },
  {
   "cell_type": "code",
   "execution_count": 130,
   "metadata": {
    "collapsed": false
   },
   "outputs": [
    {
     "data": {
      "text/plain": [
       "[<matplotlib.lines.Line2D at 0x11a3bc4d0>]"
      ]
     },
     "execution_count": 130,
     "metadata": {},
     "output_type": "execute_result"
    },
    {
     "data": {
      "image/png": "[encoded data removed]",
      "text/plain": [
       "<matplotlib.figure.Figure at 0x11a3bcb50>"
      ]
     },
     "metadata": {},
     "output_type": "display_data"
    }
   ],
   "source": [
    "plt.scatter(new_ftest.index, new_ptest, color='black')\n",
    "plt.plot(new_ftest.index, tree_20_predict, color='blue', linewidth=1)"
   ]
  },
  {
   "cell_type": "markdown",
   "metadata": {},
   "source": [
    "## Using holding periods\n",
    "\n",
    "In order to avoid training each possibilty by hand, I'll now write a function to automate the process.  This idea is inspired by University of Washingtons Linear Regression course on Coursera."
   ]
  },
  {
   "cell_type": "code",
   "execution_count": 155,
   "metadata": {
    "collapsed": true
   },
   "outputs": [],
   "source": [
    "periods = ['Day 1', 'Day 3', 'Day 5', 'Day 10']\n",
    "hold_features = ['RSI', 'Buy Price']\n",
    "\n",
    "quick = aapl[['RSI', 'Buy Price', 'Day 1', 'Day 3', 'Day 5', 'Day 10']]"
   ]
  },
  {
   "cell_type": "code",
   "execution_count": 161,
   "metadata": {
    "collapsed": true
   },
   "outputs": [],
   "source": [
    "def predictor(data, periods, features):\n",
    "    \"\"\"\n",
    "    A function to automate the modeling for linear regression.  The data param is the data set\n",
    "    that the models will be trained on and predictions made from.  The periods param will contain a list of\n",
    "    the columns that will contain the relevant price data.\n",
    "    \"\"\"\n",
    "    \n",
    "    #Create and prepare the feature data set.\n",
    "    features = data[features]\n",
    "    features = features.fillna(0)\n",
    "#     features = features.reshape((8935,1))\n",
    "    train_f = features[:7148]\n",
    "    test_f = features[7148:]\n",
    "    \n",
    "    for i in periods:\n",
    "        #Create and prepare the price data set.\n",
    "        prices = data[i]\n",
    "        prices = prices.fillna(0)\n",
    "        prices = prices.reshape((8935,1))\n",
    "        \n",
    "        train_p = prices[:7148]\n",
    "        test_p = prices[7148:]\n",
    "        \n",
    "        #Train model & make predictions.\n",
    "        model = LinearRegression()\n",
    "        model.fit(train_f, train_p)\n",
    "        predictions = model.predict(test_f)\n",
    "        \n",
    "        #Get RSS.\n",
    "        rss = np.sum((predictions - test_p) ** 2)\n",
    "        \n",
    "        #Model score.\n",
    "        score = model.score(test_f, test_p)\n",
    "        \n",
    "        print \"The score, {}, and RSS, {}, of the model for {}\".format(score, rss, i)\n",
    "    "
   ]
  },
  {
   "cell_type": "code",
   "execution_count": 162,
   "metadata": {
    "collapsed": false
   },
   "outputs": [
    {
     "name": "stdout",
     "output_type": "stream",
     "text": [
      "The score, -4.05448784097, and RSS, 8630669.29191, of the model for Day 1\n",
      "The score, -4.04152152132, and RSS, 8629283.47635, of the model for Day 3\n",
      "The score, -4.03151988386, and RSS, 8632681.31584, of the model for Day 5\n",
      "The score, -4.00502160549, and RSS, 8636099.24864, of the model for Day 10\n"
     ]
    }
   ],
   "source": [
    "predictor(quick, periods, hold_features)"
   ]
  },
  {
   "cell_type": "code",
   "execution_count": null,
   "metadata": {
    "collapsed": true
   },
   "outputs": [],
   "source": []
  }
 ],
 "metadata": {
  "kernelspec": {
   "display_name": "Python 2",
   "language": "python",
   "name": "python2"
  },
  "language_info": {
   "codemirror_mode": {
    "name": "ipython",
    "version": 2
   },
   "file_extension": ".py",
   "mimetype": "text/x-python",
   "name": "python",
   "nbconvert_exporter": "python",
   "pygments_lexer": "ipython2",
   "version": "2.7.12"
  }
 },
 "nbformat": 4,
 "nbformat_minor": 0
}
